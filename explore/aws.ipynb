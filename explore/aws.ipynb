{
 "cells": [
  {
   "cell_type": "code",
   "execution_count": 2,
   "metadata": {
    "collapsed": false
   },
   "outputs": [
    {
     "name": "stdout",
     "output_type": "stream",
     "text": [
      "/Users/crupley/gal/hoodie\n"
     ]
    }
   ],
   "source": [
    "%cd .."
   ]
  },
  {
   "cell_type": "code",
   "execution_count": 6,
   "metadata": {
    "collapsed": true
   },
   "outputs": [],
   "source": [
    "import cPickle as pickle"
   ]
  },
  {
   "cell_type": "markdown",
   "metadata": {},
   "source": [
    "## aws setup\n",
    "\n",
    "* AMI: ami-d1737bb8\n",
    "* `ssh -i ~/.ssh/pare.pem ubuntu@ec2-54-152-230-61.compute-1.amazonaws.com`\n",
    "* `sudo pip install networkx`\n",
    "* c3 first cut time: 517s (8.6 min)\n",
    "* `nohup python code/aws.py &`\n",
    "* `ps aux | grep python`"
   ]
  },
  {
   "cell_type": "code",
   "execution_count": 1,
   "metadata": {
    "collapsed": true
   },
   "outputs": [],
   "source": [
    "import os"
   ]
  },
  {
   "cell_type": "code",
   "execution_count": 3,
   "metadata": {
    "collapsed": false
   },
   "outputs": [
    {
     "data": {
      "text/plain": [
       "True"
      ]
     },
     "execution_count": 3,
     "metadata": {},
     "output_type": "execute_result"
    }
   ],
   "source": [
    "os.path.exists('results/g070605.csv')"
   ]
  },
  {
   "cell_type": "code",
   "execution_count": 4,
   "metadata": {
    "collapsed": false
   },
   "outputs": [
    {
     "data": {
      "text/plain": [
       "False"
      ]
     },
     "execution_count": 4,
     "metadata": {},
     "output_type": "execute_result"
    }
   ],
   "source": [
    "os.path.exists('results/g0')"
   ]
  },
  {
   "cell_type": "code",
   "execution_count": 10,
   "metadata": {
    "collapsed": false
   },
   "outputs": [
    {
     "data": {
      "text/plain": [
       "17038"
      ]
     },
     "execution_count": 10,
     "metadata": {},
     "output_type": "execute_result"
    }
   ],
   "source": [
    "graph = pickle.load(open('g070605.pkl', 'rb'))\n",
    "graph.number_of_edges()"
   ]
  },
  {
   "cell_type": "code",
   "execution_count": 13,
   "metadata": {
    "collapsed": false
   },
   "outputs": [
    {
     "name": "stdout",
     "output_type": "stream",
     "text": [
      "4869 6141\n",
      "165 3618\n",
      "953 3551\n",
      "2602 5562\n",
      "7 539\n",
      "844 2163\n",
      "178 4066\n"
     ]
    },
    {
     "data": {
      "text/plain": [
       "17031"
      ]
     },
     "execution_count": 13,
     "metadata": {},
     "output_type": "execute_result"
    }
   ],
   "source": [
    "if os.path.exists('results/g070605.csv'):\n",
    "    with open('results/g070605.csv') as f:\n",
    "        line = f.readline()\n",
    "        for line in f.readlines():\n",
    "            lsp = line.split(',')\n",
    "            print lsp[0], lsp[1]\n",
    "            graph.remove_edge(float(lsp[0]), float(lsp[1]))\n",
    "graph.number_of_edges()"
   ]
  },
  {
   "cell_type": "code",
   "execution_count": 12,
   "metadata": {
    "collapsed": false
   },
   "outputs": [
    {
     "data": {
      "text/plain": [
       "{306.0: {'sim': 0.11035280028405346},\n",
       " 1545.0: {'sim': 0.17359831941039469},\n",
       " 4688.0: {'sim': 0.07686065483280631},\n",
       " 5565.0: {'sim': 0.16180848958166794},\n",
       " 6141.0: {'sim': 0.052975607308183945}}"
      ]
     },
     "execution_count": 12,
     "metadata": {},
     "output_type": "execute_result"
    }
   ],
   "source": [
    "graph[4869]"
   ]
  },
  {
   "cell_type": "markdown",
   "metadata": {},
   "source": [
    "# graph-tool"
   ]
  },
  {
   "cell_type": "markdown",
   "metadata": {},
   "source": [
    "* `lsb_release -a` - ubuntu version\n",
    "* `do-release-upgrade` - upgrade ubuntu\n",
    "\n",
    "https://graph-tool.skewed.de/download\n",
    "* For Ubuntu, add the following lines to your `/etc/apt/sources.list`,:\n",
    "\n",
    "    ```\n",
    "    deb http://downloads.skewed.de/apt/DISTRIBUTION DISTRIBUTION universe\n",
    "    deb-src http://downloads.skewed.de/apt/DISTRIBUTION DISTRIBUTION universe\n",
    "    ```\n",
    "    \n",
    "    where DISTRIBUTION can be any one of\n",
    "    \n",
    "    ```\n",
    "    trusty, topic, vivid, wily\n",
    "    ```\n",
    "* When using Ubuntu 14.04.3 LTS (Trusty Tahr), it is necessary need to install the following PPA repository, which contains a newer GCC version and associated libraries:\n",
    "\n",
    "    ```\n",
    "    sudo add-apt-repository ppa:ubuntu-toolchain-r/test\n",
    "    ```\n",
    "\n",
    "* After running apt-get update, the package can be installed with\n",
    "    ```\n",
    "    sudo apt-get update\n",
    "    sudo apt-get install python-graph-tool\n",
    "    ```\n",
    "    \n",
    "* `sudo pip install networkx`"
   ]
  }
 ],
 "metadata": {
  "kernelspec": {
   "display_name": "Python 2",
   "language": "python",
   "name": "python2"
  },
  "language_info": {
   "codemirror_mode": {
    "name": "ipython",
    "version": 2
   },
   "file_extension": ".py",
   "mimetype": "text/x-python",
   "name": "python",
   "nbconvert_exporter": "python",
   "pygments_lexer": "ipython2",
   "version": "2.7.10"
  }
 },
 "nbformat": 4,
 "nbformat_minor": 0
}
