{
 "cells": [
  {
   "cell_type": "code",
   "execution_count": 1,
   "metadata": {
    "collapsed": false
   },
   "outputs": [
    {
     "name": "stdout",
     "output_type": "stream",
     "text": [
      "/Users/crupley/gal/hoodie\n"
     ]
    }
   ],
   "source": [
    "%cd .."
   ]
  },
  {
   "cell_type": "code",
   "execution_count": 6,
   "metadata": {
    "collapsed": true
   },
   "outputs": [],
   "source": [
    "import numpy as np\n",
    "import pandas as pd\n",
    "import networkx as nx\n",
    "import cPickle as pickle\n",
    "\n",
    "from code.featurize import find_closest\n",
    "import code.graph as gr"
   ]
  },
  {
   "cell_type": "code",
   "execution_count": 3,
   "metadata": {
    "collapsed": true
   },
   "outputs": [],
   "source": [
    "f = pickle.load(open('features.pkl', 'rb'))"
   ]
  },
  {
   "cell_type": "code",
   "execution_count": 14,
   "metadata": {
    "collapsed": true
   },
   "outputs": [],
   "source": [
    "df = f.fsmooth.copy()"
   ]
  },
  {
   "cell_type": "markdown",
   "metadata": {},
   "source": [
    "# 2 edges"
   ]
  },
  {
   "cell_type": "code",
   "execution_count": 22,
   "metadata": {
    "collapsed": false
   },
   "outputs": [
    {
     "name": "stdout",
     "output_type": "stream",
     "text": [
      "(7325, 2)\n",
      "CPU times: user 13min 31s, sys: 8.9 s, total: 13min 40s\n",
      "Wall time: 14min 1s\n"
     ]
    }
   ],
   "source": [
    "%%time\n",
    "edges = gr.make_edges(df[['lat', 'lon']], nneibs=2, anglelim=90)\n",
    "print edges.shape\n",
    "edges.head()"
   ]
  },
  {
   "cell_type": "code",
   "execution_count": 23,
   "metadata": {
    "collapsed": false
   },
   "outputs": [
    {
     "name": "stdout",
     "output_type": "stream",
     "text": [
      "Name: \n",
      "Type: Graph\n",
      "Number of nodes: 7325\n",
      "Number of edges: 5258\n",
      "Average degree:   1.4356\n",
      "Number of clusters: 2067\n",
      "Largest cluster: 13\n"
     ]
    }
   ],
   "source": [
    "g = gr.make_graph(edges, edge_attr=None)\n",
    "gr.graph_info(g)"
   ]
  },
  {
   "cell_type": "code",
   "execution_count": 24,
   "metadata": {
    "collapsed": false
   },
   "outputs": [
    {
     "name": "stdout",
     "output_type": "stream",
     "text": [
      "CPU times: user 1min 12s, sys: 1.14 s, total: 1min 13s\n",
      "Wall time: 1min 17s\n"
     ]
    }
   ],
   "source": [
    "%time ebc = nx.edge_betweenness_centrality(g)"
   ]
  },
  {
   "cell_type": "code",
   "execution_count": 31,
   "metadata": {
    "collapsed": false
   },
   "outputs": [
    {
     "name": "stdout",
     "output_type": "stream",
     "text": [
      "Full reduction: 281.156944444 hours\n"
     ]
    }
   ],
   "source": [
    "print 'Full reduction:', 77 * 5258 / 60. / 24., 'hours'"
   ]
  },
  {
   "cell_type": "markdown",
   "metadata": {},
   "source": [
    "# 3 edges"
   ]
  },
  {
   "cell_type": "code",
   "execution_count": 25,
   "metadata": {
    "collapsed": false
   },
   "outputs": [
    {
     "name": "stdout",
     "output_type": "stream",
     "text": [
      "(7325, 2)\n",
      "CPU times: user 13min 11s, sys: 4.92 s, total: 13min 16s\n",
      "Wall time: 13min 23s\n"
     ]
    }
   ],
   "source": [
    "%%time\n",
    "edges = gr.make_edges(df[['lat', 'lon']], nneibs=3, anglelim=60)\n",
    "print edges.shape\n",
    "edges.head()"
   ]
  },
  {
   "cell_type": "code",
   "execution_count": 26,
   "metadata": {
    "collapsed": false
   },
   "outputs": [
    {
     "name": "stdout",
     "output_type": "stream",
     "text": [
      "Name: \n",
      "Type: Graph\n",
      "Number of nodes: 7325\n",
      "Number of edges: 5258\n",
      "Average degree:   1.4356\n",
      "Number of clusters: 2067\n",
      "Largest cluster: 13\n"
     ]
    }
   ],
   "source": [
    "g = gr.make_graph(edges, edge_attr=None)\n",
    "gr.graph_info(g)"
   ]
  },
  {
   "cell_type": "code",
   "execution_count": 27,
   "metadata": {
    "collapsed": false
   },
   "outputs": [
    {
     "name": "stdout",
     "output_type": "stream",
     "text": [
      "CPU times: user 1min 1s, sys: 375 ms, total: 1min 1s\n",
      "Wall time: 1min 1s\n"
     ]
    }
   ],
   "source": [
    "%time ebc = nx.edge_betweenness_centrality(g)"
   ]
  },
  {
   "cell_type": "markdown",
   "metadata": {},
   "source": [
    "# 4 edges"
   ]
  },
  {
   "cell_type": "code",
   "execution_count": 28,
   "metadata": {
    "collapsed": false
   },
   "outputs": [
    {
     "name": "stdout",
     "output_type": "stream",
     "text": [
      "(36902, 2)\n",
      "CPU times: user 55min 57s, sys: 21.9 s, total: 56min 19s\n",
      "Wall time: 56min 31s\n"
     ]
    }
   ],
   "source": [
    "%%time\n",
    "edges = gr.make_edges(df[['lat', 'lon']], nneibs=4)\n",
    "print edges.shape\n",
    "edges.head()"
   ]
  },
  {
   "cell_type": "code",
   "execution_count": 29,
   "metadata": {
    "collapsed": false
   },
   "outputs": [
    {
     "name": "stdout",
     "output_type": "stream",
     "text": [
      "Name: \n",
      "Type: Graph\n",
      "Number of nodes: 7325\n",
      "Number of edges: 23555\n",
      "Average degree:   6.4314\n",
      "Number of clusters: 5\n",
      "Largest cluster: 7295\n"
     ]
    }
   ],
   "source": [
    "g = gr.make_graph(edges, edge_attr=None)\n",
    "gr.graph_info(g)"
   ]
  },
  {
   "cell_type": "code",
   "execution_count": 30,
   "metadata": {
    "collapsed": false
   },
   "outputs": [
    {
     "name": "stdout",
     "output_type": "stream",
     "text": [
      "CPU times: user 8min 17s, sys: 6.22 s, total: 8min 23s\n",
      "Wall time: 8min 23s\n"
     ]
    }
   ],
   "source": [
    "%time ebc = nx.edge_betweenness_centrality(g)"
   ]
  },
  {
   "cell_type": "code",
   "execution_count": 32,
   "metadata": {
    "collapsed": false
   },
   "outputs": [
    {
     "name": "stdout",
     "output_type": "stream",
     "text": [
      "Full reduction: 8227.89236111 hours\n"
     ]
    }
   ],
   "source": [
    "print 'Full reduction:', (8+23./60) * 23555 / 24., 'hours'"
   ]
  }
 ],
 "metadata": {
  "kernelspec": {
   "display_name": "Python 2",
   "language": "python",
   "name": "python2"
  },
  "language_info": {
   "codemirror_mode": {
    "name": "ipython",
    "version": 2
   },
   "file_extension": ".py",
   "mimetype": "text/x-python",
   "name": "python",
   "nbconvert_exporter": "python",
   "pygments_lexer": "ipython2",
   "version": "2.7.10"
  }
 },
 "nbformat": 4,
 "nbformat_minor": 0
}
