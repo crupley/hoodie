{
 "cells": [
  {
   "cell_type": "code",
   "execution_count": 1,
   "metadata": {
    "collapsed": false
   },
   "outputs": [
    {
     "name": "stdout",
     "output_type": "stream",
     "text": [
      "/Users/crupley/gal/hoodie\n"
     ]
    }
   ],
   "source": [
    "%cd .."
   ]
  },
  {
   "cell_type": "code",
   "execution_count": 34,
   "metadata": {
    "collapsed": false
   },
   "outputs": [],
   "source": [
    "import itertools\n",
    "import cPickle as pickle\n",
    "\n",
    "from code.graphreduce import build_graph\n",
    "from code.featurize import fdist_by_node"
   ]
  },
  {
   "cell_type": "code",
   "execution_count": 5,
   "metadata": {
    "collapsed": true
   },
   "outputs": [],
   "source": [
    "f = pickle.load(open('features.pkl', 'rb'))\n",
    "df = f.fsmooth.copy()\n",
    "edges = pickle.load(open('edges.pkl', 'rb'))"
   ]
  },
  {
   "cell_type": "code",
   "execution_count": 6,
   "metadata": {
    "collapsed": false
   },
   "outputs": [
    {
     "data": {
      "text/plain": [
       "['taxable_value',\n",
       " 'grocery',\n",
       " 'restaurant',\n",
       " 'retail',\n",
       " 'ncrimes',\n",
       " 'sgnf',\n",
       " 'avg_hh_size',\n",
       " 'population',\n",
       " 'walkscore']"
      ]
     },
     "execution_count": 6,
     "metadata": {},
     "output_type": "execute_result"
    }
   ],
   "source": [
    "f.allfeatures"
   ]
  },
  {
   "cell_type": "code",
   "execution_count": 27,
   "metadata": {
    "collapsed": true
   },
   "outputs": [],
   "source": [
    "fnums = {0: 'taxable_value',\n",
    "         1: 'grocery',\n",
    "         #2: 'restaurant',\n",
    "         #3: 'retail',\n",
    "         4: 'ncrimes',\n",
    "         5: 'sgnf',\n",
    "         6: 'avg_hh_size',\n",
    "         7: 'population',\n",
    "         8: 'walkscore'}\n",
    "flist = fnums.keys()"
   ]
  },
  {
   "cell_type": "code",
   "execution_count": 30,
   "metadata": {
    "collapsed": false
   },
   "outputs": [
    {
     "name": "stdout",
     "output_type": "stream",
     "text": [
      "7\n",
      "21\n",
      "35\n",
      "35\n",
      "21\n",
      "7\n",
      "1\n",
      "127\n"
     ]
    }
   ],
   "source": [
    "perms = []\n",
    "for i in range(1, len(flist)+1):\n",
    "    perm = list(itertools.combinations(flist, i))\n",
    "    perms.extend(perm)\n",
    "    print len(perm)\n",
    "\n",
    "print len(perms)"
   ]
  },
  {
   "cell_type": "markdown",
   "metadata": {},
   "source": [
    "# make list of graphs"
   ]
  },
  {
   "cell_type": "code",
   "execution_count": 66,
   "metadata": {
    "collapsed": true
   },
   "outputs": [],
   "source": [
    "# unweighted\n",
    "fdist = pd.Series(1, index=edges.index)\n",
    "gxx = build_graph(edges, fdist, graph_name='CLxx')"
   ]
  },
  {
   "cell_type": "code",
   "execution_count": 67,
   "metadata": {
    "collapsed": false
   },
   "outputs": [
    {
     "name": "stdout",
     "output_type": "stream",
     "text": [
      "CPU times: user 41.4 s, sys: 377 ms, total: 41.8 s\n",
      "Wall time: 41.8 s\n"
     ]
    }
   ],
   "source": [
    "%%time\n",
    "# population\n",
    "fdist = edges.apply(lambda x: fdist_by_node(x.node1, x.node2, df[[fnums[7]]]), axis = 1)\n",
    "g07 = build_graph(edges, fdist, graph_name='CL07')"
   ]
  },
  {
   "cell_type": "code",
   "execution_count": 68,
   "metadata": {
    "collapsed": true
   },
   "outputs": [],
   "source": [
    "# grocery, crime, household size\n",
    "cats = (1, 4, 6)\n",
    "fdist = edges.apply(lambda x: fdist_by_node(x.node1, x.node2,\n",
    "                                            df[[fnums[c] for c in cats]]), axis = 1)\n",
    "g010406 = build_graph(edges, fdist, graph_name='CL010406')"
   ]
  },
  {
   "cell_type": "code",
   "execution_count": 69,
   "metadata": {
    "collapsed": true
   },
   "outputs": [],
   "source": [
    "# tax, household size, population\n",
    "cats = (0, 6, 7)\n",
    "fdist = edges.apply(lambda x: fdist_by_node(x.node1, x.node2,\n",
    "                                            df[[fnums[c] for c in cats]]), axis = 1)\n",
    "g000607 = build_graph(edges, fdist, graph_name='CL000607')"
   ]
  },
  {
   "cell_type": "code",
   "execution_count": 73,
   "metadata": {
    "collapsed": true
   },
   "outputs": [],
   "source": [
    "# tax, household size, population, walkscore\n",
    "cats = (0, 6, 7, 8)\n",
    "fdist = edges.apply(lambda x: fdist_by_node(x.node1, x.node2,\n",
    "                                            df[[fnums[c] for c in cats]]), axis = 1)\n",
    "g00060708 = build_graph(edges, fdist, graph_name='CL00060708')"
   ]
  },
  {
   "cell_type": "code",
   "execution_count": 74,
   "metadata": {
    "collapsed": true
   },
   "outputs": [],
   "source": [
    "# grocery, ncrimes, sgnf\n",
    "cats = (1, 4, 5)\n",
    "fdist = edges.apply(lambda x: fdist_by_node(x.node1, x.node2,\n",
    "                                            df[[fnums[c] for c in cats]]), axis = 1)\n",
    "g010405 = build_graph(edges, fdist, graph_name='CL010405')"
   ]
  },
  {
   "cell_type": "code",
   "execution_count": 76,
   "metadata": {
    "collapsed": false
   },
   "outputs": [],
   "source": [
    "# grocery, ncrimes, sgnf, walkscore\n",
    "cats = (1, 4, 5, 8)\n",
    "fdist = edges.apply(lambda x: fdist_by_node(x.node1, x.node2,\n",
    "                                            df[[fnums[c] for c in cats]]), axis = 1)\n",
    "g01040508 = build_graph(edges, fdist, graph_name='CL01040508')"
   ]
  },
  {
   "cell_type": "code",
   "execution_count": 77,
   "metadata": {
    "collapsed": true
   },
   "outputs": [],
   "source": [
    "# tax, grocery, sgnf, hh_size, pop, walkscore\n",
    "cats = (0, 1, 5, 6, 7, 8)\n",
    "fdist = edges.apply(lambda x: fdist_by_node(x.node1, x.node2,\n",
    "                                            df[[fnums[c] for c in cats]]), axis = 1)\n",
    "g000105060708 = build_graph(edges, fdist, graph_name='CL000105060708')"
   ]
  },
  {
   "cell_type": "code",
   "execution_count": null,
   "metadata": {
    "collapsed": true
   },
   "outputs": [],
   "source": [
    "g4 = [gxx, g07, g010406, g000607]\n",
    "g4"
   ]
  },
  {
   "cell_type": "code",
   "execution_count": 71,
   "metadata": {
    "collapsed": false
   },
   "outputs": [
    {
     "data": {
      "text/plain": [
       "['CLxx', 'CL07', 'CL010406', 'CL000607']"
      ]
     },
     "execution_count": 71,
     "metadata": {},
     "output_type": "execute_result"
    }
   ],
   "source": [
    "[g.gp.Name for g in g4]"
   ]
  },
  {
   "cell_type": "code",
   "execution_count": 72,
   "metadata": {
    "collapsed": true
   },
   "outputs": [],
   "source": [
    "pickle.dump(g4, open('g4.pkl', 'wb'))"
   ]
  },
  {
   "cell_type": "code",
   "execution_count": 85,
   "metadata": {
    "collapsed": false
   },
   "outputs": [],
   "source": [
    "g8 = g4"
   ]
  },
  {
   "cell_type": "code",
   "execution_count": 86,
   "metadata": {
    "collapsed": false
   },
   "outputs": [
    {
     "data": {
      "text/plain": [
       "8"
      ]
     },
     "execution_count": 86,
     "metadata": {},
     "output_type": "execute_result"
    }
   ],
   "source": [
    "len(g8)"
   ]
  },
  {
   "cell_type": "code",
   "execution_count": 88,
   "metadata": {
    "collapsed": false
   },
   "outputs": [
    {
     "data": {
      "text/plain": [
       "['CLxx',\n",
       " 'CL07',\n",
       " 'CL010406',\n",
       " 'CL000607',\n",
       " 'CL00060708',\n",
       " 'CL010405',\n",
       " 'CL01040508',\n",
       " 'CL000105060708']"
      ]
     },
     "execution_count": 88,
     "metadata": {},
     "output_type": "execute_result"
    }
   ],
   "source": [
    "[g.gp.Name for g in g8]"
   ]
  },
  {
   "cell_type": "code",
   "execution_count": 87,
   "metadata": {
    "collapsed": true
   },
   "outputs": [],
   "source": [
    "pickle.dump(g8, open('g8.pkl', 'wb'))"
   ]
  }
 ],
 "metadata": {
  "kernelspec": {
   "display_name": "Python 2",
   "language": "python",
   "name": "python2"
  },
  "language_info": {
   "codemirror_mode": {
    "name": "ipython",
    "version": 2
   },
   "file_extension": ".py",
   "mimetype": "text/x-python",
   "name": "python",
   "nbconvert_exporter": "python",
   "pygments_lexer": "ipython2",
   "version": "2.7.10"
  }
 },
 "nbformat": 4,
 "nbformat_minor": 0
}
