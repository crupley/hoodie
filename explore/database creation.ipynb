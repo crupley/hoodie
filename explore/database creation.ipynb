{
 "cells": [
  {
   "cell_type": "code",
   "execution_count": 29,
   "metadata": {
    "collapsed": false
   },
   "outputs": [],
   "source": [
    "%matplotlib inline\n",
    "\n",
    "import numpy as np\n",
    "import pandas as pd\n",
    "import matplotlib.pyplot as plt\n",
    "\n",
    "import psycopg2"
   ]
  },
  {
   "cell_type": "markdown",
   "metadata": {},
   "source": [
    "# assessment"
   ]
  },
  {
   "cell_type": "code",
   "execution_count": 2,
   "metadata": {
    "collapsed": false
   },
   "outputs": [
    {
     "name": "stderr",
     "output_type": "stream",
     "text": [
      "/Users/crupley/anaconda/lib/python2.7/site-packages/IPython/core/interactiveshell.py:2871: DtypeWarning: Columns (1) have mixed types. Specify dtype option on import or set low_memory=False.\n",
      "  interactivity=interactivity, compiler=compiler, result=result)\n"
     ]
    }
   ],
   "source": [
    "df = pd.read_csv('../data/assessment/Secured_Property_Assessment_Roll_FY13_Q4.csv')"
   ]
  },
  {
   "cell_type": "code",
   "execution_count": 3,
   "metadata": {
    "collapsed": false
   },
   "outputs": [
    {
     "data": {
      "text/html": [
       "<div>\n",
       "<table border=\"1\" class=\"dataframe\">\n",
       "  <thead>\n",
       "    <tr style=\"text-align: right;\">\n",
       "      <th></th>\n",
       "      <th>Situs_Address</th>\n",
       "      <th>Situs_Zip</th>\n",
       "      <th>APN</th>\n",
       "      <th>RE</th>\n",
       "      <th>RE_Improvements</th>\n",
       "      <th>Fixtures_Value</th>\n",
       "      <th>PP_Value</th>\n",
       "      <th>District</th>\n",
       "      <th>Taxable_Value</th>\n",
       "      <th>geom</th>\n",
       "    </tr>\n",
       "  </thead>\n",
       "  <tbody>\n",
       "    <tr>\n",
       "      <th>0</th>\n",
       "      <td>NaN</td>\n",
       "      <td>94102</td>\n",
       "      <td>0001001</td>\n",
       "      <td>$0.00</td>\n",
       "      <td>$0.00</td>\n",
       "      <td>NaN</td>\n",
       "      <td>$0.00</td>\n",
       "      <td>General Property</td>\n",
       "      <td>$0.00</td>\n",
       "      <td>(37.8086657345267, -122.421558691582)</td>\n",
       "    </tr>\n",
       "    <tr>\n",
       "      <th>1</th>\n",
       "      <td>NaN</td>\n",
       "      <td>94102</td>\n",
       "      <td>0002001</td>\n",
       "      <td>$0.00</td>\n",
       "      <td>$0.00</td>\n",
       "      <td>NaN</td>\n",
       "      <td>$0.00</td>\n",
       "      <td>General Property</td>\n",
       "      <td>$0.00</td>\n",
       "      <td>(37.8087296429956, -122.420498649163)</td>\n",
       "    </tr>\n",
       "    <tr>\n",
       "      <th>2</th>\n",
       "      <td>NaN</td>\n",
       "      <td>94102</td>\n",
       "      <td>0004002</td>\n",
       "      <td>$0.00</td>\n",
       "      <td>$0.00</td>\n",
       "      <td>NaN</td>\n",
       "      <td>$0.00</td>\n",
       "      <td>General Property</td>\n",
       "      <td>$0.00</td>\n",
       "      <td>(37.8085082551122, -122.415083280065)</td>\n",
       "    </tr>\n",
       "    <tr>\n",
       "      <th>3</th>\n",
       "      <td>NaN</td>\n",
       "      <td>94102</td>\n",
       "      <td>0005001</td>\n",
       "      <td>$0.00</td>\n",
       "      <td>$0.00</td>\n",
       "      <td>NaN</td>\n",
       "      <td>$0.00</td>\n",
       "      <td>General Property</td>\n",
       "      <td>$0.00</td>\n",
       "      <td>(37.8084147785698, -122.416681695182)</td>\n",
       "    </tr>\n",
       "    <tr>\n",
       "      <th>4</th>\n",
       "      <td>NaN</td>\n",
       "      <td>94102</td>\n",
       "      <td>0006001</td>\n",
       "      <td>$0.00</td>\n",
       "      <td>$0.00</td>\n",
       "      <td>NaN</td>\n",
       "      <td>$0.00</td>\n",
       "      <td>General Property</td>\n",
       "      <td>$0.00</td>\n",
       "      <td>(37.8083224324003, -122.418348971767)</td>\n",
       "    </tr>\n",
       "  </tbody>\n",
       "</table>\n",
       "</div>"
      ],
      "text/plain": [
       "  Situs_Address Situs_Zip      APN     RE RE_Improvements Fixtures_Value  \\\n",
       "0           NaN     94102  0001001  $0.00           $0.00            NaN   \n",
       "1           NaN     94102  0002001  $0.00           $0.00            NaN   \n",
       "2           NaN     94102  0004002  $0.00           $0.00            NaN   \n",
       "3           NaN     94102  0005001  $0.00           $0.00            NaN   \n",
       "4           NaN     94102  0006001  $0.00           $0.00            NaN   \n",
       "\n",
       "  PP_Value          District Taxable_Value  \\\n",
       "0    $0.00  General Property         $0.00   \n",
       "1    $0.00  General Property         $0.00   \n",
       "2    $0.00  General Property         $0.00   \n",
       "3    $0.00  General Property         $0.00   \n",
       "4    $0.00  General Property         $0.00   \n",
       "\n",
       "                                    geom  \n",
       "0  (37.8086657345267, -122.421558691582)  \n",
       "1  (37.8087296429956, -122.420498649163)  \n",
       "2  (37.8085082551122, -122.415083280065)  \n",
       "3  (37.8084147785698, -122.416681695182)  \n",
       "4  (37.8083224324003, -122.418348971767)  "
      ]
     },
     "execution_count": 3,
     "metadata": {},
     "output_type": "execute_result"
    }
   ],
   "source": [
    "df.head()"
   ]
  },
  {
   "cell_type": "code",
   "execution_count": 4,
   "metadata": {
    "collapsed": false
   },
   "outputs": [
    {
     "name": "stdout",
     "output_type": "stream",
     "text": [
      "<class 'pandas.core.frame.DataFrame'>\n",
      "Int64Index: 204541 entries, 0 to 204540\n",
      "Data columns (total 10 columns):\n",
      "Situs_Address      202778 non-null object\n",
      "Situs_Zip          204478 non-null object\n",
      "APN                204541 non-null object\n",
      "RE                 204541 non-null object\n",
      "RE_Improvements    204541 non-null object\n",
      "Fixtures_Value     1146 non-null object\n",
      "PP_Value           204541 non-null object\n",
      "District           203974 non-null object\n",
      "Taxable_Value      204541 non-null object\n",
      "geom               204541 non-null object\n",
      "dtypes: object(10)\n",
      "memory usage: 17.2+ MB\n"
     ]
    }
   ],
   "source": [
    "df.info()"
   ]
  },
  {
   "cell_type": "code",
   "execution_count": 5,
   "metadata": {
    "collapsed": false
   },
   "outputs": [
    {
     "data": {
      "text/plain": [
       "['Situs_Address',\n",
       " 'Situs_Zip',\n",
       " 'APN',\n",
       " 'RE',\n",
       " 'RE_Improvements',\n",
       " 'Fixtures_Value',\n",
       " 'PP_Value',\n",
       " 'District',\n",
       " 'Taxable_Value',\n",
       " 'geom']"
      ]
     },
     "execution_count": 5,
     "metadata": {},
     "output_type": "execute_result"
    }
   ],
   "source": [
    "list(df.columns)"
   ]
  },
  {
   "cell_type": "code",
   "execution_count": 6,
   "metadata": {
    "collapsed": false
   },
   "outputs": [],
   "source": [
    "df.RE = df.RE.apply(lambda x: x.strip('$'))"
   ]
  },
  {
   "cell_type": "code",
   "execution_count": 7,
   "metadata": {
    "collapsed": false
   },
   "outputs": [
    {
     "name": "stdout",
     "output_type": "stream",
     "text": [
      "<class 'pandas.core.frame.DataFrame'>\n",
      "Int64Index: 204541 entries, 0 to 204540\n",
      "Data columns (total 10 columns):\n",
      "Situs_Address      202778 non-null object\n",
      "Situs_Zip          204478 non-null object\n",
      "APN                204541 non-null object\n",
      "RE                 204541 non-null float64\n",
      "RE_Improvements    204541 non-null object\n",
      "Fixtures_Value     1146 non-null object\n",
      "PP_Value           204541 non-null object\n",
      "District           203974 non-null object\n",
      "Taxable_Value      204541 non-null object\n",
      "geom               204541 non-null object\n",
      "dtypes: float64(1), object(9)\n",
      "memory usage: 17.2+ MB\n"
     ]
    }
   ],
   "source": [
    "df.RE = df.RE.astype('float')\n",
    "df.info()"
   ]
  },
  {
   "cell_type": "code",
   "execution_count": 67,
   "metadata": {
    "collapsed": true
   },
   "outputs": [],
   "source": [
    "%run ../code/makedbs.py"
   ]
  },
  {
   "cell_type": "code",
   "execution_count": null,
   "metadata": {
    "collapsed": true
   },
   "outputs": [],
   "source": [
    "make_assessment()"
   ]
  },
  {
   "cell_type": "code",
   "execution_count": 62,
   "metadata": {
    "collapsed": false
   },
   "outputs": [
    {
     "ename": "AttributeError",
     "evalue": "'NoneType' object has no attribute 'info'",
     "output_type": "error",
     "traceback": [
      "\u001b[0;31m---------------------------------------------------------------------------\u001b[0m",
      "\u001b[0;31mAttributeError\u001b[0m                            Traceback (most recent call last)",
      "\u001b[0;32m<ipython-input-62-7d65c69160e1>\u001b[0m in \u001b[0;36m<module>\u001b[0;34m()\u001b[0m\n\u001b[1;32m      1\u001b[0m \u001b[0mget_ipython\u001b[0m\u001b[0;34m(\u001b[0m\u001b[0;34m)\u001b[0m\u001b[0;34m.\u001b[0m\u001b[0mmagic\u001b[0m\u001b[0;34m(\u001b[0m\u001b[0;34mu'run ../code/makedbs.py'\u001b[0m\u001b[0;34m)\u001b[0m\u001b[0;34m\u001b[0m\u001b[0m\n\u001b[1;32m      2\u001b[0m \u001b[0mdf\u001b[0m \u001b[0;34m=\u001b[0m \u001b[0mmake_assessment\u001b[0m\u001b[0;34m(\u001b[0m\u001b[0;34m)\u001b[0m\u001b[0;34m\u001b[0m\u001b[0m\n\u001b[0;32m----> 3\u001b[0;31m \u001b[0;32mprint\u001b[0m \u001b[0mdf\u001b[0m\u001b[0;34m.\u001b[0m\u001b[0minfo\u001b[0m\u001b[0;34m(\u001b[0m\u001b[0;34m)\u001b[0m\u001b[0;34m\u001b[0m\u001b[0m\n\u001b[0m\u001b[1;32m      4\u001b[0m \u001b[0mdf\u001b[0m\u001b[0;34m.\u001b[0m\u001b[0mhead\u001b[0m\u001b[0;34m(\u001b[0m\u001b[0;34m)\u001b[0m\u001b[0;34m\u001b[0m\u001b[0m\n",
      "\u001b[0;31mAttributeError\u001b[0m: 'NoneType' object has no attribute 'info'"
     ]
    }
   ],
   "source": [
    "print df.info()\n",
    "df.head()"
   ]
  },
  {
   "cell_type": "code",
   "execution_count": 61,
   "metadata": {
    "collapsed": false
   },
   "outputs": [
    {
     "data": {
      "text/plain": [
       "['Situs_Address',\n",
       " 'Situs_Zip',\n",
       " 'APN',\n",
       " 'RE',\n",
       " 'RE_Improvements',\n",
       " 'PP_Value',\n",
       " 'District',\n",
       " 'Taxable_Value',\n",
       " 'lat',\n",
       " 'lon']"
      ]
     },
     "execution_count": 61,
     "metadata": {},
     "output_type": "execute_result"
    }
   ],
   "source": [
    "list(df.columns)"
   ]
  },
  {
   "cell_type": "markdown",
   "metadata": {},
   "source": [
    "# business"
   ]
  },
  {
   "cell_type": "code",
   "execution_count": 65,
   "metadata": {
    "collapsed": false
   },
   "outputs": [
    {
     "data": {
      "text/html": [
       "<div>\n",
       "<table border=\"1\" class=\"dataframe\">\n",
       "  <thead>\n",
       "    <tr style=\"text-align: right;\">\n",
       "      <th></th>\n",
       "      <th>Location_ID</th>\n",
       "      <th>Business_Account_Number</th>\n",
       "      <th>Ownership_Name</th>\n",
       "      <th>DBA Name</th>\n",
       "      <th>Street_Address</th>\n",
       "      <th>City</th>\n",
       "      <th>State</th>\n",
       "      <th>Zip_Code</th>\n",
       "      <th>Business_Start_Date</th>\n",
       "      <th>Business_End_Date</th>\n",
       "      <th>Location Start Date</th>\n",
       "      <th>Location_End_Date</th>\n",
       "      <th>Mail_Address</th>\n",
       "      <th>Mail_City_State_Zip</th>\n",
       "      <th>Class Code</th>\n",
       "      <th>PBC Code</th>\n",
       "      <th>Business_Location</th>\n",
       "    </tr>\n",
       "  </thead>\n",
       "  <tbody>\n",
       "    <tr>\n",
       "      <th>0</th>\n",
       "      <td>0000024-02-999</td>\n",
       "      <td>24</td>\n",
       "      <td>EASTMAN KODAK CO</td>\n",
       "      <td>EASTMAN KODAK CO</td>\n",
       "      <td>343 STATE ST</td>\n",
       "      <td>ROCHESTER</td>\n",
       "      <td>NY</td>\n",
       "      <td>14650</td>\n",
       "      <td>01/01/2003</td>\n",
       "      <td>NaN</td>\n",
       "      <td>01/01/2003</td>\n",
       "      <td>NaN</td>\n",
       "      <td>343 STATE STREET</td>\n",
       "      <td>ROCHESTER NY 14650-0904</td>\n",
       "      <td>08</td>\n",
       "      <td>5995</td>\n",
       "      <td>343 STATE ST\\nROCHESTER, NY 14650\\n(43.161198,...</td>\n",
       "    </tr>\n",
       "    <tr>\n",
       "      <th>1</th>\n",
       "      <td>0000028-02-001</td>\n",
       "      <td>28</td>\n",
       "      <td>FERRANDO LOUISE</td>\n",
       "      <td>3101 LAGUNA APTS</td>\n",
       "      <td>3101 LAGUNA ST</td>\n",
       "      <td>San Francisco</td>\n",
       "      <td>CA</td>\n",
       "      <td>94123</td>\n",
       "      <td>09/30/1993</td>\n",
       "      <td>NaN</td>\n",
       "      <td>09/30/1993</td>\n",
       "      <td>NaN</td>\n",
       "      <td>2799 CALIFORNIA ST</td>\n",
       "      <td>SAN FRANCISCO CA 94115-2513</td>\n",
       "      <td>07</td>\n",
       "      <td>7520</td>\n",
       "      <td>3101 LAGUNA ST\\nSan Francisco, CA 94123\\n(37.7...</td>\n",
       "    </tr>\n",
       "    <tr>\n",
       "      <th>2</th>\n",
       "      <td>0000052-01-001</td>\n",
       "      <td>52</td>\n",
       "      <td>IDEAL NOVAK CORP</td>\n",
       "      <td>IDEAL NOVAK CORP</td>\n",
       "      <td>8 MENDOSA AVE</td>\n",
       "      <td>San Francisco</td>\n",
       "      <td>CA</td>\n",
       "      <td>94116</td>\n",
       "      <td>10/01/1968</td>\n",
       "      <td>NaN</td>\n",
       "      <td>10/01/1968</td>\n",
       "      <td>NaN</td>\n",
       "      <td>8 MENDOSA AVE</td>\n",
       "      <td>SAN FRANCISCO CA 94116-1942</td>\n",
       "      <td>03</td>\n",
       "      <td>6511</td>\n",
       "      <td>8 MENDOSA AVE\\nSan Francisco, CA 94116\\n(37.74...</td>\n",
       "    </tr>\n",
       "    <tr>\n",
       "      <th>3</th>\n",
       "      <td>0000071-01-001</td>\n",
       "      <td>71</td>\n",
       "      <td>TOURNAHU GEORGE L</td>\n",
       "      <td>TOURNAHU ARMS</td>\n",
       "      <td>1842 JEFFERSON ST</td>\n",
       "      <td>San Francisco</td>\n",
       "      <td>CA</td>\n",
       "      <td>94123</td>\n",
       "      <td>10/01/1968</td>\n",
       "      <td>NaN</td>\n",
       "      <td>10/01/1968</td>\n",
       "      <td>NaN</td>\n",
       "      <td>4444 GEARY BLVD. 100</td>\n",
       "      <td>SAN FRANCISCO CA 94118-</td>\n",
       "      <td>07</td>\n",
       "      <td>0211</td>\n",
       "      <td>1842 JEFFERSON ST\\nSan Francisco, CA 94123\\n(3...</td>\n",
       "    </tr>\n",
       "    <tr>\n",
       "      <th>4</th>\n",
       "      <td>0000071-02-001</td>\n",
       "      <td>71</td>\n",
       "      <td>TOURNAHU GEORGE L</td>\n",
       "      <td>3301 BRODERICK APARTMENTS</td>\n",
       "      <td>3301 BRODERICK ST</td>\n",
       "      <td>San Francisco</td>\n",
       "      <td>CA</td>\n",
       "      <td>94123</td>\n",
       "      <td>10/01/1968</td>\n",
       "      <td>NaN</td>\n",
       "      <td>05/01/1988</td>\n",
       "      <td>NaN</td>\n",
       "      <td>4444 GEARY BLVD. 100</td>\n",
       "      <td>SAN FRANCISCO CA 94118-</td>\n",
       "      <td>07</td>\n",
       "      <td>0211</td>\n",
       "      <td>3301 BRODERICK ST\\nSan Francisco, CA 94123\\n(3...</td>\n",
       "    </tr>\n",
       "  </tbody>\n",
       "</table>\n",
       "</div>"
      ],
      "text/plain": [
       "      Location_ID  Business_Account_Number     Ownership_Name  \\\n",
       "0  0000024-02-999                       24   EASTMAN KODAK CO   \n",
       "1  0000028-02-001                       28    FERRANDO LOUISE   \n",
       "2  0000052-01-001                       52   IDEAL NOVAK CORP   \n",
       "3  0000071-01-001                       71  TOURNAHU GEORGE L   \n",
       "4  0000071-02-001                       71  TOURNAHU GEORGE L   \n",
       "\n",
       "                    DBA Name     Street_Address           City State  \\\n",
       "0           EASTMAN KODAK CO       343 STATE ST      ROCHESTER    NY   \n",
       "1           3101 LAGUNA APTS     3101 LAGUNA ST  San Francisco    CA   \n",
       "2           IDEAL NOVAK CORP      8 MENDOSA AVE  San Francisco    CA   \n",
       "3              TOURNAHU ARMS  1842 JEFFERSON ST  San Francisco    CA   \n",
       "4  3301 BRODERICK APARTMENTS  3301 BRODERICK ST  San Francisco    CA   \n",
       "\n",
       "   Zip_Code Business_Start_Date Business_End_Date Location Start Date  \\\n",
       "0     14650          01/01/2003               NaN          01/01/2003   \n",
       "1     94123          09/30/1993               NaN          09/30/1993   \n",
       "2     94116          10/01/1968               NaN          10/01/1968   \n",
       "3     94123          10/01/1968               NaN          10/01/1968   \n",
       "4     94123          10/01/1968               NaN          05/01/1988   \n",
       "\n",
       "  Location_End_Date          Mail_Address          Mail_City_State_Zip  \\\n",
       "0               NaN      343 STATE STREET      ROCHESTER NY 14650-0904   \n",
       "1               NaN    2799 CALIFORNIA ST  SAN FRANCISCO CA 94115-2513   \n",
       "2               NaN         8 MENDOSA AVE  SAN FRANCISCO CA 94116-1942   \n",
       "3               NaN  4444 GEARY BLVD. 100      SAN FRANCISCO CA 94118-   \n",
       "4               NaN  4444 GEARY BLVD. 100      SAN FRANCISCO CA 94118-   \n",
       "\n",
       "  Class Code PBC Code                                  Business_Location  \n",
       "0         08     5995  343 STATE ST\\nROCHESTER, NY 14650\\n(43.161198,...  \n",
       "1         07     7520  3101 LAGUNA ST\\nSan Francisco, CA 94123\\n(37.7...  \n",
       "2         03     6511  8 MENDOSA AVE\\nSan Francisco, CA 94116\\n(37.74...  \n",
       "3         07     0211  1842 JEFFERSON ST\\nSan Francisco, CA 94123\\n(3...  \n",
       "4         07     0211  3301 BRODERICK ST\\nSan Francisco, CA 94123\\n(3...  "
      ]
     },
     "execution_count": 65,
     "metadata": {},
     "output_type": "execute_result"
    }
   ],
   "source": [
    "df = pd.read_csv('../data/business/Registered_Business_Locations_-_San_Francisco.csv')\n",
    "df.head()"
   ]
  },
  {
   "cell_type": "code",
   "execution_count": 66,
   "metadata": {
    "collapsed": false
   },
   "outputs": [
    {
     "name": "stdout",
     "output_type": "stream",
     "text": [
      "<class 'pandas.core.frame.DataFrame'>\n",
      "Int64Index: 156111 entries, 0 to 156110\n",
      "Data columns (total 17 columns):\n",
      "Location_ID                156111 non-null object\n",
      "Business_Account_Number    156111 non-null int64\n",
      "Ownership_Name             156111 non-null object\n",
      "DBA Name                   156109 non-null object\n",
      "Street_Address             156109 non-null object\n",
      "City                       155839 non-null object\n",
      "State                      155463 non-null object\n",
      "Zip_Code                   156067 non-null float64\n",
      "Business_Start_Date        156111 non-null object\n",
      "Business_End_Date          17770 non-null object\n",
      "Location Start Date        156111 non-null object\n",
      "Location_End_Date          26668 non-null object\n",
      "Mail_Address               156110 non-null object\n",
      "Mail_City_State_Zip        156110 non-null object\n",
      "Class Code                 155969 non-null object\n",
      "PBC Code                   155739 non-null object\n",
      "Business_Location          155731 non-null object\n",
      "dtypes: float64(1), int64(1), object(15)\n",
      "memory usage: 21.4+ MB\n"
     ]
    }
   ],
   "source": [
    "df.info()"
   ]
  },
  {
   "cell_type": "code",
   "execution_count": null,
   "metadata": {
    "collapsed": true
   },
   "outputs": [],
   "source": [
    "df.columns"
   ]
  }
 ],
 "metadata": {
  "kernelspec": {
   "display_name": "Python 2",
   "language": "python",
   "name": "python2"
  },
  "language_info": {
   "codemirror_mode": {
    "name": "ipython",
    "version": 2
   },
   "file_extension": ".py",
   "mimetype": "text/x-python",
   "name": "python",
   "nbconvert_exporter": "python",
   "pygments_lexer": "ipython2",
   "version": "2.7.10"
  }
 },
 "nbformat": 4,
 "nbformat_minor": 0
}
