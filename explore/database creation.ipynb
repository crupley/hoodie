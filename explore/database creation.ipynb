{
 "cells": [
  {
   "cell_type": "code",
   "execution_count": 29,
   "metadata": {
    "collapsed": false
   },
   "outputs": [],
   "source": [
    "%matplotlib inline\n",
    "\n",
    "import numpy as np\n",
    "import pandas as pd\n",
    "import matplotlib.pyplot as plt\n",
    "\n",
    "import psycopg2"
   ]
  },
  {
   "cell_type": "markdown",
   "metadata": {},
   "source": [
    "# assessment"
   ]
  },
  {
   "cell_type": "code",
   "execution_count": 2,
   "metadata": {
    "collapsed": false
   },
   "outputs": [
    {
     "name": "stderr",
     "output_type": "stream",
     "text": [
      "/Users/crupley/anaconda/lib/python2.7/site-packages/IPython/core/interactiveshell.py:2871: DtypeWarning: Columns (1) have mixed types. Specify dtype option on import or set low_memory=False.\n",
      "  interactivity=interactivity, compiler=compiler, result=result)\n"
     ]
    }
   ],
   "source": [
    "df = pd.read_csv('../data/assessment/Secured_Property_Assessment_Roll_FY13_Q4.csv')"
   ]
  },
  {
   "cell_type": "code",
   "execution_count": 3,
   "metadata": {
    "collapsed": false
   },
   "outputs": [
    {
     "data": {
      "text/html": [
       "<div>\n",
       "<table border=\"1\" class=\"dataframe\">\n",
       "  <thead>\n",
       "    <tr style=\"text-align: right;\">\n",
       "      <th></th>\n",
       "      <th>Situs_Address</th>\n",
       "      <th>Situs_Zip</th>\n",
       "      <th>APN</th>\n",
       "      <th>RE</th>\n",
       "      <th>RE_Improvements</th>\n",
       "      <th>Fixtures_Value</th>\n",
       "      <th>PP_Value</th>\n",
       "      <th>District</th>\n",
       "      <th>Taxable_Value</th>\n",
       "      <th>geom</th>\n",
       "    </tr>\n",
       "  </thead>\n",
       "  <tbody>\n",
       "    <tr>\n",
       "      <th>0</th>\n",
       "      <td>NaN</td>\n",
       "      <td>94102</td>\n",
       "      <td>0001001</td>\n",
       "      <td>$0.00</td>\n",
       "      <td>$0.00</td>\n",
       "      <td>NaN</td>\n",
       "      <td>$0.00</td>\n",
       "      <td>General Property</td>\n",
       "      <td>$0.00</td>\n",
       "      <td>(37.8086657345267, -122.421558691582)</td>\n",
       "    </tr>\n",
       "    <tr>\n",
       "      <th>1</th>\n",
       "      <td>NaN</td>\n",
       "      <td>94102</td>\n",
       "      <td>0002001</td>\n",
       "      <td>$0.00</td>\n",
       "      <td>$0.00</td>\n",
       "      <td>NaN</td>\n",
       "      <td>$0.00</td>\n",
       "      <td>General Property</td>\n",
       "      <td>$0.00</td>\n",
       "      <td>(37.8087296429956, -122.420498649163)</td>\n",
       "    </tr>\n",
       "    <tr>\n",
       "      <th>2</th>\n",
       "      <td>NaN</td>\n",
       "      <td>94102</td>\n",
       "      <td>0004002</td>\n",
       "      <td>$0.00</td>\n",
       "      <td>$0.00</td>\n",
       "      <td>NaN</td>\n",
       "      <td>$0.00</td>\n",
       "      <td>General Property</td>\n",
       "      <td>$0.00</td>\n",
       "      <td>(37.8085082551122, -122.415083280065)</td>\n",
       "    </tr>\n",
       "    <tr>\n",
       "      <th>3</th>\n",
       "      <td>NaN</td>\n",
       "      <td>94102</td>\n",
       "      <td>0005001</td>\n",
       "      <td>$0.00</td>\n",
       "      <td>$0.00</td>\n",
       "      <td>NaN</td>\n",
       "      <td>$0.00</td>\n",
       "      <td>General Property</td>\n",
       "      <td>$0.00</td>\n",
       "      <td>(37.8084147785698, -122.416681695182)</td>\n",
       "    </tr>\n",
       "    <tr>\n",
       "      <th>4</th>\n",
       "      <td>NaN</td>\n",
       "      <td>94102</td>\n",
       "      <td>0006001</td>\n",
       "      <td>$0.00</td>\n",
       "      <td>$0.00</td>\n",
       "      <td>NaN</td>\n",
       "      <td>$0.00</td>\n",
       "      <td>General Property</td>\n",
       "      <td>$0.00</td>\n",
       "      <td>(37.8083224324003, -122.418348971767)</td>\n",
       "    </tr>\n",
       "  </tbody>\n",
       "</table>\n",
       "</div>"
      ],
      "text/plain": [
       "  Situs_Address Situs_Zip      APN     RE RE_Improvements Fixtures_Value  \\\n",
       "0           NaN     94102  0001001  $0.00           $0.00            NaN   \n",
       "1           NaN     94102  0002001  $0.00           $0.00            NaN   \n",
       "2           NaN     94102  0004002  $0.00           $0.00            NaN   \n",
       "3           NaN     94102  0005001  $0.00           $0.00            NaN   \n",
       "4           NaN     94102  0006001  $0.00           $0.00            NaN   \n",
       "\n",
       "  PP_Value          District Taxable_Value  \\\n",
       "0    $0.00  General Property         $0.00   \n",
       "1    $0.00  General Property         $0.00   \n",
       "2    $0.00  General Property         $0.00   \n",
       "3    $0.00  General Property         $0.00   \n",
       "4    $0.00  General Property         $0.00   \n",
       "\n",
       "                                    geom  \n",
       "0  (37.8086657345267, -122.421558691582)  \n",
       "1  (37.8087296429956, -122.420498649163)  \n",
       "2  (37.8085082551122, -122.415083280065)  \n",
       "3  (37.8084147785698, -122.416681695182)  \n",
       "4  (37.8083224324003, -122.418348971767)  "
      ]
     },
     "execution_count": 3,
     "metadata": {},
     "output_type": "execute_result"
    }
   ],
   "source": [
    "df.head()"
   ]
  },
  {
   "cell_type": "code",
   "execution_count": 4,
   "metadata": {
    "collapsed": false
   },
   "outputs": [
    {
     "name": "stdout",
     "output_type": "stream",
     "text": [
      "<class 'pandas.core.frame.DataFrame'>\n",
      "Int64Index: 204541 entries, 0 to 204540\n",
      "Data columns (total 10 columns):\n",
      "Situs_Address      202778 non-null object\n",
      "Situs_Zip          204478 non-null object\n",
      "APN                204541 non-null object\n",
      "RE                 204541 non-null object\n",
      "RE_Improvements    204541 non-null object\n",
      "Fixtures_Value     1146 non-null object\n",
      "PP_Value           204541 non-null object\n",
      "District           203974 non-null object\n",
      "Taxable_Value      204541 non-null object\n",
      "geom               204541 non-null object\n",
      "dtypes: object(10)\n",
      "memory usage: 17.2+ MB\n"
     ]
    }
   ],
   "source": [
    "df.info()"
   ]
  },
  {
   "cell_type": "code",
   "execution_count": 5,
   "metadata": {
    "collapsed": false
   },
   "outputs": [
    {
     "data": {
      "text/plain": [
       "['Situs_Address',\n",
       " 'Situs_Zip',\n",
       " 'APN',\n",
       " 'RE',\n",
       " 'RE_Improvements',\n",
       " 'Fixtures_Value',\n",
       " 'PP_Value',\n",
       " 'District',\n",
       " 'Taxable_Value',\n",
       " 'geom']"
      ]
     },
     "execution_count": 5,
     "metadata": {},
     "output_type": "execute_result"
    }
   ],
   "source": [
    "list(df.columns)"
   ]
  },
  {
   "cell_type": "code",
   "execution_count": 6,
   "metadata": {
    "collapsed": false
   },
   "outputs": [],
   "source": [
    "df.RE = df.RE.apply(lambda x: x.strip('$'))"
   ]
  },
  {
   "cell_type": "code",
   "execution_count": 7,
   "metadata": {
    "collapsed": false
   },
   "outputs": [
    {
     "name": "stdout",
     "output_type": "stream",
     "text": [
      "<class 'pandas.core.frame.DataFrame'>\n",
      "Int64Index: 204541 entries, 0 to 204540\n",
      "Data columns (total 10 columns):\n",
      "Situs_Address      202778 non-null object\n",
      "Situs_Zip          204478 non-null object\n",
      "APN                204541 non-null object\n",
      "RE                 204541 non-null float64\n",
      "RE_Improvements    204541 non-null object\n",
      "Fixtures_Value     1146 non-null object\n",
      "PP_Value           204541 non-null object\n",
      "District           203974 non-null object\n",
      "Taxable_Value      204541 non-null object\n",
      "geom               204541 non-null object\n",
      "dtypes: float64(1), object(9)\n",
      "memory usage: 17.2+ MB\n"
     ]
    }
   ],
   "source": [
    "df.RE = df.RE.astype('float')\n",
    "df.info()"
   ]
  },
  {
   "cell_type": "code",
   "execution_count": 63,
   "metadata": {
    "collapsed": true
   },
   "outputs": [],
   "source": [
    "%run ../code/makedbs.py"
   ]
  },
  {
   "cell_type": "code",
   "execution_count": null,
   "metadata": {
    "collapsed": true
   },
   "outputs": [],
   "source": [
    "df = make_assessment()"
   ]
  },
  {
   "cell_type": "code",
   "execution_count": 62,
   "metadata": {
    "collapsed": false
   },
   "outputs": [
    {
     "ename": "AttributeError",
     "evalue": "'NoneType' object has no attribute 'info'",
     "output_type": "error",
     "traceback": [
      "\u001b[0;31m---------------------------------------------------------------------------\u001b[0m",
      "\u001b[0;31mAttributeError\u001b[0m                            Traceback (most recent call last)",
      "\u001b[0;32m<ipython-input-62-7d65c69160e1>\u001b[0m in \u001b[0;36m<module>\u001b[0;34m()\u001b[0m\n\u001b[1;32m      1\u001b[0m \u001b[0mget_ipython\u001b[0m\u001b[0;34m(\u001b[0m\u001b[0;34m)\u001b[0m\u001b[0;34m.\u001b[0m\u001b[0mmagic\u001b[0m\u001b[0;34m(\u001b[0m\u001b[0;34mu'run ../code/makedbs.py'\u001b[0m\u001b[0;34m)\u001b[0m\u001b[0;34m\u001b[0m\u001b[0m\n\u001b[1;32m      2\u001b[0m \u001b[0mdf\u001b[0m \u001b[0;34m=\u001b[0m \u001b[0mmake_assessment\u001b[0m\u001b[0;34m(\u001b[0m\u001b[0;34m)\u001b[0m\u001b[0;34m\u001b[0m\u001b[0m\n\u001b[0;32m----> 3\u001b[0;31m \u001b[0;32mprint\u001b[0m \u001b[0mdf\u001b[0m\u001b[0;34m.\u001b[0m\u001b[0minfo\u001b[0m\u001b[0;34m(\u001b[0m\u001b[0;34m)\u001b[0m\u001b[0;34m\u001b[0m\u001b[0m\n\u001b[0m\u001b[1;32m      4\u001b[0m \u001b[0mdf\u001b[0m\u001b[0;34m.\u001b[0m\u001b[0mhead\u001b[0m\u001b[0;34m(\u001b[0m\u001b[0;34m)\u001b[0m\u001b[0;34m\u001b[0m\u001b[0m\n",
      "\u001b[0;31mAttributeError\u001b[0m: 'NoneType' object has no attribute 'info'"
     ]
    }
   ],
   "source": [
    "print df.info()\n",
    "df.head()"
   ]
  },
  {
   "cell_type": "code",
   "execution_count": 61,
   "metadata": {
    "collapsed": false
   },
   "outputs": [
    {
     "data": {
      "text/plain": [
       "['Situs_Address',\n",
       " 'Situs_Zip',\n",
       " 'APN',\n",
       " 'RE',\n",
       " 'RE_Improvements',\n",
       " 'PP_Value',\n",
       " 'District',\n",
       " 'Taxable_Value',\n",
       " 'lat',\n",
       " 'lon']"
      ]
     },
     "execution_count": 61,
     "metadata": {},
     "output_type": "execute_result"
    }
   ],
   "source": [
    "list(df.columns)"
   ]
  },
  {
   "cell_type": "code",
   "execution_count": null,
   "metadata": {
    "collapsed": true
   },
   "outputs": [],
   "source": []
  },
  {
   "cell_type": "code",
   "execution_count": 56,
   "metadata": {
    "collapsed": false
   },
   "outputs": [
    {
     "name": "stdout",
     "output_type": "stream",
     "text": [
      "<class 'pandas.core.frame.DataFrame'>\n",
      "Int64Index: 204541 entries, 0 to 204540\n",
      "Data columns (total 12 columns):\n",
      "Situs_Address      202778 non-null object\n",
      "Situs_Zip          204478 non-null object\n",
      "APN                204541 non-null object\n",
      "RE                 204541 non-null float64\n",
      "RE_Improvements    204541 non-null float64\n",
      "Fixtures_Value     1146 non-null object\n",
      "PP_Value           204541 non-null float64\n",
      "District           203974 non-null object\n",
      "Taxable_Value      204541 non-null float64\n",
      "geom               204541 non-null object\n",
      "lat                204541 non-null float64\n",
      "lon                204541 non-null float64\n",
      "dtypes: float64(6), object(6)\n",
      "memory usage: 20.3+ MB\n"
     ]
    }
   ],
   "source": [
    "df.info()"
   ]
  }
 ],
 "metadata": {
  "kernelspec": {
   "display_name": "Python 2",
   "language": "python",
   "name": "python2"
  },
  "language_info": {
   "codemirror_mode": {
    "name": "ipython",
    "version": 2
   },
   "file_extension": ".py",
   "mimetype": "text/x-python",
   "name": "python",
   "nbconvert_exporter": "python",
   "pygments_lexer": "ipython2",
   "version": "2.7.10"
  }
 },
 "nbformat": 4,
 "nbformat_minor": 0
}
