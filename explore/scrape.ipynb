{
 "cells": [
  {
   "cell_type": "code",
   "execution_count": 1,
   "metadata": {
    "collapsed": true
   },
   "outputs": [],
   "source": [
    "import psycopg2\n",
    "import requests"
   ]
  },
  {
   "cell_type": "code",
   "execution_count": 9,
   "metadata": {
    "collapsed": false
   },
   "outputs": [],
   "source": [
    "with open('/Users/crupley/.api/walkscore.txt') as f:\n",
    "    wskey = f.readline().strip()"
   ]
  },
  {
   "cell_type": "code",
   "execution_count": null,
   "metadata": {
    "collapsed": true
   },
   "outputs": [],
   "source": [
    "lat = 37.7700103\n",
    "lon = -122.4535951"
   ]
  },
  {
   "cell_type": "code",
   "execution_count": 60,
   "metadata": {
    "collapsed": false
   },
   "outputs": [],
   "source": [
    "requrl = 'http://api.walkscore.com/score'\n",
    "payload = {'wsapikey':wskey,\n",
    "           'lat': lat,\n",
    "           'lon': lon,\n",
    "           'format': 'json'}\n",
    "response = requests.get(requrl, params = payload)"
   ]
  },
  {
   "cell_type": "code",
   "execution_count": 15,
   "metadata": {
    "collapsed": false
   },
   "outputs": [
    {
     "data": {
      "text/plain": [
       "{u'description': u\"Walker's Paradise\",\n",
       " u'help_link': u'https://www.redfin.com/how-walk-score-works',\n",
       " u'logo_url': u'https://cdn.walk.sc/images/api-logo.png',\n",
       " u'more_info_icon': u'https://cdn.walk.sc/images/api-more-info.gif',\n",
       " u'more_info_link': u'https://www.redfin.com/how-walk-score-works',\n",
       " u'snapped_lat': 37.77,\n",
       " u'snapped_lon': -122.454,\n",
       " u'status': 1,\n",
       " u'updated': u'2015-06-01 22:34:36.166320',\n",
       " u'walkscore': 93,\n",
       " u'ws_link': u'https://www.walkscore.com/score/loc/lat=37.7700103/lng=-122.4535951/?utm_source=crupley.com&utm_medium=ws_api&utm_campaign=ws_api'}"
      ]
     },
     "execution_count": 15,
     "metadata": {},
     "output_type": "execute_result"
    }
   ],
   "source": [
    "response.json()"
   ]
  },
  {
   "cell_type": "code",
   "execution_count": 61,
   "metadata": {
    "collapsed": false
   },
   "outputs": [
    {
     "data": {
      "text/plain": [
       "help_link               https://www.redfin.com/how-walk-score-works\n",
       "logo_url                    https://cdn.walk.sc/images/api-logo.png\n",
       "more_info_icon         https://cdn.walk.sc/images/api-more-info.gif\n",
       "more_info_link          https://www.redfin.com/how-walk-score-works\n",
       "snapped_lat                                                  -0.051\n",
       "snapped_lon                                                 -0.0645\n",
       "status                                                            2\n",
       "ws_link           https://www.walkscore.com/score/loc/lat=-0.050...\n",
       "searched_lat                                              -0.050653\n",
       "searched_lon                                             -0.0640791\n",
       "dtype: object"
      ]
     },
     "execution_count": 61,
     "metadata": {},
     "output_type": "execute_result"
    }
   ],
   "source": [
    "data = pd.Series(response.json())\n",
    "data['searched_lat'] = lat\n",
    "data['searched_lon'] = lon\n",
    "data"
   ]
  },
  {
   "cell_type": "code",
   "execution_count": 27,
   "metadata": {
    "collapsed": false
   },
   "outputs": [
    {
     "name": "stdout",
     "output_type": "stream",
     "text": [
      "description\n",
      "help_link\n",
      "logo_url\n",
      "more_info_icon\n",
      "more_info_link\n",
      "snapped_lat\n",
      "snapped_lon\n",
      "status\n",
      "updated\n",
      "walkscore\n",
      "ws_link\n",
      "searched_lat\n",
      "searched_lon\n"
     ]
    }
   ],
   "source": [
    "for i in list(data.keys()): print i"
   ]
  },
  {
   "cell_type": "code",
   "execution_count": 35,
   "metadata": {
    "collapsed": false
   },
   "outputs": [
    {
     "data": {
      "text/plain": [
       "array([u\"Walker's Paradise\",\n",
       "       u'https://www.redfin.com/how-walk-score-works',\n",
       "       u'https://cdn.walk.sc/images/api-logo.png',\n",
       "       u'https://cdn.walk.sc/images/api-more-info.gif',\n",
       "       u'https://www.redfin.com/how-walk-score-works', 37.77, -122.454, 1,\n",
       "       u'2015-06-01 22:34:36.166320', 93,\n",
       "       u'https://www.walkscore.com/score/loc/lat=37.7700103/lng=-122.4535951/?utm_source=crupley.com&utm_medium=ws_api&utm_campaign=ws_api',\n",
       "       37.7700103, -122.4535951], dtype=object)"
      ]
     },
     "execution_count": 35,
     "metadata": {},
     "output_type": "execute_result"
    }
   ],
   "source": [
    "data.values"
   ]
  },
  {
   "cell_type": "code",
   "execution_count": 36,
   "metadata": {
    "collapsed": true
   },
   "outputs": [],
   "source": [
    "ncols = data.shape[0]\n",
    "q_string = \t'''\n",
    "    INSERT INTO walkscore_raw (description,\n",
    "                               help_link,\n",
    "                               logo_url,\n",
    "                               more_info_icon,\n",
    "                               more_info_link,\n",
    "                               snapped_lat,\n",
    "                               snapped_lon,\n",
    "                               status,\n",
    "                               updated,\n",
    "                               walkscore,\n",
    "                               ws_link,\n",
    "                               searched_lat,\n",
    "                               searched_lon)\n",
    "        VALUES (%s)''' % ('%s, ' * (ncols - 1) + '%s')"
   ]
  },
  {
   "cell_type": "code",
   "execution_count": 38,
   "metadata": {
    "collapsed": false
   },
   "outputs": [],
   "source": [
    "conn = psycopg2.connect(dbname='hoodie', user='postgres', host='/tmp')\n",
    "c = conn.cursor()\n",
    "\n",
    "c.execute(q_string, data.values)\n",
    "\n",
    "conn.commit()\n",
    "conn.close()"
   ]
  },
  {
   "cell_type": "code",
   "execution_count": 63,
   "metadata": {
    "collapsed": false
   },
   "outputs": [],
   "source": [
    "%run ../code/geo.py"
   ]
  },
  {
   "cell_type": "code",
   "execution_count": 64,
   "metadata": {
    "collapsed": false
   },
   "outputs": [
    {
     "name": "stdout",
     "output_type": "stream",
     "text": [
      "(5476, 2)\n"
     ]
    },
    {
     "data": {
      "text/plain": [
       "array([[  37.719347  , -122.51807913],\n",
       "       [  37.72071748, -122.51807913],\n",
       "       [  37.72208796, -122.51807913],\n",
       "       [  37.72345844, -122.51807913],\n",
       "       [  37.72482893, -122.51807913]])"
      ]
     },
     "execution_count": 64,
     "metadata": {},
     "output_type": "execute_result"
    }
   ],
   "source": [
    "print g.shape\n",
    "g[:5,:]"
   ]
  },
  {
   "cell_type": "code",
   "execution_count": 54,
   "metadata": {
    "collapsed": true
   },
   "outputs": [],
   "source": [
    "%run ../code/scrape.py"
   ]
  },
  {
   "cell_type": "code",
   "execution_count": 66,
   "metadata": {
    "collapsed": false
   },
   "outputs": [],
   "source": [
    "for lat, lon in g[5:,:]:\n",
    "     scrape_walkscore(lat, lon)"
   ]
  },
  {
   "cell_type": "markdown",
   "metadata": {},
   "source": [
    "# greatschools"
   ]
  },
  {
   "cell_type": "code",
   "execution_count": 69,
   "metadata": {
    "collapsed": false
   },
   "outputs": [],
   "source": [
    "with open('/Users/crupley/.api/greatschools.txt') as f:\n",
    "    gskey = f.readline().strip()"
   ]
  }
 ],
 "metadata": {
  "kernelspec": {
   "display_name": "Python 2",
   "language": "python",
   "name": "python2"
  },
  "language_info": {
   "codemirror_mode": {
    "name": "ipython",
    "version": 2
   },
   "file_extension": ".py",
   "mimetype": "text/x-python",
   "name": "python",
   "nbconvert_exporter": "python",
   "pygments_lexer": "ipython2",
   "version": "2.7.10"
  }
 },
 "nbformat": 4,
 "nbformat_minor": 0
}
