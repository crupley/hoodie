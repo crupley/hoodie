{
 "cells": [
  {
   "cell_type": "code",
   "execution_count": 1,
   "metadata": {
    "collapsed": true
   },
   "outputs": [],
   "source": [
    "%matplotlib inline\n",
    "\n",
    "import numpy as np\n",
    "import pandas as pd\n",
    "import matplotlib.pyplot as plt"
   ]
  },
  {
   "cell_type": "code",
   "execution_count": 36,
   "metadata": {
    "collapsed": false
   },
   "outputs": [],
   "source": [
    "plt.rcParams['figure.figsize'] = 16, 10"
   ]
  },
  {
   "cell_type": "code",
   "execution_count": 2,
   "metadata": {
    "collapsed": true
   },
   "outputs": [],
   "source": [
    "%run ../code/makedbs.py"
   ]
  },
  {
   "cell_type": "code",
   "execution_count": 42,
   "metadata": {
    "collapsed": false
   },
   "outputs": [
    {
     "name": "stdout",
     "output_type": "stream",
     "text": [
      "(5032, 7)\n"
     ]
    },
    {
     "data": {
      "text/html": [
       "<div>\n",
       "<table border=\"1\" class=\"dataframe\">\n",
       "  <thead>\n",
       "    <tr style=\"text-align: right;\">\n",
       "      <th></th>\n",
       "      <th>snapped_lat</th>\n",
       "      <th>snapped_lon</th>\n",
       "      <th>walkscore</th>\n",
       "      <th>description</th>\n",
       "      <th>updated</th>\n",
       "      <th>searched_lat</th>\n",
       "      <th>searched_lon</th>\n",
       "    </tr>\n",
       "  </thead>\n",
       "  <tbody>\n",
       "    <tr>\n",
       "      <th>0</th>\n",
       "      <td>37.7190</td>\n",
       "      <td>-122.5185</td>\n",
       "      <td>1</td>\n",
       "      <td>Car-Dependent</td>\n",
       "      <td>2013-08-10 17:19:49.723670</td>\n",
       "      <td>37.719347</td>\n",
       "      <td>-122.518079</td>\n",
       "    </tr>\n",
       "    <tr>\n",
       "      <th>1</th>\n",
       "      <td>37.7205</td>\n",
       "      <td>-122.5185</td>\n",
       "      <td>0</td>\n",
       "      <td>Car-Dependent</td>\n",
       "      <td>2015-06-16 02:11:34.261700</td>\n",
       "      <td>37.720717</td>\n",
       "      <td>-122.518079</td>\n",
       "    </tr>\n",
       "    <tr>\n",
       "      <th>2</th>\n",
       "      <td>37.7220</td>\n",
       "      <td>-122.5185</td>\n",
       "      <td>2</td>\n",
       "      <td>Car-Dependent</td>\n",
       "      <td>2013-08-10 17:20:27.329400</td>\n",
       "      <td>37.722088</td>\n",
       "      <td>-122.518079</td>\n",
       "    </tr>\n",
       "    <tr>\n",
       "      <th>3</th>\n",
       "      <td>37.7235</td>\n",
       "      <td>-122.5185</td>\n",
       "      <td>0</td>\n",
       "      <td>Car-Dependent</td>\n",
       "      <td>2014-09-05 10:53:05.520620</td>\n",
       "      <td>37.723458</td>\n",
       "      <td>-122.518079</td>\n",
       "    </tr>\n",
       "    <tr>\n",
       "      <th>4</th>\n",
       "      <td>37.7250</td>\n",
       "      <td>-122.5185</td>\n",
       "      <td>0</td>\n",
       "      <td>Car-Dependent</td>\n",
       "      <td>2015-06-16 02:11:33.920510</td>\n",
       "      <td>37.724829</td>\n",
       "      <td>-122.518079</td>\n",
       "    </tr>\n",
       "  </tbody>\n",
       "</table>\n",
       "</div>"
      ],
      "text/plain": [
       "   snapped_lat  snapped_lon  walkscore    description  \\\n",
       "0      37.7190    -122.5185          1  Car-Dependent   \n",
       "1      37.7205    -122.5185          0  Car-Dependent   \n",
       "2      37.7220    -122.5185          2  Car-Dependent   \n",
       "3      37.7235    -122.5185          0  Car-Dependent   \n",
       "4      37.7250    -122.5185          0  Car-Dependent   \n",
       "\n",
       "                     updated  searched_lat  searched_lon  \n",
       "0 2013-08-10 17:19:49.723670     37.719347   -122.518079  \n",
       "1 2015-06-16 02:11:34.261700     37.720717   -122.518079  \n",
       "2 2013-08-10 17:20:27.329400     37.722088   -122.518079  \n",
       "3 2014-09-05 10:53:05.520620     37.723458   -122.518079  \n",
       "4 2015-06-16 02:11:33.920510     37.724829   -122.518079  "
      ]
     },
     "execution_count": 42,
     "metadata": {},
     "output_type": "execute_result"
    }
   ],
   "source": [
    "ws = get_db('walkscore').sort_values(by = ['snapped_lon', 'snapped_lat'])\n",
    "print ws.shape\n",
    "ws.head()"
   ]
  },
  {
   "cell_type": "code",
   "execution_count": 43,
   "metadata": {
    "collapsed": false
   },
   "outputs": [
    {
     "name": "stdout",
     "output_type": "stream",
     "text": [
      "(68, 74) (68, 74)\n"
     ]
    }
   ],
   "source": [
    "x = ws.snapped_lon.unique()\n",
    "y = ws.snapped_lat.unique()\n",
    "X, Y = np.meshgrid(x, y)\n",
    "print X.shape, Y.shape"
   ]
  },
  {
   "cell_type": "code",
   "execution_count": 44,
   "metadata": {
    "collapsed": false
   },
   "outputs": [
    {
     "name": "stdout",
     "output_type": "stream",
     "text": [
      "74 68\n"
     ]
    }
   ],
   "source": [
    "print len(x), len(y)"
   ]
  },
  {
   "cell_type": "code",
   "execution_count": 45,
   "metadata": {
    "collapsed": false
   },
   "outputs": [],
   "source": [
    "z = ws.walkscore.reshape(68, 74, order='F')"
   ]
  },
  {
   "cell_type": "code",
   "execution_count": 46,
   "metadata": {
    "collapsed": false
   },
   "outputs": [
    {
     "data": {
      "text/plain": [
       "<matplotlib.colorbar.Colorbar instance at 0x106dbffc8>"
      ]
     },
     "execution_count": 46,
     "metadata": {},
     "output_type": "execute_result"
    },
    {
     "data": {
      "image/png": "[encoded data removed]",
      "text/plain": [
       "<matplotlib.figure.Figure at 0x109f3ead0>"
      ]
     },
     "metadata": {},
     "output_type": "display_data"
    }
   ],
   "source": [
    "plt.contourf(x, y, z)\n",
    "plt.axis('equal')\n",
    "plt.colorbar()"
   ]
  },
  {
   "cell_type": "code",
   "execution_count": 40,
   "metadata": {
    "collapsed": false
   },
   "outputs": [
    {
     "name": "stdout",
     "output_type": "stream",
     "text": [
      "-122.5185 -122.391 37.719 37.8195\n"
     ]
    }
   ],
   "source": [
    "print min(x), max(x), min(y), max(y)"
   ]
  }
 ],
 "metadata": {
  "kernelspec": {
   "display_name": "Python 2",
   "language": "python",
   "name": "python2"
  },
  "language_info": {
   "codemirror_mode": {
    "name": "ipython",
    "version": 2
   },
   "file_extension": ".py",
   "mimetype": "text/x-python",
   "name": "python",
   "nbconvert_exporter": "python",
   "pygments_lexer": "ipython2",
   "version": "2.7.10"
  }
 },
 "nbformat": 4,
 "nbformat_minor": 0
}
