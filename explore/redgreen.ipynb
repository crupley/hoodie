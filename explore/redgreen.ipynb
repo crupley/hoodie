{
 "cells": [
  {
   "cell_type": "code",
   "execution_count": 1,
   "metadata": {
    "collapsed": false
   },
   "outputs": [
    {
     "name": "stdout",
     "output_type": "stream",
     "text": [
      "/Users/crupley/gal/hoodie\n"
     ]
    }
   ],
   "source": [
    "%cd .."
   ]
  },
  {
   "cell_type": "code",
   "execution_count": 10,
   "metadata": {
    "collapsed": true
   },
   "outputs": [],
   "source": [
    "%matplotlib inline\n",
    "\n",
    "import numpy as np\n",
    "import pandas as pd\n",
    "import matplotlib.pyplot as plt\n",
    "\n",
    "from code.clusterize import *"
   ]
  },
  {
   "cell_type": "code",
   "execution_count": 7,
   "metadata": {
    "collapsed": false
   },
   "outputs": [
    {
     "data": {
      "text/html": [
       "<div>\n",
       "<table border=\"1\" class=\"dataframe\">\n",
       "  <thead>\n",
       "    <tr style=\"text-align: right;\">\n",
       "      <th></th>\n",
       "      <th>lat</th>\n",
       "      <th>lon</th>\n",
       "      <th>taxable_value</th>\n",
       "      <th>grocery</th>\n",
       "      <th>restaurant</th>\n",
       "      <th>retail</th>\n",
       "      <th>ncrimes</th>\n",
       "      <th>sgnf</th>\n",
       "      <th>avg_hh_size</th>\n",
       "      <th>population</th>\n",
       "      <th>walkscore</th>\n",
       "    </tr>\n",
       "  </thead>\n",
       "  <tbody>\n",
       "    <tr>\n",
       "      <th>0</th>\n",
       "      <td>37.750067</td>\n",
       "      <td>-122.441075</td>\n",
       "      <td>0.288994</td>\n",
       "      <td>-0.640949</td>\n",
       "      <td>-0.561362</td>\n",
       "      <td>-0.582297</td>\n",
       "      <td>-0.509058</td>\n",
       "      <td>0.477959</td>\n",
       "      <td>-0.017894</td>\n",
       "      <td>-0.102338</td>\n",
       "      <td>-0.025533</td>\n",
       "    </tr>\n",
       "    <tr>\n",
       "      <th>1</th>\n",
       "      <td>37.750196</td>\n",
       "      <td>-122.438933</td>\n",
       "      <td>0.336486</td>\n",
       "      <td>-0.576766</td>\n",
       "      <td>-0.465886</td>\n",
       "      <td>-0.515304</td>\n",
       "      <td>-0.509038</td>\n",
       "      <td>1.060608</td>\n",
       "      <td>0.253293</td>\n",
       "      <td>0.043369</td>\n",
       "      <td>0.146457</td>\n",
       "    </tr>\n",
       "    <tr>\n",
       "      <th>2</th>\n",
       "      <td>37.756794</td>\n",
       "      <td>-122.436270</td>\n",
       "      <td>0.350392</td>\n",
       "      <td>-0.131126</td>\n",
       "      <td>-0.396314</td>\n",
       "      <td>-0.227381</td>\n",
       "      <td>-0.313369</td>\n",
       "      <td>0.276664</td>\n",
       "      <td>0.244508</td>\n",
       "      <td>0.413731</td>\n",
       "      <td>0.701471</td>\n",
       "    </tr>\n",
       "    <tr>\n",
       "      <th>3</th>\n",
       "      <td>37.753529</td>\n",
       "      <td>-122.437050</td>\n",
       "      <td>0.327277</td>\n",
       "      <td>-0.298948</td>\n",
       "      <td>-0.286766</td>\n",
       "      <td>-0.356888</td>\n",
       "      <td>-0.456736</td>\n",
       "      <td>0.945703</td>\n",
       "      <td>0.372523</td>\n",
       "      <td>0.260021</td>\n",
       "      <td>0.594762</td>\n",
       "    </tr>\n",
       "    <tr>\n",
       "      <th>4</th>\n",
       "      <td>37.755758</td>\n",
       "      <td>-122.433400</td>\n",
       "      <td>0.355234</td>\n",
       "      <td>0.018376</td>\n",
       "      <td>-0.470065</td>\n",
       "      <td>-0.123353</td>\n",
       "      <td>-0.345027</td>\n",
       "      <td>0.674973</td>\n",
       "      <td>0.360681</td>\n",
       "      <td>0.530529</td>\n",
       "      <td>0.622791</td>\n",
       "    </tr>\n",
       "  </tbody>\n",
       "</table>\n",
       "</div>"
      ],
      "text/plain": [
       "         lat         lon  taxable_value   grocery  restaurant    retail  \\\n",
       "0  37.750067 -122.441075       0.288994 -0.640949   -0.561362 -0.582297   \n",
       "1  37.750196 -122.438933       0.336486 -0.576766   -0.465886 -0.515304   \n",
       "2  37.756794 -122.436270       0.350392 -0.131126   -0.396314 -0.227381   \n",
       "3  37.753529 -122.437050       0.327277 -0.298948   -0.286766 -0.356888   \n",
       "4  37.755758 -122.433400       0.355234  0.018376   -0.470065 -0.123353   \n",
       "\n",
       "    ncrimes      sgnf  avg_hh_size  population  walkscore  \n",
       "0 -0.509058  0.477959    -0.017894   -0.102338  -0.025533  \n",
       "1 -0.509038  1.060608     0.253293    0.043369   0.146457  \n",
       "2 -0.313369  0.276664     0.244508    0.413731   0.701471  \n",
       "3 -0.456736  0.945703     0.372523    0.260021   0.594762  \n",
       "4 -0.345027  0.674973     0.360681    0.530529   0.622791  "
      ]
     },
     "execution_count": 7,
     "metadata": {},
     "output_type": "execute_result"
    }
   ],
   "source": [
    "fdf = load_featuredf()\n",
    "fdf.head()"
   ]
  },
  {
   "cell_type": "code",
   "execution_count": null,
   "metadata": {
    "collapsed": true
   },
   "outputs": [],
   "source": [
    "cnum = cut2cluster('010405', 27)"
   ]
  },
  {
   "cell_type": "code",
   "execution_count": 9,
   "metadata": {
    "collapsed": false
   },
   "outputs": [
    {
     "name": "stdout",
     "output_type": "stream",
     "text": [
      "(7299,)\n",
      "(7299, 11)\n"
     ]
    }
   ],
   "source": [
    "nodelist = set(fdf.index).intersection(set(cnum.index))\n",
    "fdf = fdf.ix[nodelist]\n",
    "cnum = cnum.ix[nodelist]\n",
    "print cnum.shape\n",
    "print fdf.shape"
   ]
  },
  {
   "cell_type": "code",
   "execution_count": 6,
   "metadata": {
    "collapsed": false
   },
   "outputs": [
    {
     "data": {
      "text/plain": [
       "27"
      ]
     },
     "execution_count": 6,
     "metadata": {},
     "output_type": "execute_result"
    }
   ],
   "source": [
    "len(cnum.unique())"
   ]
  },
  {
   "cell_type": "code",
   "execution_count": null,
   "metadata": {
    "collapsed": true
   },
   "outputs": [],
   "source": [
    "sim"
   ]
  }
 ],
 "metadata": {
  "kernelspec": {
   "display_name": "Python 2",
   "language": "python",
   "name": "python2"
  },
  "language_info": {
   "codemirror_mode": {
    "name": "ipython",
    "version": 2
   },
   "file_extension": ".py",
   "mimetype": "text/x-python",
   "name": "python",
   "nbconvert_exporter": "python",
   "pygments_lexer": "ipython2",
   "version": "2.7.10"
  }
 },
 "nbformat": 4,
 "nbformat_minor": 0
}
