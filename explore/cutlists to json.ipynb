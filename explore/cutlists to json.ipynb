{
 "cells": [
  {
   "cell_type": "code",
   "execution_count": 1,
   "metadata": {
    "collapsed": false
   },
   "outputs": [
    {
     "name": "stdout",
     "output_type": "stream",
     "text": [
      "/Users/crupley/gal/hoodie\n"
     ]
    }
   ],
   "source": [
    "%cd .."
   ]
  },
  {
   "cell_type": "code",
   "execution_count": 36,
   "metadata": {
    "collapsed": true
   },
   "outputs": [],
   "source": [
    "import numpy as np\n",
    "import pandas as pd\n",
    "import cPickle as pickle\n",
    "import os\n",
    "import json\n",
    "\n",
    "from code.clusterize import *\n",
    "from code.shapefiles import merge_shapefiles"
   ]
  },
  {
   "cell_type": "code",
   "execution_count": 3,
   "metadata": {
    "collapsed": false
   },
   "outputs": [],
   "source": [
    "df = pickle.load(open('featuresdf.pkl', 'rb'))"
   ]
  },
  {
   "cell_type": "code",
   "execution_count": 4,
   "metadata": {
    "collapsed": false
   },
   "outputs": [
    {
     "data": {
      "text/plain": [
       "63"
      ]
     },
     "execution_count": 4,
     "metadata": {},
     "output_type": "execute_result"
    }
   ],
   "source": [
    "files = os.listdir('results')\n",
    "files = [f for f in files if f[:2] == 'CL']\n",
    "len(files)"
   ]
  },
  {
   "cell_type": "code",
   "execution_count": 5,
   "metadata": {
    "collapsed": false
   },
   "outputs": [],
   "source": [
    "files.remove('CL000406.csv')"
   ]
  },
  {
   "cell_type": "code",
   "execution_count": 6,
   "metadata": {
    "collapsed": false,
    "scrolled": true
   },
   "outputs": [
    {
     "name": "stdout",
     "output_type": "stream",
     "text": [
      "62\n"
     ]
    },
    {
     "data": {
      "text/plain": [
       "['CL00010203040607.csv',\n",
       " 'CL000102050608.csv',\n",
       " 'CL00010304050608.csv',\n",
       " 'CL0001030408.csv',\n",
       " 'CL0001030708.csv']"
      ]
     },
     "execution_count": 6,
     "metadata": {},
     "output_type": "execute_result"
    }
   ],
   "source": [
    "print len(files)\n",
    "files[:5]"
   ]
  },
  {
   "cell_type": "code",
   "execution_count": 7,
   "metadata": {
    "collapsed": false
   },
   "outputs": [
    {
     "data": {
      "text/plain": [
       "['00010203040607',\n",
       " '000102050608',\n",
       " '00010304050608',\n",
       " '0001030408',\n",
       " '0001030708']"
      ]
     },
     "execution_count": 7,
     "metadata": {},
     "output_type": "execute_result"
    }
   ],
   "source": [
    "fnums = [fn[2:-4] for fn in files]\n",
    "fnums.remove('xx')\n",
    "fnums[:5]"
   ]
  },
  {
   "cell_type": "code",
   "execution_count": 8,
   "metadata": {
    "collapsed": false
   },
   "outputs": [
    {
     "data": {
      "text/plain": [
       "[[0, 1, 2, 3, 4, 6, 7],\n",
       " [0, 1, 2, 5, 6, 8],\n",
       " [0, 1, 3, 4, 5, 6, 8],\n",
       " [0, 1, 3, 4, 8],\n",
       " [0, 1, 3, 7, 8]]"
      ]
     },
     "execution_count": 8,
     "metadata": {},
     "output_type": "execute_result"
    }
   ],
   "source": [
    "fnums = [mapno2list(fn) for fn in fnums]\n",
    "fnums[:5]"
   ]
  },
  {
   "cell_type": "code",
   "execution_count": 9,
   "metadata": {
    "collapsed": false
   },
   "outputs": [
    {
     "ename": "NameError",
     "evalue": "name 'list2fname' is not defined",
     "output_type": "error",
     "traceback": [
      "\u001b[0;31m---------------------------------------------------------------------------\u001b[0m",
      "\u001b[0;31mNameError\u001b[0m                                 Traceback (most recent call last)",
      "\u001b[0;32m<ipython-input-9-5483a913f96e>\u001b[0m in \u001b[0;36m<module>\u001b[0;34m()\u001b[0m\n\u001b[0;32m----> 1\u001b[0;31m \u001b[0mfname\u001b[0m \u001b[0;34m=\u001b[0m \u001b[0;34m[\u001b[0m\u001b[0mlist2fname\u001b[0m\u001b[0;34m(\u001b[0m\u001b[0mfn\u001b[0m\u001b[0;34m)\u001b[0m \u001b[0;32mfor\u001b[0m \u001b[0mfn\u001b[0m \u001b[0;32min\u001b[0m \u001b[0mfnums\u001b[0m\u001b[0;34m]\u001b[0m\u001b[0;34m\u001b[0m\u001b[0m\n\u001b[0m\u001b[1;32m      2\u001b[0m \u001b[0mfname\u001b[0m\u001b[0;34m[\u001b[0m\u001b[0;34m:\u001b[0m\u001b[0;36m5\u001b[0m\u001b[0;34m]\u001b[0m\u001b[0;34m\u001b[0m\u001b[0m\n",
      "\u001b[0;31mNameError\u001b[0m: name 'list2fname' is not defined"
     ]
    }
   ],
   "source": [
    "fname = [list2fname(fn) for fn in fnums]\n",
    "fname[:5]"
   ]
  },
  {
   "cell_type": "code",
   "execution_count": 11,
   "metadata": {
    "collapsed": false
   },
   "outputs": [
    {
     "name": "stdout",
     "output_type": "stream",
     "text": [
      "CPU times: user 44.1 s, sys: 745 ms, total: 44.8 s\n",
      "Wall time: 46.3 s\n"
     ]
    }
   ],
   "source": [
    "%%time\n",
    "nclusters = 25\n",
    "cnum = cut2cluster('xx', nclusters)"
   ]
  },
  {
   "cell_type": "code",
   "execution_count": 13,
   "metadata": {
    "collapsed": false
   },
   "outputs": [
    {
     "name": "stderr",
     "output_type": "stream",
     "text": [
      "WARNING:shapely.geos:Self-intersection at or near point -122.4562658775843 37.752391467033938\n",
      "WARNING:shapely.geos:Self-intersection at or near point -122.42948200000001 37.784695999999997\n",
      "WARNING:shapely.geos:Self-intersection at or near point -122.42825739318803 37.80489978262937\n",
      "WARNING:shapely.geos:Self-intersection at or near point -122.473088 37.767548999999995\n",
      "WARNING:shapely.geos:Self-intersection at or near point -122.446994 37.762721999999997\n",
      "WARNING:shapely.geos:Self-intersection at or near point -122.44835999999999 37.795209999999997\n",
      "WARNING:shapely.geos:Self-intersection at or near point -122.388091 37.737105999999997\n",
      "WARNING:shapely.geos:Self-intersection at or near point -122.45960253742446 37.789834195025762\n",
      "WARNING:shapely.geos:Self-intersection at or near point -122.474423 37.767724999999999\n",
      "WARNING:shapely.geos:Self-intersection at or near point -122.44865763412656 37.75089261589671\n",
      "WARNING:shapely.geos:Self-intersection at or near point -122.38123200326832 37.758601817149646\n",
      "WARNING:shapely.geos:Self-intersection at or near point -122.516784 37.779928999999996\n",
      "WARNING:shapely.geos:Self-intersection at or near point -122.47766 37.795936999999995\n",
      "WARNING:shapely.geos:Self-intersection at or near point -122.45196434785657 37.806319000107429\n",
      "WARNING:shapely.geos:Self-intersection at or near point -122.42626330093071 37.732523056876936\n",
      "WARNING:shapely.geos:Self-intersection at or near point -122.45831699999999 37.755679999999998\n",
      "WARNING:shapely.geos:Self-intersection at or near point -122.47495169095527 37.71282366415106\n",
      "WARNING:shapely.geos:Self-intersection at or near point -122.460655 37.742958000000002\n",
      "WARNING:shapely.geos:Self-intersection at or near point -122.48982576422669 37.713214962846983\n"
     ]
    }
   ],
   "source": [
    "df = df.ix[cnum.index]\n",
    "fn = 'data/uscensus/tl_2010_06075_tabblock10/tl_2010_06075_tabblock10.dbf'\n",
    "mergedf = merge_shapefiles(df[['lat', 'lon']], fn)\n",
    "polys = make_shapefiles(df[['lat', 'lon']], mergedf.polys, cnum)"
   ]
  },
  {
   "cell_type": "code",
   "execution_count": 14,
   "metadata": {
    "collapsed": false
   },
   "outputs": [
    {
     "name": "stdout",
     "output_type": "stream",
     "text": [
      "25\n",
      "25\n",
      "(7325, 3)\n"
     ]
    }
   ],
   "source": [
    "print len(cnum.unique())\n",
    "print len(polys)\n",
    "print mergedf.shape"
   ]
  },
  {
   "cell_type": "code",
   "execution_count": 15,
   "metadata": {
    "collapsed": false
   },
   "outputs": [],
   "source": [
    "fbars = feature_bars(df[['grocery', 'ncrimes', 'sgnf']], cnum)"
   ]
  },
  {
   "cell_type": "code",
   "execution_count": 16,
   "metadata": {
    "collapsed": false,
    "scrolled": true
   },
   "outputs": [
    {
     "name": "stdout",
     "output_type": "stream",
     "text": [
      "(25, 5)\n"
     ]
    },
    {
     "data": {
      "text/html": [
       "<div>\n",
       "<table border=\"1\" class=\"dataframe\">\n",
       "  <thead>\n",
       "    <tr style=\"text-align: right;\">\n",
       "      <th></th>\n",
       "      <th>cnum</th>\n",
       "      <th>polygon</th>\n",
       "      <th>color</th>\n",
       "      <th>mapno</th>\n",
       "      <th>fbars</th>\n",
       "    </tr>\n",
       "  </thead>\n",
       "  <tbody>\n",
       "    <tr>\n",
       "      <th>0</th>\n",
       "      <td>0</td>\n",
       "      <td>POLYGON ((-122.451088 37.749696, -122.451063 3...</td>\n",
       "      <td>#e41a1c</td>\n",
       "      <td></td>\n",
       "      <td>0</td>\n",
       "    </tr>\n",
       "    <tr>\n",
       "      <th>1</th>\n",
       "      <td>1</td>\n",
       "      <td>(POLYGON ((-122.436138 37.749562, -122.43832 3...</td>\n",
       "      <td>#ae394d</td>\n",
       "      <td></td>\n",
       "      <td>0</td>\n",
       "    </tr>\n",
       "    <tr>\n",
       "      <th>2</th>\n",
       "      <td>2</td>\n",
       "      <td>(POLYGON ((-122.426737 37.711225, -122.426957 ...</td>\n",
       "      <td>#725c83</td>\n",
       "      <td></td>\n",
       "      <td>0</td>\n",
       "    </tr>\n",
       "    <tr>\n",
       "      <th>3</th>\n",
       "      <td>3</td>\n",
       "      <td>POLYGON ((-122.4103819268249 37.77876979913257...</td>\n",
       "      <td>#377eb8</td>\n",
       "      <td></td>\n",
       "      <td>0</td>\n",
       "    </tr>\n",
       "    <tr>\n",
       "      <th>4</th>\n",
       "      <td>4</td>\n",
       "      <td>(POLYGON ((-122.376974 37.733616, -122.377041 ...</td>\n",
       "      <td>#3e8e95</td>\n",
       "      <td></td>\n",
       "      <td>0</td>\n",
       "    </tr>\n",
       "  </tbody>\n",
       "</table>\n",
       "</div>"
      ],
      "text/plain": [
       "   cnum                                            polygon    color mapno  \\\n",
       "0     0  POLYGON ((-122.451088 37.749696, -122.451063 3...  #e41a1c         \n",
       "1     1  (POLYGON ((-122.436138 37.749562, -122.43832 3...  #ae394d         \n",
       "2     2  (POLYGON ((-122.426737 37.711225, -122.426957 ...  #725c83         \n",
       "3     3  POLYGON ((-122.4103819268249 37.77876979913257...  #377eb8         \n",
       "4     4  (POLYGON ((-122.376974 37.733616, -122.377041 ...  #3e8e95         \n",
       "\n",
       "   fbars  \n",
       "0      0  \n",
       "1      0  \n",
       "2      0  \n",
       "3      0  \n",
       "4      0  "
      ]
     },
     "execution_count": 16,
     "metadata": {},
     "output_type": "execute_result"
    }
   ],
   "source": [
    "alldf = pd.DataFrame({'cnum': cnum.unique(),\n",
    "                      'polygon': polys})\n",
    "alldf['color'] = clist = gencolors(nclusters)\n",
    "alldf['mapno'] = ''\n",
    "alldf['fbars'] = 0\n",
    "print alldf.shape\n",
    "alldf.head()"
   ]
  },
  {
   "cell_type": "code",
   "execution_count": 17,
   "metadata": {
    "collapsed": false
   },
   "outputs": [
    {
     "ename": "TypeError",
     "evalue": "merge_map_data() takes exactly 2 arguments (1 given)",
     "output_type": "error",
     "traceback": [
      "\u001b[0;31m---------------------------------------------------------------------------\u001b[0m",
      "\u001b[0;31mTypeError\u001b[0m                                 Traceback (most recent call last)",
      "\u001b[0;32m<ipython-input-17-1decf2818462>\u001b[0m in \u001b[0;36m<module>\u001b[0;34m()\u001b[0m\n\u001b[0;32m----> 1\u001b[0;31m \u001b[0mlen\u001b[0m\u001b[0;34m(\u001b[0m\u001b[0mmerge_map_data\u001b[0m\u001b[0;34m(\u001b[0m\u001b[0;34m'results'\u001b[0m\u001b[0;34m)\u001b[0m\u001b[0;34m)\u001b[0m\u001b[0;34m\u001b[0m\u001b[0m\n\u001b[0m",
      "\u001b[0;31mTypeError\u001b[0m: merge_map_data() takes exactly 2 arguments (1 given)"
     ]
    }
   ],
   "source": [
    "len(merge_map_data('results'))"
   ]
  },
  {
   "cell_type": "code",
   "execution_count": null,
   "metadata": {
    "collapsed": false,
    "scrolled": true
   },
   "outputs": [
    {
     "name": "stderr",
     "output_type": "stream",
     "text": [
      "WARNING:shapely.geos:Self-intersection at or near point -122.4562658775843 37.752391467033938\n",
      "WARNING:shapely.geos:Self-intersection at or near point -122.42948200000001 37.784695999999997\n",
      "WARNING:shapely.geos:Self-intersection at or near point -122.42825739318803 37.80489978262937\n",
      "WARNING:shapely.geos:Self-intersection at or near point -122.473088 37.767548999999995\n",
      "WARNING:shapely.geos:Self-intersection at or near point -122.446994 37.762721999999997\n",
      "WARNING:shapely.geos:Self-intersection at or near point -122.44835999999999 37.795209999999997\n",
      "WARNING:shapely.geos:Self-intersection at or near point -122.388091 37.737105999999997\n",
      "WARNING:shapely.geos:Self-intersection at or near point -122.45960253742446 37.789834195025762\n",
      "WARNING:shapely.geos:Self-intersection at or near point -122.474423 37.767724999999999\n",
      "WARNING:shapely.geos:Self-intersection at or near point -122.44865763412656 37.75089261589671\n",
      "WARNING:shapely.geos:Self-intersection at or near point -122.38123200326832 37.758601817149646\n",
      "WARNING:shapely.geos:Self-intersection at or near point -122.516784 37.779928999999996\n",
      "WARNING:shapely.geos:Self-intersection at or near point -122.47766 37.795936999999995\n",
      "WARNING:shapely.geos:Self-intersection at or near point -122.45196434785657 37.806319000107429\n",
      "WARNING:shapely.geos:Self-intersection at or near point -122.42626330093071 37.732523056876936\n",
      "WARNING:shapely.geos:Self-intersection at or near point -122.45831699999999 37.755679999999998\n",
      "WARNING:shapely.geos:Self-intersection at or near point -122.47495169095527 37.71282366415106\n",
      "WARNING:shapely.geos:Self-intersection at or near point -122.460655 37.742958000000002\n",
      "WARNING:shapely.geos:Self-intersection at or near point -122.48982576422669 37.713214962846983\n",
      "WARNING:shapely.geos:Self-intersection at or near point -122.4562658775843 37.752391467033938\n",
      "WARNING:shapely.geos:Self-intersection at or near point -122.42948200000001 37.784695999999997\n",
      "WARNING:shapely.geos:Self-intersection at or near point -122.42825739318803 37.80489978262937\n",
      "WARNING:shapely.geos:Self-intersection at or near point -122.473088 37.767548999999995\n",
      "WARNING:shapely.geos:Self-intersection at or near point -122.446994 37.762721999999997\n",
      "WARNING:shapely.geos:Self-intersection at or near point -122.44835999999999 37.795209999999997\n",
      "WARNING:shapely.geos:Self-intersection at or near point -122.388091 37.737105999999997\n",
      "WARNING:shapely.geos:Self-intersection at or near point -122.45960253742446 37.789834195025762\n",
      "WARNING:shapely.geos:Self-intersection at or near point -122.474423 37.767724999999999\n",
      "WARNING:shapely.geos:Self-intersection at or near point -122.44865763412656 37.75089261589671\n",
      "WARNING:shapely.geos:Self-intersection at or near point -122.38123200326832 37.758601817149646\n",
      "WARNING:shapely.geos:Self-intersection at or near point -122.516784 37.779928999999996\n",
      "WARNING:shapely.geos:Self-intersection at or near point -122.47766 37.795936999999995\n",
      "WARNING:shapely.geos:Self-intersection at or near point -122.45196434785657 37.806319000107429\n",
      "WARNING:shapely.geos:Self-intersection at or near point -122.42626330093071 37.732523056876936\n",
      "WARNING:shapely.geos:Self-intersection at or near point -122.45831699999999 37.755679999999998\n",
      "WARNING:shapely.geos:Self-intersection at or near point -122.47495169095527 37.71282366415106\n",
      "WARNING:shapely.geos:Self-intersection at or near point -122.460655 37.742958000000002\n",
      "WARNING:shapely.geos:Self-intersection at or near point -122.48982576422669 37.713214962846983\n"
     ]
    },
    {
     "name": "stdout",
     "output_type": "stream",
     "text": [
      "0002\n",
      "000206"
     ]
    },
    {
     "name": "stderr",
     "output_type": "stream",
     "text": [
      "WARNING:shapely.geos:Self-intersection at or near point -122.4562658775843 37.752391467033938\n",
      "WARNING:shapely.geos:Self-intersection at or near point -122.42948200000001 37.784695999999997\n",
      "WARNING:shapely.geos:Self-intersection at or near point -122.42825739318803 37.80489978262937\n",
      "WARNING:shapely.geos:Self-intersection at or near point -122.473088 37.767548999999995\n",
      "WARNING:shapely.geos:Self-intersection at or near point -122.446994 37.762721999999997\n",
      "WARNING:shapely.geos:Self-intersection at or near point -122.44835999999999 37.795209999999997\n",
      "WARNING:shapely.geos:Self-intersection at or near point -122.388091 37.737105999999997\n",
      "WARNING:shapely.geos:Self-intersection at or near point -122.45960253742446 37.789834195025762\n",
      "WARNING:shapely.geos:Self-intersection at or near point -122.474423 37.767724999999999\n",
      "WARNING:shapely.geos:Self-intersection at or near point -122.44865763412656 37.75089261589671\n",
      "WARNING:shapely.geos:Self-intersection at or near point -122.38123200326832 37.758601817149646\n",
      "WARNING:shapely.geos:Self-intersection at or near point -122.516784 37.779928999999996\n",
      "WARNING:shapely.geos:Self-intersection at or near point -122.47766 37.795936999999995\n",
      "WARNING:shapely.geos:Self-intersection at or near point -122.45196434785657 37.806319000107429\n",
      "WARNING:shapely.geos:Self-intersection at or near point -122.42626330093071 37.732523056876936\n",
      "WARNING:shapely.geos:Self-intersection at or near point -122.45831699999999 37.755679999999998\n",
      "WARNING:shapely.geos:Self-intersection at or near point -122.47495169095527 37.71282366415106\n",
      "WARNING:shapely.geos:Self-intersection at or near point -122.460655 37.742958000000002\n",
      "WARNING:shapely.geos:Self-intersection at or near point -122.48982576422669 37.713214962846983\n"
     ]
    },
    {
     "name": "stdout",
     "output_type": "stream",
     "text": [
      "\n",
      "000207"
     ]
    },
    {
     "name": "stderr",
     "output_type": "stream",
     "text": [
      "WARNING:shapely.geos:Self-intersection at or near point -122.4562658775843 37.752391467033938\n",
      "WARNING:shapely.geos:Self-intersection at or near point -122.42948200000001 37.784695999999997\n",
      "WARNING:shapely.geos:Self-intersection at or near point -122.42825739318803 37.80489978262937\n",
      "WARNING:shapely.geos:Self-intersection at or near point -122.473088 37.767548999999995\n",
      "WARNING:shapely.geos:Self-intersection at or near point -122.446994 37.762721999999997\n",
      "WARNING:shapely.geos:Self-intersection at or near point -122.44835999999999 37.795209999999997\n",
      "WARNING:shapely.geos:Self-intersection at or near point -122.388091 37.737105999999997\n",
      "WARNING:shapely.geos:Self-intersection at or near point -122.45960253742446 37.789834195025762\n",
      "WARNING:shapely.geos:Self-intersection at or near point -122.474423 37.767724999999999\n",
      "WARNING:shapely.geos:Self-intersection at or near point -122.44865763412656 37.75089261589671\n",
      "WARNING:shapely.geos:Self-intersection at or near point -122.38123200326832 37.758601817149646\n",
      "WARNING:shapely.geos:Self-intersection at or near point -122.516784 37.779928999999996\n",
      "WARNING:shapely.geos:Self-intersection at or near point -122.47766 37.795936999999995\n",
      "WARNING:shapely.geos:Self-intersection at or near point -122.45196434785657 37.806319000107429\n",
      "WARNING:shapely.geos:Self-intersection at or near point -122.42626330093071 37.732523056876936\n",
      "WARNING:shapely.geos:Self-intersection at or near point -122.45831699999999 37.755679999999998\n",
      "WARNING:shapely.geos:Self-intersection at or near point -122.47495169095527 37.71282366415106\n",
      "WARNING:shapely.geos:Self-intersection at or near point -122.460655 37.742958000000002\n",
      "WARNING:shapely.geos:Self-intersection at or near point -122.48982576422669 37.713214962846983\n"
     ]
    },
    {
     "name": "stdout",
     "output_type": "stream",
     "text": [
      "\n",
      "0003"
     ]
    },
    {
     "name": "stderr",
     "output_type": "stream",
     "text": [
      "WARNING:shapely.geos:Self-intersection at or near point -122.4562658775843 37.752391467033938\n",
      "WARNING:shapely.geos:Self-intersection at or near point -122.42948200000001 37.784695999999997\n",
      "WARNING:shapely.geos:Self-intersection at or near point -122.42825739318803 37.80489978262937\n",
      "WARNING:shapely.geos:Self-intersection at or near point -122.473088 37.767548999999995\n",
      "WARNING:shapely.geos:Self-intersection at or near point -122.446994 37.762721999999997\n",
      "WARNING:shapely.geos:Self-intersection at or near point -122.44835999999999 37.795209999999997\n",
      "WARNING:shapely.geos:Self-intersection at or near point -122.388091 37.737105999999997\n",
      "WARNING:shapely.geos:Self-intersection at or near point -122.45960253742446 37.789834195025762\n",
      "WARNING:shapely.geos:Self-intersection at or near point -122.474423 37.767724999999999\n",
      "WARNING:shapely.geos:Self-intersection at or near point -122.44865763412656 37.75089261589671\n",
      "WARNING:shapely.geos:Self-intersection at or near point -122.38123200326832 37.758601817149646\n",
      "WARNING:shapely.geos:Self-intersection at or near point -122.516784 37.779928999999996\n",
      "WARNING:shapely.geos:Self-intersection at or near point -122.47766 37.795936999999995\n",
      "WARNING:shapely.geos:Self-intersection at or near point -122.45196434785657 37.806319000107429\n",
      "WARNING:shapely.geos:Self-intersection at or near point -122.42626330093071 37.732523056876936\n",
      "WARNING:shapely.geos:Self-intersection at or near point -122.45831699999999 37.755679999999998\n",
      "WARNING:shapely.geos:Self-intersection at or near point -122.47495169095527 37.71282366415106\n",
      "WARNING:shapely.geos:Self-intersection at or near point -122.460655 37.742958000000002\n",
      "WARNING:shapely.geos:Self-intersection at or near point -122.48982576422669 37.713214962846983\n"
     ]
    },
    {
     "name": "stdout",
     "output_type": "stream",
     "text": [
      "\n",
      "000305"
     ]
    },
    {
     "name": "stderr",
     "output_type": "stream",
     "text": [
      "WARNING:shapely.geos:Self-intersection at or near point -122.4562658775843 37.752391467033938\n",
      "WARNING:shapely.geos:Self-intersection at or near point -122.42948200000001 37.784695999999997\n",
      "WARNING:shapely.geos:Self-intersection at or near point -122.42825739318803 37.80489978262937\n",
      "WARNING:shapely.geos:Self-intersection at or near point -122.473088 37.767548999999995\n",
      "WARNING:shapely.geos:Self-intersection at or near point -122.446994 37.762721999999997\n",
      "WARNING:shapely.geos:Self-intersection at or near point -122.44835999999999 37.795209999999997\n",
      "WARNING:shapely.geos:Self-intersection at or near point -122.388091 37.737105999999997\n",
      "WARNING:shapely.geos:Self-intersection at or near point -122.45960253742446 37.789834195025762\n",
      "WARNING:shapely.geos:Self-intersection at or near point -122.474423 37.767724999999999\n",
      "WARNING:shapely.geos:Self-intersection at or near point -122.44865763412656 37.75089261589671\n",
      "WARNING:shapely.geos:Self-intersection at or near point -122.38123200326832 37.758601817149646\n",
      "WARNING:shapely.geos:Self-intersection at or near point -122.516784 37.779928999999996\n",
      "WARNING:shapely.geos:Self-intersection at or near point -122.47766 37.795936999999995\n",
      "WARNING:shapely.geos:Self-intersection at or near point -122.45196434785657 37.806319000107429\n",
      "WARNING:shapely.geos:Self-intersection at or near point -122.42626330093071 37.732523056876936\n",
      "WARNING:shapely.geos:Self-intersection at or near point -122.45831699999999 37.755679999999998\n",
      "WARNING:shapely.geos:Self-intersection at or near point -122.47495169095527 37.71282366415106\n",
      "WARNING:shapely.geos:Self-intersection at or near point -122.460655 37.742958000000002\n",
      "WARNING:shapely.geos:Self-intersection at or near point -122.48982576422669 37.713214962846983\n"
     ]
    },
    {
     "name": "stdout",
     "output_type": "stream",
     "text": [
      "\n",
      "000508"
     ]
    },
    {
     "name": "stderr",
     "output_type": "stream",
     "text": [
      "WARNING:shapely.geos:Self-intersection at or near point -122.4562658775843 37.752391467033938\n",
      "WARNING:shapely.geos:Self-intersection at or near point -122.42948200000001 37.784695999999997\n",
      "WARNING:shapely.geos:Self-intersection at or near point -122.42825739318803 37.80489978262937\n",
      "WARNING:shapely.geos:Self-intersection at or near point -122.473088 37.767548999999995\n",
      "WARNING:shapely.geos:Self-intersection at or near point -122.446994 37.762721999999997\n",
      "WARNING:shapely.geos:Self-intersection at or near point -122.44835999999999 37.795209999999997\n",
      "WARNING:shapely.geos:Self-intersection at or near point -122.388091 37.737105999999997\n",
      "WARNING:shapely.geos:Self-intersection at or near point -122.45960253742446 37.789834195025762\n",
      "WARNING:shapely.geos:Self-intersection at or near point -122.474423 37.767724999999999\n",
      "WARNING:shapely.geos:Self-intersection at or near point -122.44865763412656 37.75089261589671\n",
      "WARNING:shapely.geos:Self-intersection at or near point -122.38123200326832 37.758601817149646\n",
      "WARNING:shapely.geos:Self-intersection at or near point -122.516784 37.779928999999996\n",
      "WARNING:shapely.geos:Self-intersection at or near point -122.47766 37.795936999999995\n",
      "WARNING:shapely.geos:Self-intersection at or near point -122.45196434785657 37.806319000107429\n",
      "WARNING:shapely.geos:Self-intersection at or near point -122.42626330093071 37.732523056876936\n",
      "WARNING:shapely.geos:Self-intersection at or near point -122.45831699999999 37.755679999999998\n",
      "WARNING:shapely.geos:Self-intersection at or near point -122.47495169095527 37.71282366415106\n",
      "WARNING:shapely.geos:Self-intersection at or near point -122.460655 37.742958000000002\n",
      "WARNING:shapely.geos:Self-intersection at or near point -122.48982576422669 37.713214962846983\n"
     ]
    },
    {
     "name": "stdout",
     "output_type": "stream",
     "text": [
      "\n",
      "000607"
     ]
    },
    {
     "name": "stderr",
     "output_type": "stream",
     "text": [
      "WARNING:shapely.geos:Self-intersection at or near point -122.4562658775843 37.752391467033938\n",
      "WARNING:shapely.geos:Self-intersection at or near point -122.42948200000001 37.784695999999997\n",
      "WARNING:shapely.geos:Self-intersection at or near point -122.42825739318803 37.80489978262937\n",
      "WARNING:shapely.geos:Self-intersection at or near point -122.473088 37.767548999999995\n",
      "WARNING:shapely.geos:Self-intersection at or near point -122.446994 37.762721999999997\n",
      "WARNING:shapely.geos:Self-intersection at or near point -122.44835999999999 37.795209999999997\n",
      "WARNING:shapely.geos:Self-intersection at or near point -122.388091 37.737105999999997\n",
      "WARNING:shapely.geos:Self-intersection at or near point -122.45960253742446 37.789834195025762\n",
      "WARNING:shapely.geos:Self-intersection at or near point -122.474423 37.767724999999999\n",
      "WARNING:shapely.geos:Self-intersection at or near point -122.44865763412656 37.75089261589671\n",
      "WARNING:shapely.geos:Self-intersection at or near point -122.38123200326832 37.758601817149646\n",
      "WARNING:shapely.geos:Self-intersection at or near point -122.516784 37.779928999999996\n",
      "WARNING:shapely.geos:Self-intersection at or near point -122.47766 37.795936999999995\n",
      "WARNING:shapely.geos:Self-intersection at or near point -122.45196434785657 37.806319000107429\n",
      "WARNING:shapely.geos:Self-intersection at or near point -122.42626330093071 37.732523056876936\n",
      "WARNING:shapely.geos:Self-intersection at or near point -122.45831699999999 37.755679999999998\n",
      "WARNING:shapely.geos:Self-intersection at or near point -122.47495169095527 37.71282366415106\n",
      "WARNING:shapely.geos:Self-intersection at or near point -122.460655 37.742958000000002\n",
      "WARNING:shapely.geos:Self-intersection at or near point -122.48982576422669 37.713214962846983\n"
     ]
    },
    {
     "name": "stdout",
     "output_type": "stream",
     "text": [
      "\n",
      "0008"
     ]
    },
    {
     "name": "stderr",
     "output_type": "stream",
     "text": [
      "WARNING:shapely.geos:Self-intersection at or near point -122.4562658775843 37.752391467033938\n",
      "WARNING:shapely.geos:Self-intersection at or near point -122.42948200000001 37.784695999999997\n",
      "WARNING:shapely.geos:Self-intersection at or near point -122.42825739318803 37.80489978262937\n",
      "WARNING:shapely.geos:Self-intersection at or near point -122.473088 37.767548999999995\n",
      "WARNING:shapely.geos:Self-intersection at or near point -122.446994 37.762721999999997\n",
      "WARNING:shapely.geos:Self-intersection at or near point -122.44835999999999 37.795209999999997\n",
      "WARNING:shapely.geos:Self-intersection at or near point -122.388091 37.737105999999997\n",
      "WARNING:shapely.geos:Self-intersection at or near point -122.45960253742446 37.789834195025762\n",
      "WARNING:shapely.geos:Self-intersection at or near point -122.474423 37.767724999999999\n",
      "WARNING:shapely.geos:Self-intersection at or near point -122.44865763412656 37.75089261589671\n",
      "WARNING:shapely.geos:Self-intersection at or near point -122.38123200326832 37.758601817149646\n",
      "WARNING:shapely.geos:Self-intersection at or near point -122.516784 37.779928999999996\n",
      "WARNING:shapely.geos:Self-intersection at or near point -122.47766 37.795936999999995\n",
      "WARNING:shapely.geos:Self-intersection at or near point -122.45196434785657 37.806319000107429\n",
      "WARNING:shapely.geos:Self-intersection at or near point -122.42626330093071 37.732523056876936\n",
      "WARNING:shapely.geos:Self-intersection at or near point -122.45831699999999 37.755679999999998\n",
      "WARNING:shapely.geos:Self-intersection at or near point -122.47495169095527 37.71282366415106\n",
      "WARNING:shapely.geos:Self-intersection at or near point -122.460655 37.742958000000002\n",
      "WARNING:shapely.geos:Self-intersection at or near point -122.48982576422669 37.713214962846983\n"
     ]
    },
    {
     "name": "stdout",
     "output_type": "stream",
     "text": [
      "\n",
      "010208"
     ]
    }
   ],
   "source": [
    "%%time\n",
    "alldf = merge_map_data('results', df)\n",
    "print alldf.shape\n",
    "alldf.head()"
   ]
  },
  {
   "cell_type": "code",
   "execution_count": null,
   "metadata": {
    "collapsed": false
   },
   "outputs": [],
   "source": [
    "gjson = make_json(alldf.cnum, alldf.polygon, alldf.color, alldf.mapno, alldf.fbars)"
   ]
  },
  {
   "cell_type": "code",
   "execution_count": null,
   "metadata": {
    "collapsed": false
   },
   "outputs": [],
   "source": [
    "# file size reduced to ~1/3\n",
    "with open('results/geo.json', 'wb') as f:\n",
    "    f.write(json.dumps(gjson))"
   ]
  },
  {
   "cell_type": "code",
   "execution_count": null,
   "metadata": {
    "collapsed": false
   },
   "outputs": [],
   "source": [
    "files = os.listdir('results')\n",
    "files = [f[2:-4] for f in files if f[:2] == 'CL']\n",
    "files.remove('xx')\n",
    "files.remove('000406')\n",
    "\n",
    "files = [f for f in files if len(f) <= 6]\n",
    "\n",
    "fnames = [mapno2list(f) for f in files]\n",
    "\n",
    "print len(files)\n",
    "files"
   ]
  }
 ],
 "metadata": {
  "kernelspec": {
   "display_name": "Python 2",
   "language": "python",
   "name": "python2"
  },
  "language_info": {
   "codemirror_mode": {
    "name": "ipython",
    "version": 2
   },
   "file_extension": ".py",
   "mimetype": "text/x-python",
   "name": "python",
   "nbconvert_exporter": "python",
   "pygments_lexer": "ipython2",
   "version": "2.7.10"
  }
 },
 "nbformat": 4,
 "nbformat_minor": 0
}
