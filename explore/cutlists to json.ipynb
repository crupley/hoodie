{
 "cells": [
  {
   "cell_type": "code",
   "execution_count": 1,
   "metadata": {
    "collapsed": false
   },
   "outputs": [
    {
     "name": "stdout",
     "output_type": "stream",
     "text": [
      "/Users/crupley/gal/hoodie\n"
     ]
    }
   ],
   "source": [
    "%cd .."
   ]
  },
  {
   "cell_type": "code",
   "execution_count": 36,
   "metadata": {
    "collapsed": true
   },
   "outputs": [],
   "source": [
    "import numpy as np\n",
    "import pandas as pd\n",
    "import cPickle as pickle\n",
    "import os\n",
    "\n",
    "from code.clusterize import *\n",
    "from code.shapefiles import merge_shapefiles"
   ]
  },
  {
   "cell_type": "code",
   "execution_count": 5,
   "metadata": {
    "collapsed": false
   },
   "outputs": [],
   "source": [
    "df = pickle.load(open('featuresdf.pkl', 'rb'))"
   ]
  },
  {
   "cell_type": "code",
   "execution_count": 12,
   "metadata": {
    "collapsed": false
   },
   "outputs": [
    {
     "data": {
      "text/plain": [
       "63"
      ]
     },
     "execution_count": 12,
     "metadata": {},
     "output_type": "execute_result"
    }
   ],
   "source": [
    "files = os.listdir('results')\n",
    "files = [f for f in files if f[:2] == 'CL']\n",
    "len(files)"
   ]
  },
  {
   "cell_type": "code",
   "execution_count": 15,
   "metadata": {
    "collapsed": false
   },
   "outputs": [],
   "source": [
    "files.remove('CL000406.csv')"
   ]
  },
  {
   "cell_type": "code",
   "execution_count": 19,
   "metadata": {
    "collapsed": false,
    "scrolled": true
   },
   "outputs": [
    {
     "name": "stdout",
     "output_type": "stream",
     "text": [
      "62\n"
     ]
    },
    {
     "data": {
      "text/plain": [
       "['CL00010203040607.csv',\n",
       " 'CL000102050608.csv',\n",
       " 'CL00010304050608.csv',\n",
       " 'CL0001030408.csv',\n",
       " 'CL0001030708.csv']"
      ]
     },
     "execution_count": 19,
     "metadata": {},
     "output_type": "execute_result"
    }
   ],
   "source": [
    "print len(files)\n",
    "files[:5]"
   ]
  },
  {
   "cell_type": "code",
   "execution_count": 21,
   "metadata": {
    "collapsed": false
   },
   "outputs": [
    {
     "data": {
      "text/plain": [
       "['00010203040607',\n",
       " '000102050608',\n",
       " '00010304050608',\n",
       " '0001030408',\n",
       " '0001030708']"
      ]
     },
     "execution_count": 21,
     "metadata": {},
     "output_type": "execute_result"
    }
   ],
   "source": [
    "fnums = [fn[2:-4] for fn in files]\n",
    "fnums.remove('xx')\n",
    "fnums[:5]"
   ]
  },
  {
   "cell_type": "code",
   "execution_count": 22,
   "metadata": {
    "collapsed": false
   },
   "outputs": [
    {
     "data": {
      "text/plain": [
       "[[0, 1, 2, 3, 4, 6, 7],\n",
       " [0, 1, 2, 5, 6, 8],\n",
       " [0, 1, 3, 4, 5, 6, 8],\n",
       " [0, 1, 3, 4, 8],\n",
       " [0, 1, 3, 7, 8]]"
      ]
     },
     "execution_count": 22,
     "metadata": {},
     "output_type": "execute_result"
    }
   ],
   "source": [
    "fnums = [mapno2list(fn) for fn in fnums]\n",
    "fnums[:5]"
   ]
  },
  {
   "cell_type": "code",
   "execution_count": 24,
   "metadata": {
    "collapsed": false
   },
   "outputs": [
    {
     "data": {
      "text/plain": [
       "[['taxable_value',\n",
       "  'grocery',\n",
       "  'restaurant',\n",
       "  'retail',\n",
       "  'ncrimes',\n",
       "  'avg_hh_size',\n",
       "  'population'],\n",
       " ['taxable_value',\n",
       "  'grocery',\n",
       "  'restaurant',\n",
       "  'sgnf',\n",
       "  'avg_hh_size',\n",
       "  'walkscore'],\n",
       " ['taxable_value',\n",
       "  'grocery',\n",
       "  'retail',\n",
       "  'ncrimes',\n",
       "  'sgnf',\n",
       "  'avg_hh_size',\n",
       "  'walkscore'],\n",
       " ['taxable_value', 'grocery', 'retail', 'ncrimes', 'walkscore'],\n",
       " ['taxable_value', 'grocery', 'retail', 'population', 'walkscore']]"
      ]
     },
     "execution_count": 24,
     "metadata": {},
     "output_type": "execute_result"
    }
   ],
   "source": [
    "fname = [list2fname(fn) for fn in fnums]\n",
    "fname[:5]"
   ]
  },
  {
   "cell_type": "code",
   "execution_count": 25,
   "metadata": {
    "collapsed": false
   },
   "outputs": [
    {
     "name": "stdout",
     "output_type": "stream",
     "text": [
      "CPU times: user 43.5 s, sys: 1.08 s, total: 44.6 s\n",
      "Wall time: 44.9 s\n"
     ]
    }
   ],
   "source": [
    "%%time\n",
    "cnum = cut2cluster('xx', nclusters)"
   ]
  },
  {
   "cell_type": "code",
   "execution_count": 31,
   "metadata": {
    "collapsed": false
   },
   "outputs": [
    {
     "name": "stderr",
     "output_type": "stream",
     "text": [
      "WARNING:shapely.geos:Self-intersection at or near point -122.4562658775843 37.752391467033938\n",
      "WARNING:shapely.geos:Self-intersection at or near point -122.42948200000001 37.784695999999997\n",
      "WARNING:shapely.geos:Self-intersection at or near point -122.42825739318803 37.80489978262937\n",
      "WARNING:shapely.geos:Self-intersection at or near point -122.473088 37.767548999999995\n",
      "WARNING:shapely.geos:Self-intersection at or near point -122.446994 37.762721999999997\n",
      "WARNING:shapely.geos:Self-intersection at or near point -122.44835999999999 37.795209999999997\n",
      "WARNING:shapely.geos:Self-intersection at or near point -122.388091 37.737105999999997\n",
      "WARNING:shapely.geos:Self-intersection at or near point -122.45960253742446 37.789834195025762\n",
      "WARNING:shapely.geos:Self-intersection at or near point -122.474423 37.767724999999999\n",
      "WARNING:shapely.geos:Self-intersection at or near point -122.44865763412656 37.75089261589671\n",
      "WARNING:shapely.geos:Self-intersection at or near point -122.38123200326832 37.758601817149646\n",
      "WARNING:shapely.geos:Self-intersection at or near point -122.516784 37.779928999999996\n",
      "WARNING:shapely.geos:Self-intersection at or near point -122.47766 37.795936999999995\n",
      "WARNING:shapely.geos:Self-intersection at or near point -122.45196434785657 37.806319000107429\n",
      "WARNING:shapely.geos:Self-intersection at or near point -122.42626330093071 37.732523056876936\n",
      "WARNING:shapely.geos:Self-intersection at or near point -122.45831699999999 37.755679999999998\n",
      "WARNING:shapely.geos:Self-intersection at or near point -122.47495169095527 37.71282366415106\n",
      "WARNING:shapely.geos:Self-intersection at or near point -122.460655 37.742958000000002\n",
      "WARNING:shapely.geos:Self-intersection at or near point -122.48982576422669 37.713214962846983\n"
     ]
    }
   ],
   "source": [
    "df = df.ix[cnum.index]\n",
    "fn = 'data/uscensus/tl_2010_06075_tabblock10/tl_2010_06075_tabblock10.dbf'\n",
    "mergedf = merge_shapefiles(df[['lat', 'lon']], fn)\n",
    "polys = make_shapefiles(df[['lat', 'lon']], mergedf.polys, cnum)"
   ]
  },
  {
   "cell_type": "code",
   "execution_count": 34,
   "metadata": {
    "collapsed": false
   },
   "outputs": [
    {
     "name": "stdout",
     "output_type": "stream",
     "text": [
      "25\n",
      "25\n",
      "(7325, 3)\n"
     ]
    }
   ],
   "source": [
    "print len(cnum.unique())\n",
    "print len(polys)\n",
    "print mergedf.shape"
   ]
  },
  {
   "cell_type": "code",
   "execution_count": 47,
   "metadata": {
    "collapsed": false
   },
   "outputs": [],
   "source": [
    "fbars = feature_bars(df[['grocery', 'ncrimes', 'sgnf']], cnum)"
   ]
  },
  {
   "cell_type": "code",
   "execution_count": 35,
   "metadata": {
    "collapsed": false,
    "scrolled": true
   },
   "outputs": [
    {
     "name": "stdout",
     "output_type": "stream",
     "text": [
      "(25, 5)\n"
     ]
    },
    {
     "data": {
      "text/html": [
       "<div>\n",
       "<table border=\"1\" class=\"dataframe\">\n",
       "  <thead>\n",
       "    <tr style=\"text-align: right;\">\n",
       "      <th></th>\n",
       "      <th>cnum</th>\n",
       "      <th>polygon</th>\n",
       "      <th>color</th>\n",
       "      <th>mapno</th>\n",
       "      <th>fbars</th>\n",
       "    </tr>\n",
       "  </thead>\n",
       "  <tbody>\n",
       "    <tr>\n",
       "      <th>0</th>\n",
       "      <td>0</td>\n",
       "      <td>POLYGON ((-122.451088 37.749696, -122.451063 3...</td>\n",
       "      <td>#e41a1c</td>\n",
       "      <td></td>\n",
       "      <td>0</td>\n",
       "    </tr>\n",
       "    <tr>\n",
       "      <th>1</th>\n",
       "      <td>1</td>\n",
       "      <td>(POLYGON ((-122.436138 37.749562, -122.43832 3...</td>\n",
       "      <td>#ae394d</td>\n",
       "      <td></td>\n",
       "      <td>0</td>\n",
       "    </tr>\n",
       "    <tr>\n",
       "      <th>2</th>\n",
       "      <td>2</td>\n",
       "      <td>(POLYGON ((-122.426737 37.711225, -122.426957 ...</td>\n",
       "      <td>#725c83</td>\n",
       "      <td></td>\n",
       "      <td>0</td>\n",
       "    </tr>\n",
       "    <tr>\n",
       "      <th>3</th>\n",
       "      <td>3</td>\n",
       "      <td>POLYGON ((-122.4103819268249 37.77876979913257...</td>\n",
       "      <td>#377eb8</td>\n",
       "      <td></td>\n",
       "      <td>0</td>\n",
       "    </tr>\n",
       "    <tr>\n",
       "      <th>4</th>\n",
       "      <td>4</td>\n",
       "      <td>(POLYGON ((-122.376974 37.733616, -122.377041 ...</td>\n",
       "      <td>#3e8e95</td>\n",
       "      <td></td>\n",
       "      <td>0</td>\n",
       "    </tr>\n",
       "  </tbody>\n",
       "</table>\n",
       "</div>"
      ],
      "text/plain": [
       "   cnum                                            polygon    color mapno  \\\n",
       "0     0  POLYGON ((-122.451088 37.749696, -122.451063 3...  #e41a1c         \n",
       "1     1  (POLYGON ((-122.436138 37.749562, -122.43832 3...  #ae394d         \n",
       "2     2  (POLYGON ((-122.426737 37.711225, -122.426957 ...  #725c83         \n",
       "3     3  POLYGON ((-122.4103819268249 37.77876979913257...  #377eb8         \n",
       "4     4  (POLYGON ((-122.376974 37.733616, -122.377041 ...  #3e8e95         \n",
       "\n",
       "   fbars  \n",
       "0      0  \n",
       "1      0  \n",
       "2      0  \n",
       "3      0  \n",
       "4      0  "
      ]
     },
     "execution_count": 35,
     "metadata": {},
     "output_type": "execute_result"
    }
   ],
   "source": [
    "alldf = pd.DataFrame({'cnum': cnum.unique(),\n",
    "                      'polygon': polys})\n",
    "alldf['color'] = clist = gencolors(nclusters)\n",
    "alldf['mapno'] = ''\n",
    "alldf['fbars'] = 0\n",
    "print alldf.shape\n",
    "alldf.head()"
   ]
  },
  {
   "cell_type": "code",
   "execution_count": 41,
   "metadata": {
    "collapsed": false
   },
   "outputs": [
    {
     "data": {
      "text/plain": [
       "61"
      ]
     },
     "execution_count": 41,
     "metadata": {},
     "output_type": "execute_result"
    }
   ],
   "source": [
    "len(merge_map_data('results'))"
   ]
  },
  {
   "cell_type": "code",
   "execution_count": 52,
   "metadata": {
    "collapsed": false
   },
   "outputs": [
    {
     "name": "stderr",
     "output_type": "stream",
     "text": [
      "WARNING:shapely.geos:Self-intersection at or near point -122.4562658775843 37.752391467033938\n",
      "WARNING:shapely.geos:Self-intersection at or near point -122.42948200000001 37.784695999999997\n",
      "WARNING:shapely.geos:Self-intersection at or near point -122.42825739318803 37.80489978262937\n",
      "WARNING:shapely.geos:Self-intersection at or near point -122.473088 37.767548999999995\n",
      "WARNING:shapely.geos:Self-intersection at or near point -122.446994 37.762721999999997\n",
      "WARNING:shapely.geos:Self-intersection at or near point -122.44835999999999 37.795209999999997\n",
      "WARNING:shapely.geos:Self-intersection at or near point -122.388091 37.737105999999997\n",
      "WARNING:shapely.geos:Self-intersection at or near point -122.45960253742446 37.789834195025762\n",
      "WARNING:shapely.geos:Self-intersection at or near point -122.474423 37.767724999999999\n",
      "WARNING:shapely.geos:Self-intersection at or near point -122.44865763412656 37.75089261589671\n",
      "WARNING:shapely.geos:Self-intersection at or near point -122.38123200326832 37.758601817149646\n",
      "WARNING:shapely.geos:Self-intersection at or near point -122.516784 37.779928999999996\n",
      "WARNING:shapely.geos:Self-intersection at or near point -122.47766 37.795936999999995\n",
      "WARNING:shapely.geos:Self-intersection at or near point -122.45196434785657 37.806319000107429\n",
      "WARNING:shapely.geos:Self-intersection at or near point -122.42626330093071 37.732523056876936\n",
      "WARNING:shapely.geos:Self-intersection at or near point -122.45831699999999 37.755679999999998\n",
      "WARNING:shapely.geos:Self-intersection at or near point -122.47495169095527 37.71282366415106\n",
      "WARNING:shapely.geos:Self-intersection at or near point -122.460655 37.742958000000002\n",
      "WARNING:shapely.geos:Self-intersection at or near point -122.48982576422669 37.713214962846983\n"
     ]
    },
    {
     "name": "stdout",
     "output_type": "stream",
     "text": [
      "(25, 5)\n"
     ]
    },
    {
     "data": {
      "text/html": [
       "<div>\n",
       "<table border=\"1\" class=\"dataframe\">\n",
       "  <thead>\n",
       "    <tr style=\"text-align: right;\">\n",
       "      <th></th>\n",
       "      <th>cnum</th>\n",
       "      <th>polygon</th>\n",
       "      <th>color</th>\n",
       "      <th>mapno</th>\n",
       "      <th>fbars</th>\n",
       "    </tr>\n",
       "  </thead>\n",
       "  <tbody>\n",
       "    <tr>\n",
       "      <th>0</th>\n",
       "      <td>0</td>\n",
       "      <td>POLYGON ((-122.451088 37.749696, -122.451063 3...</td>\n",
       "      <td>#e41a1c</td>\n",
       "      <td></td>\n",
       "      <td>[0.12, -0.08, -0.15, -0.07, -0.13, 0.17, 0.09,...</td>\n",
       "    </tr>\n",
       "    <tr>\n",
       "      <th>1</th>\n",
       "      <td>1</td>\n",
       "      <td>(POLYGON ((-122.436138 37.749562, -122.43832 3...</td>\n",
       "      <td>#ae394d</td>\n",
       "      <td></td>\n",
       "      <td>[0.13, 0.27, 0.32, 0.27, 0.16, 0.11, 0.04, 0.3...</td>\n",
       "    </tr>\n",
       "    <tr>\n",
       "      <th>2</th>\n",
       "      <td>2</td>\n",
       "      <td>(POLYGON ((-122.426737 37.711225, -122.426957 ...</td>\n",
       "      <td>#725c83</td>\n",
       "      <td></td>\n",
       "      <td>[0.09, -0.02, -0.05, -0.02, -0.1, 0.27, 0.27, ...</td>\n",
       "    </tr>\n",
       "    <tr>\n",
       "      <th>3</th>\n",
       "      <td>3</td>\n",
       "      <td>POLYGON ((-122.4103819268249 37.77876979913257...</td>\n",
       "      <td>#377eb8</td>\n",
       "      <td></td>\n",
       "      <td>[0.09, 0.05, 0.04, 0.17, 0.06, -0.16, -0.21, -...</td>\n",
       "    </tr>\n",
       "    <tr>\n",
       "      <th>4</th>\n",
       "      <td>4</td>\n",
       "      <td>(POLYGON ((-122.376974 37.733616, -122.377041 ...</td>\n",
       "      <td>#3e8e95</td>\n",
       "      <td></td>\n",
       "      <td>[0.04, 0.02, -0.07, -0.01, -0.02, -0.09, 0.05,...</td>\n",
       "    </tr>\n",
       "  </tbody>\n",
       "</table>\n",
       "</div>"
      ],
      "text/plain": [
       "   cnum                                            polygon    color mapno  \\\n",
       "0     0  POLYGON ((-122.451088 37.749696, -122.451063 3...  #e41a1c         \n",
       "1     1  (POLYGON ((-122.436138 37.749562, -122.43832 3...  #ae394d         \n",
       "2     2  (POLYGON ((-122.426737 37.711225, -122.426957 ...  #725c83         \n",
       "3     3  POLYGON ((-122.4103819268249 37.77876979913257...  #377eb8         \n",
       "4     4  (POLYGON ((-122.376974 37.733616, -122.377041 ...  #3e8e95         \n",
       "\n",
       "                                               fbars  \n",
       "0  [0.12, -0.08, -0.15, -0.07, -0.13, 0.17, 0.09,...  \n",
       "1  [0.13, 0.27, 0.32, 0.27, 0.16, 0.11, 0.04, 0.3...  \n",
       "2  [0.09, -0.02, -0.05, -0.02, -0.1, 0.27, 0.27, ...  \n",
       "3  [0.09, 0.05, 0.04, 0.17, 0.06, -0.16, -0.21, -...  \n",
       "4  [0.04, 0.02, -0.07, -0.01, -0.02, -0.09, 0.05,...  "
      ]
     },
     "execution_count": 52,
     "metadata": {},
     "output_type": "execute_result"
    }
   ],
   "source": [
    "alldf = merge_map_data('results', df)\n",
    "print alldf.shape\n",
    "alldf.head()"
   ]
  },
  {
   "cell_type": "code",
   "execution_count": null,
   "metadata": {
    "collapsed": true
   },
   "outputs": [],
   "source": []
  }
 ],
 "metadata": {
  "kernelspec": {
   "display_name": "Python 2",
   "language": "python",
   "name": "python2"
  },
  "language_info": {
   "codemirror_mode": {
    "name": "ipython",
    "version": 2
   },
   "file_extension": ".py",
   "mimetype": "text/x-python",
   "name": "python",
   "nbconvert_exporter": "python",
   "pygments_lexer": "ipython2",
   "version": "2.7.10"
  }
 },
 "nbformat": 4,
 "nbformat_minor": 0
}
