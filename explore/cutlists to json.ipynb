{
 "cells": [
  {
   "cell_type": "code",
   "execution_count": 1,
   "metadata": {
    "collapsed": false
   },
   "outputs": [
    {
     "name": "stdout",
     "output_type": "stream",
     "text": [
      "/Users/crupley/gal/hoodie\n"
     ]
    }
   ],
   "source": [
    "%cd .."
   ]
  },
  {
   "cell_type": "code",
   "execution_count": 21,
   "metadata": {
    "collapsed": true
   },
   "outputs": [],
   "source": [
    "import numpy as np\n",
    "import pandas as pd\n",
    "import cPickle as pickle\n",
    "import os\n",
    "\n",
    "from code.clusterize import *\n",
    "from code.shapefiles import merge_shapefiles"
   ]
  },
  {
   "cell_type": "code",
   "execution_count": 3,
   "metadata": {
    "collapsed": false
   },
   "outputs": [],
   "source": [
    "df = pickle.load(open('featuresdf.pkl', 'rb'))"
   ]
  },
  {
   "cell_type": "code",
   "execution_count": 4,
   "metadata": {
    "collapsed": false
   },
   "outputs": [
    {
     "data": {
      "text/plain": [
       "63"
      ]
     },
     "execution_count": 4,
     "metadata": {},
     "output_type": "execute_result"
    }
   ],
   "source": [
    "files = os.listdir('results')\n",
    "files = [f for f in files if f[:2] == 'CL']\n",
    "len(files)"
   ]
  },
  {
   "cell_type": "code",
   "execution_count": 5,
   "metadata": {
    "collapsed": false
   },
   "outputs": [],
   "source": [
    "files.remove('CL000406.csv')"
   ]
  },
  {
   "cell_type": "code",
   "execution_count": 6,
   "metadata": {
    "collapsed": false,
    "scrolled": true
   },
   "outputs": [
    {
     "name": "stdout",
     "output_type": "stream",
     "text": [
      "62\n"
     ]
    },
    {
     "data": {
      "text/plain": [
       "['CL00010203040607.csv',\n",
       " 'CL000102050608.csv',\n",
       " 'CL00010304050608.csv',\n",
       " 'CL0001030408.csv',\n",
       " 'CL0001030708.csv']"
      ]
     },
     "execution_count": 6,
     "metadata": {},
     "output_type": "execute_result"
    }
   ],
   "source": [
    "print len(files)\n",
    "files[:5]"
   ]
  },
  {
   "cell_type": "code",
   "execution_count": 7,
   "metadata": {
    "collapsed": false
   },
   "outputs": [
    {
     "data": {
      "text/plain": [
       "['00010203040607',\n",
       " '000102050608',\n",
       " '00010304050608',\n",
       " '0001030408',\n",
       " '0001030708']"
      ]
     },
     "execution_count": 7,
     "metadata": {},
     "output_type": "execute_result"
    }
   ],
   "source": [
    "fnums = [fn[2:-4] for fn in files]\n",
    "fnums.remove('xx')\n",
    "fnums[:5]"
   ]
  },
  {
   "cell_type": "code",
   "execution_count": 8,
   "metadata": {
    "collapsed": false
   },
   "outputs": [
    {
     "data": {
      "text/plain": [
       "[[0, 1, 2, 3, 4, 6, 7],\n",
       " [0, 1, 2, 5, 6, 8],\n",
       " [0, 1, 3, 4, 5, 6, 8],\n",
       " [0, 1, 3, 4, 8],\n",
       " [0, 1, 3, 7, 8]]"
      ]
     },
     "execution_count": 8,
     "metadata": {},
     "output_type": "execute_result"
    }
   ],
   "source": [
    "fnums = [mapno2list(fn) for fn in fnums]\n",
    "fnums[:5]"
   ]
  },
  {
   "cell_type": "code",
   "execution_count": 9,
   "metadata": {
    "collapsed": false
   },
   "outputs": [
    {
     "ename": "NameError",
     "evalue": "name 'list2fname' is not defined",
     "output_type": "error",
     "traceback": [
      "\u001b[0;31m---------------------------------------------------------------------------\u001b[0m",
      "\u001b[0;31mNameError\u001b[0m                                 Traceback (most recent call last)",
      "\u001b[0;32m<ipython-input-9-5483a913f96e>\u001b[0m in \u001b[0;36m<module>\u001b[0;34m()\u001b[0m\n\u001b[0;32m----> 1\u001b[0;31m \u001b[0mfname\u001b[0m \u001b[0;34m=\u001b[0m \u001b[0;34m[\u001b[0m\u001b[0mlist2fname\u001b[0m\u001b[0;34m(\u001b[0m\u001b[0mfn\u001b[0m\u001b[0;34m)\u001b[0m \u001b[0;32mfor\u001b[0m \u001b[0mfn\u001b[0m \u001b[0;32min\u001b[0m \u001b[0mfnums\u001b[0m\u001b[0;34m]\u001b[0m\u001b[0;34m\u001b[0m\u001b[0m\n\u001b[0m\u001b[1;32m      2\u001b[0m \u001b[0mfname\u001b[0m\u001b[0;34m[\u001b[0m\u001b[0;34m:\u001b[0m\u001b[0;36m5\u001b[0m\u001b[0;34m]\u001b[0m\u001b[0;34m\u001b[0m\u001b[0m\n",
      "\u001b[0;31mNameError\u001b[0m: name 'list2fname' is not defined"
     ]
    }
   ],
   "source": [
    "fname = [list2fname(fn) for fn in fnums]\n",
    "fname[:5]"
   ]
  },
  {
   "cell_type": "code",
   "execution_count": 11,
   "metadata": {
    "collapsed": false
   },
   "outputs": [
    {
     "name": "stdout",
     "output_type": "stream",
     "text": [
      "CPU times: user 44.1 s, sys: 745 ms, total: 44.8 s\n",
      "Wall time: 46.3 s\n"
     ]
    }
   ],
   "source": [
    "%%time\n",
    "nclusters = 25\n",
    "cnum = cut2cluster('xx', nclusters)"
   ]
  },
  {
   "cell_type": "code",
   "execution_count": 13,
   "metadata": {
    "collapsed": false
   },
   "outputs": [
    {
     "name": "stderr",
     "output_type": "stream",
     "text": [
      "WARNING:shapely.geos:Self-intersection at or near point -122.4562658775843 37.752391467033938\n",
      "WARNING:shapely.geos:Self-intersection at or near point -122.42948200000001 37.784695999999997\n",
      "WARNING:shapely.geos:Self-intersection at or near point -122.42825739318803 37.80489978262937\n",
      "WARNING:shapely.geos:Self-intersection at or near point -122.473088 37.767548999999995\n",
      "WARNING:shapely.geos:Self-intersection at or near point -122.446994 37.762721999999997\n",
      "WARNING:shapely.geos:Self-intersection at or near point -122.44835999999999 37.795209999999997\n",
      "WARNING:shapely.geos:Self-intersection at or near point -122.388091 37.737105999999997\n",
      "WARNING:shapely.geos:Self-intersection at or near point -122.45960253742446 37.789834195025762\n",
      "WARNING:shapely.geos:Self-intersection at or near point -122.474423 37.767724999999999\n",
      "WARNING:shapely.geos:Self-intersection at or near point -122.44865763412656 37.75089261589671\n",
      "WARNING:shapely.geos:Self-intersection at or near point -122.38123200326832 37.758601817149646\n",
      "WARNING:shapely.geos:Self-intersection at or near point -122.516784 37.779928999999996\n",
      "WARNING:shapely.geos:Self-intersection at or near point -122.47766 37.795936999999995\n",
      "WARNING:shapely.geos:Self-intersection at or near point -122.45196434785657 37.806319000107429\n",
      "WARNING:shapely.geos:Self-intersection at or near point -122.42626330093071 37.732523056876936\n",
      "WARNING:shapely.geos:Self-intersection at or near point -122.45831699999999 37.755679999999998\n",
      "WARNING:shapely.geos:Self-intersection at or near point -122.47495169095527 37.71282366415106\n",
      "WARNING:shapely.geos:Self-intersection at or near point -122.460655 37.742958000000002\n",
      "WARNING:shapely.geos:Self-intersection at or near point -122.48982576422669 37.713214962846983\n"
     ]
    }
   ],
   "source": [
    "df = df.ix[cnum.index]\n",
    "fn = 'data/uscensus/tl_2010_06075_tabblock10/tl_2010_06075_tabblock10.dbf'\n",
    "mergedf = merge_shapefiles(df[['lat', 'lon']], fn)\n",
    "polys = make_shapefiles(df[['lat', 'lon']], mergedf.polys, cnum)"
   ]
  },
  {
   "cell_type": "code",
   "execution_count": 14,
   "metadata": {
    "collapsed": false
   },
   "outputs": [
    {
     "name": "stdout",
     "output_type": "stream",
     "text": [
      "25\n",
      "25\n",
      "(7325, 3)\n"
     ]
    }
   ],
   "source": [
    "print len(cnum.unique())\n",
    "print len(polys)\n",
    "print mergedf.shape"
   ]
  },
  {
   "cell_type": "code",
   "execution_count": 15,
   "metadata": {
    "collapsed": false
   },
   "outputs": [],
   "source": [
    "fbars = feature_bars(df[['grocery', 'ncrimes', 'sgnf']], cnum)"
   ]
  },
  {
   "cell_type": "code",
   "execution_count": 16,
   "metadata": {
    "collapsed": false,
    "scrolled": true
   },
   "outputs": [
    {
     "name": "stdout",
     "output_type": "stream",
     "text": [
      "(25, 5)\n"
     ]
    },
    {
     "data": {
      "text/html": [
       "<div>\n",
       "<table border=\"1\" class=\"dataframe\">\n",
       "  <thead>\n",
       "    <tr style=\"text-align: right;\">\n",
       "      <th></th>\n",
       "      <th>cnum</th>\n",
       "      <th>polygon</th>\n",
       "      <th>color</th>\n",
       "      <th>mapno</th>\n",
       "      <th>fbars</th>\n",
       "    </tr>\n",
       "  </thead>\n",
       "  <tbody>\n",
       "    <tr>\n",
       "      <th>0</th>\n",
       "      <td>0</td>\n",
       "      <td>POLYGON ((-122.451088 37.749696, -122.451063 3...</td>\n",
       "      <td>#e41a1c</td>\n",
       "      <td></td>\n",
       "      <td>0</td>\n",
       "    </tr>\n",
       "    <tr>\n",
       "      <th>1</th>\n",
       "      <td>1</td>\n",
       "      <td>(POLYGON ((-122.436138 37.749562, -122.43832 3...</td>\n",
       "      <td>#ae394d</td>\n",
       "      <td></td>\n",
       "      <td>0</td>\n",
       "    </tr>\n",
       "    <tr>\n",
       "      <th>2</th>\n",
       "      <td>2</td>\n",
       "      <td>(POLYGON ((-122.426737 37.711225, -122.426957 ...</td>\n",
       "      <td>#725c83</td>\n",
       "      <td></td>\n",
       "      <td>0</td>\n",
       "    </tr>\n",
       "    <tr>\n",
       "      <th>3</th>\n",
       "      <td>3</td>\n",
       "      <td>POLYGON ((-122.4103819268249 37.77876979913257...</td>\n",
       "      <td>#377eb8</td>\n",
       "      <td></td>\n",
       "      <td>0</td>\n",
       "    </tr>\n",
       "    <tr>\n",
       "      <th>4</th>\n",
       "      <td>4</td>\n",
       "      <td>(POLYGON ((-122.376974 37.733616, -122.377041 ...</td>\n",
       "      <td>#3e8e95</td>\n",
       "      <td></td>\n",
       "      <td>0</td>\n",
       "    </tr>\n",
       "  </tbody>\n",
       "</table>\n",
       "</div>"
      ],
      "text/plain": [
       "   cnum                                            polygon    color mapno  \\\n",
       "0     0  POLYGON ((-122.451088 37.749696, -122.451063 3...  #e41a1c         \n",
       "1     1  (POLYGON ((-122.436138 37.749562, -122.43832 3...  #ae394d         \n",
       "2     2  (POLYGON ((-122.426737 37.711225, -122.426957 ...  #725c83         \n",
       "3     3  POLYGON ((-122.4103819268249 37.77876979913257...  #377eb8         \n",
       "4     4  (POLYGON ((-122.376974 37.733616, -122.377041 ...  #3e8e95         \n",
       "\n",
       "   fbars  \n",
       "0      0  \n",
       "1      0  \n",
       "2      0  \n",
       "3      0  \n",
       "4      0  "
      ]
     },
     "execution_count": 16,
     "metadata": {},
     "output_type": "execute_result"
    }
   ],
   "source": [
    "alldf = pd.DataFrame({'cnum': cnum.unique(),\n",
    "                      'polygon': polys})\n",
    "alldf['color'] = clist = gencolors(nclusters)\n",
    "alldf['mapno'] = ''\n",
    "alldf['fbars'] = 0\n",
    "print alldf.shape\n",
    "alldf.head()"
   ]
  },
  {
   "cell_type": "code",
   "execution_count": 17,
   "metadata": {
    "collapsed": false
   },
   "outputs": [
    {
     "ename": "TypeError",
     "evalue": "merge_map_data() takes exactly 2 arguments (1 given)",
     "output_type": "error",
     "traceback": [
      "\u001b[0;31m---------------------------------------------------------------------------\u001b[0m",
      "\u001b[0;31mTypeError\u001b[0m                                 Traceback (most recent call last)",
      "\u001b[0;32m<ipython-input-17-1decf2818462>\u001b[0m in \u001b[0;36m<module>\u001b[0;34m()\u001b[0m\n\u001b[0;32m----> 1\u001b[0;31m \u001b[0mlen\u001b[0m\u001b[0;34m(\u001b[0m\u001b[0mmerge_map_data\u001b[0m\u001b[0;34m(\u001b[0m\u001b[0;34m'results'\u001b[0m\u001b[0;34m)\u001b[0m\u001b[0;34m)\u001b[0m\u001b[0;34m\u001b[0m\u001b[0m\n\u001b[0m",
      "\u001b[0;31mTypeError\u001b[0m: merge_map_data() takes exactly 2 arguments (1 given)"
     ]
    }
   ],
   "source": [
    "len(merge_map_data('results'))"
   ]
  },
  {
   "cell_type": "code",
   "execution_count": 22,
   "metadata": {
    "collapsed": false,
    "scrolled": true
   },
   "outputs": [
    {
     "name": "stderr",
     "output_type": "stream",
     "text": [
      "WARNING:shapely.geos:Self-intersection at or near point -122.4562658775843 37.752391467033938\n",
      "WARNING:shapely.geos:Self-intersection at or near point -122.42948200000001 37.784695999999997\n",
      "WARNING:shapely.geos:Self-intersection at or near point -122.42825739318803 37.80489978262937\n",
      "WARNING:shapely.geos:Self-intersection at or near point -122.473088 37.767548999999995\n",
      "WARNING:shapely.geos:Self-intersection at or near point -122.446994 37.762721999999997\n",
      "WARNING:shapely.geos:Self-intersection at or near point -122.44835999999999 37.795209999999997\n",
      "WARNING:shapely.geos:Self-intersection at or near point -122.388091 37.737105999999997\n",
      "WARNING:shapely.geos:Self-intersection at or near point -122.45960253742446 37.789834195025762\n",
      "WARNING:shapely.geos:Self-intersection at or near point -122.474423 37.767724999999999\n",
      "WARNING:shapely.geos:Self-intersection at or near point -122.44865763412656 37.75089261589671\n",
      "WARNING:shapely.geos:Self-intersection at or near point -122.38123200326832 37.758601817149646\n",
      "WARNING:shapely.geos:Self-intersection at or near point -122.516784 37.779928999999996\n",
      "WARNING:shapely.geos:Self-intersection at or near point -122.47766 37.795936999999995\n",
      "WARNING:shapely.geos:Self-intersection at or near point -122.45196434785657 37.806319000107429\n",
      "WARNING:shapely.geos:Self-intersection at or near point -122.42626330093071 37.732523056876936\n",
      "WARNING:shapely.geos:Self-intersection at or near point -122.45831699999999 37.755679999999998\n",
      "WARNING:shapely.geos:Self-intersection at or near point -122.47495169095527 37.71282366415106\n",
      "WARNING:shapely.geos:Self-intersection at or near point -122.460655 37.742958000000002\n",
      "WARNING:shapely.geos:Self-intersection at or near point -122.48982576422669 37.713214962846983\n",
      "WARNING:shapely.geos:Self-intersection at or near point -122.4562658775843 37.752391467033938\n",
      "WARNING:shapely.geos:Self-intersection at or near point -122.42948200000001 37.784695999999997\n",
      "WARNING:shapely.geos:Self-intersection at or near point -122.42825739318803 37.80489978262937\n",
      "WARNING:shapely.geos:Self-intersection at or near point -122.473088 37.767548999999995\n",
      "WARNING:shapely.geos:Self-intersection at or near point -122.446994 37.762721999999997\n",
      "WARNING:shapely.geos:Self-intersection at or near point -122.44835999999999 37.795209999999997\n",
      "WARNING:shapely.geos:Self-intersection at or near point -122.388091 37.737105999999997\n",
      "WARNING:shapely.geos:Self-intersection at or near point -122.45960253742446 37.789834195025762\n",
      "WARNING:shapely.geos:Self-intersection at or near point -122.474423 37.767724999999999\n",
      "WARNING:shapely.geos:Self-intersection at or near point -122.44865763412656 37.75089261589671\n",
      "WARNING:shapely.geos:Self-intersection at or near point -122.38123200326832 37.758601817149646\n",
      "WARNING:shapely.geos:Self-intersection at or near point -122.516784 37.779928999999996\n",
      "WARNING:shapely.geos:Self-intersection at or near point -122.47766 37.795936999999995\n",
      "WARNING:shapely.geos:Self-intersection at or near point -122.45196434785657 37.806319000107429\n",
      "WARNING:shapely.geos:Self-intersection at or near point -122.42626330093071 37.732523056876936\n",
      "WARNING:shapely.geos:Self-intersection at or near point -122.45831699999999 37.755679999999998\n",
      "WARNING:shapely.geos:Self-intersection at or near point -122.47495169095527 37.71282366415106\n",
      "WARNING:shapely.geos:Self-intersection at or near point -122.460655 37.742958000000002\n",
      "WARNING:shapely.geos:Self-intersection at or near point -122.48982576422669 37.713214962846983\n"
     ]
    },
    {
     "name": "stdout",
     "output_type": "stream",
     "text": [
      "00010203040607\n",
      "000102050608"
     ]
    },
    {
     "name": "stderr",
     "output_type": "stream",
     "text": [
      "WARNING:shapely.geos:Self-intersection at or near point -122.4562658775843 37.752391467033938\n",
      "WARNING:shapely.geos:Self-intersection at or near point -122.42948200000001 37.784695999999997\n",
      "WARNING:shapely.geos:Self-intersection at or near point -122.42825739318803 37.80489978262937\n",
      "WARNING:shapely.geos:Self-intersection at or near point -122.473088 37.767548999999995\n",
      "WARNING:shapely.geos:Self-intersection at or near point -122.446994 37.762721999999997\n",
      "WARNING:shapely.geos:Self-intersection at or near point -122.44835999999999 37.795209999999997\n",
      "WARNING:shapely.geos:Self-intersection at or near point -122.388091 37.737105999999997\n",
      "WARNING:shapely.geos:Self-intersection at or near point -122.45960253742446 37.789834195025762\n",
      "WARNING:shapely.geos:Self-intersection at or near point -122.474423 37.767724999999999\n",
      "WARNING:shapely.geos:Self-intersection at or near point -122.44865763412656 37.75089261589671\n",
      "WARNING:shapely.geos:Self-intersection at or near point -122.38123200326832 37.758601817149646\n",
      "WARNING:shapely.geos:Self-intersection at or near point -122.516784 37.779928999999996\n",
      "WARNING:shapely.geos:Self-intersection at or near point -122.47766 37.795936999999995\n",
      "WARNING:shapely.geos:Self-intersection at or near point -122.45196434785657 37.806319000107429\n",
      "WARNING:shapely.geos:Self-intersection at or near point -122.42626330093071 37.732523056876936\n",
      "WARNING:shapely.geos:Self-intersection at or near point -122.45831699999999 37.755679999999998\n",
      "WARNING:shapely.geos:Self-intersection at or near point -122.47495169095527 37.71282366415106\n",
      "WARNING:shapely.geos:Self-intersection at or near point -122.460655 37.742958000000002\n",
      "WARNING:shapely.geos:Self-intersection at or near point -122.48982576422669 37.713214962846983\n"
     ]
    },
    {
     "name": "stdout",
     "output_type": "stream",
     "text": [
      "\n",
      "(75, 5)\n",
      "CPU times: user 3min 40s, sys: 3.21 s, total: 3min 43s\n",
      "Wall time: 3min 50s\n"
     ]
    }
   ],
   "source": [
    "%%time\n",
    "alldf = merge_map_data('results', df)\n",
    "print alldf.shape\n",
    "alldf.head()"
   ]
  },
  {
   "cell_type": "code",
   "execution_count": 24,
   "metadata": {
    "collapsed": false
   },
   "outputs": [
    {
     "data": {
      "text/html": [
       "<div>\n",
       "<table border=\"1\" class=\"dataframe\">\n",
       "  <thead>\n",
       "    <tr style=\"text-align: right;\">\n",
       "      <th></th>\n",
       "      <th>cnum</th>\n",
       "      <th>polygon</th>\n",
       "      <th>color</th>\n",
       "      <th>mapno</th>\n",
       "      <th>fbars</th>\n",
       "    </tr>\n",
       "  </thead>\n",
       "  <tbody>\n",
       "    <tr>\n",
       "      <th>0</th>\n",
       "      <td>0</td>\n",
       "      <td>POLYGON ((-122.451088 37.749696, -122.451063 3...</td>\n",
       "      <td>#e41a1c</td>\n",
       "      <td></td>\n",
       "      <td>[0.12, -0.08, -0.15, -0.07, -0.13, 0.17, 0.09,...</td>\n",
       "    </tr>\n",
       "    <tr>\n",
       "      <th>1</th>\n",
       "      <td>1</td>\n",
       "      <td>(POLYGON ((-122.436138 37.749562, -122.43832 3...</td>\n",
       "      <td>#ae394d</td>\n",
       "      <td></td>\n",
       "      <td>[0.13, 0.27, 0.32, 0.27, 0.16, 0.11, 0.04, 0.3...</td>\n",
       "    </tr>\n",
       "    <tr>\n",
       "      <th>2</th>\n",
       "      <td>2</td>\n",
       "      <td>(POLYGON ((-122.426737 37.711225, -122.426957 ...</td>\n",
       "      <td>#725c83</td>\n",
       "      <td></td>\n",
       "      <td>[0.09, -0.02, -0.05, -0.02, -0.1, 0.27, 0.27, ...</td>\n",
       "    </tr>\n",
       "    <tr>\n",
       "      <th>3</th>\n",
       "      <td>3</td>\n",
       "      <td>POLYGON ((-122.4103819268249 37.77876979913257...</td>\n",
       "      <td>#377eb8</td>\n",
       "      <td></td>\n",
       "      <td>[0.09, 0.05, 0.04, 0.17, 0.06, -0.16, -0.21, -...</td>\n",
       "    </tr>\n",
       "    <tr>\n",
       "      <th>4</th>\n",
       "      <td>4</td>\n",
       "      <td>(POLYGON ((-122.376974 37.733616, -122.377041 ...</td>\n",
       "      <td>#3e8e95</td>\n",
       "      <td></td>\n",
       "      <td>[0.04, 0.02, -0.07, -0.01, -0.02, -0.09, 0.05,...</td>\n",
       "    </tr>\n",
       "    <tr>\n",
       "      <th>5</th>\n",
       "      <td>5</td>\n",
       "      <td>POLYGON ((-122.405744 37.742521, -122.405405 3...</td>\n",
       "      <td>#469e6f</td>\n",
       "      <td></td>\n",
       "      <td>[0.01, 0.06, -0.08, -0.06, -0.1, 0.12, 0.29, -...</td>\n",
       "    </tr>\n",
       "    <tr>\n",
       "      <th>6</th>\n",
       "      <td>6</td>\n",
       "      <td>POLYGON ((-122.443215 37.764558, -122.4432 37....</td>\n",
       "      <td>#4eae4b</td>\n",
       "      <td></td>\n",
       "      <td>[0.13, 0.15, 0.12, 0.16, 0.01, 0.36, 0.06, 0.4...</td>\n",
       "    </tr>\n",
       "    <tr>\n",
       "      <th>7</th>\n",
       "      <td>7</td>\n",
       "      <td>POLYGON ((-122.428255 37.806997, -122.427777 3...</td>\n",
       "      <td>#659067</td>\n",
       "      <td></td>\n",
       "      <td>[0.2, 0.75, 0.83, 0.81, 0.38, 0.12, -0.11, 0.4...</td>\n",
       "    </tr>\n",
       "    <tr>\n",
       "      <th>8</th>\n",
       "      <td>8</td>\n",
       "      <td>POLYGON ((-122.486631 37.712706, -122.488115 3...</td>\n",
       "      <td>#7f6e85</td>\n",
       "      <td></td>\n",
       "      <td>[0.08, -0.07, -0.1, -0.09, -0.15, 0.25, 0.26, ...</td>\n",
       "    </tr>\n",
       "    <tr>\n",
       "      <th>9</th>\n",
       "      <td>9</td>\n",
       "      <td>POLYGON ((-122.475859 37.794251, -122.475813 3...</td>\n",
       "      <td>#994fa1</td>\n",
       "      <td></td>\n",
       "      <td>[0.14, -0.16, -0.17, -0.17, -0.15, -0.46, -0.3...</td>\n",
       "    </tr>\n",
       "    <tr>\n",
       "      <th>10</th>\n",
       "      <td>10</td>\n",
       "      <td>(POLYGON ((-122.471319 37.708305, -122.471485 ...</td>\n",
       "      <td>#ba5e6e</td>\n",
       "      <td></td>\n",
       "      <td>[0.03, -0.12, -0.11, -0.08, -0.13, 0.17, 0.32,...</td>\n",
       "    </tr>\n",
       "    <tr>\n",
       "      <th>11</th>\n",
       "      <td>11</td>\n",
       "      <td>POLYGON ((-122.442079 37.708231, -122.443138 3...</td>\n",
       "      <td>#dd6f36</td>\n",
       "      <td></td>\n",
       "      <td>[0.08, -0.04, -0.03, -0.03, -0.08, 0.28, 0.51,...</td>\n",
       "    </tr>\n",
       "    <tr>\n",
       "      <th>12</th>\n",
       "      <td>12</td>\n",
       "      <td>POLYGON ((-122.4574874298107 37.71000478412829...</td>\n",
       "      <td>#ff8101</td>\n",
       "      <td></td>\n",
       "      <td>[0.07, -0.06, -0.12, -0.06, -0.11, 0.23, 0.35,...</td>\n",
       "    </tr>\n",
       "    <tr>\n",
       "      <th>13</th>\n",
       "      <td>13</td>\n",
       "      <td>POLYGON ((-122.452407 37.805738, -122.451918 3...</td>\n",
       "      <td>#ffa911</td>\n",
       "      <td></td>\n",
       "      <td>[0.17, -0.01, 0.05, 0.04, -0.11, 0.17, -0.04, ...</td>\n",
       "    </tr>\n",
       "    <tr>\n",
       "      <th>14</th>\n",
       "      <td>14</td>\n",
       "      <td>POLYGON ((-122.474423 37.767725, -122.474483 3...</td>\n",
       "      <td>#ffd522</td>\n",
       "      <td></td>\n",
       "      <td>[0.12, 0.02, 0.07, 0.01, -0.12, 0.26, 0.12, 0....</td>\n",
       "    </tr>\n",
       "    <tr>\n",
       "      <th>15</th>\n",
       "      <td>15</td>\n",
       "      <td>POLYGON ((-122.4490247342975 37.74286960244524...</td>\n",
       "      <td>#fdfc33</td>\n",
       "      <td></td>\n",
       "      <td>[0.1, -0.07, -0.05, -0.07, -0.14, 0.27, 0.22, ...</td>\n",
       "    </tr>\n",
       "    <tr>\n",
       "      <th>16</th>\n",
       "      <td>16</td>\n",
       "      <td>POLYGON ((-122.483615 37.70926923656876, -122....</td>\n",
       "      <td>#e1c72f</td>\n",
       "      <td></td>\n",
       "      <td>[0.16, -0.13, -0.04, -0.11, -0.11, 0.02, -0.05...</td>\n",
       "    </tr>\n",
       "    <tr>\n",
       "      <th>17</th>\n",
       "      <td>17</td>\n",
       "      <td>POLYGON ((-122.3629014197838 37.81335943983415...</td>\n",
       "      <td>#c38c2c</td>\n",
       "      <td></td>\n",
       "      <td>[-0.8, -0.2, -0.13, -0.19, 0.84, -0.48, -0.45,...</td>\n",
       "    </tr>\n",
       "    <tr>\n",
       "      <th>18</th>\n",
       "      <td>18</td>\n",
       "      <td>POLYGON ((-122.5107221477283 37.7686800341287,...</td>\n",
       "      <td>#a8572c</td>\n",
       "      <td></td>\n",
       "      <td>[0.07, -0.12, -0.07, -0.11, -0.13, 0.28, 0.14,...</td>\n",
       "    </tr>\n",
       "    <tr>\n",
       "      <th>19</th>\n",
       "      <td>19</td>\n",
       "      <td>POLYGON ((-122.422384 37.747172, -122.422462 3...</td>\n",
       "      <td>#c1655b</td>\n",
       "      <td></td>\n",
       "      <td>[0.11, 0.3, 0.09, 0.17, 0.01, 0.26, 0.26, 0.12...</td>\n",
       "    </tr>\n",
       "    <tr>\n",
       "      <th>20</th>\n",
       "      <td>20</td>\n",
       "      <td>POLYGON ((-122.4714599179158 37.77315231013014...</td>\n",
       "      <td>#dd738f</td>\n",
       "      <td></td>\n",
       "      <td>[0.12, 0.08, 0.0, 0.05, -0.07, 0.2, 0.05, 0.33...</td>\n",
       "    </tr>\n",
       "    <tr>\n",
       "      <th>21</th>\n",
       "      <td>21</td>\n",
       "      <td>(POLYGON ((-122.377383 37.724166, -122.37728 3...</td>\n",
       "      <td>#f482be</td>\n",
       "      <td></td>\n",
       "      <td>[-0.07, -0.14, -0.1, -0.16, -0.16, -0.56, -0.4...</td>\n",
       "    </tr>\n",
       "    <tr>\n",
       "      <th>22</th>\n",
       "      <td>22</td>\n",
       "      <td>POLYGON ((-122.48669 37.708233, -122.493583 37...</td>\n",
       "      <td>#d789b2</td>\n",
       "      <td></td>\n",
       "      <td>[0.16, -0.18, -0.07, -0.19, -0.08, -0.53, -0.4...</td>\n",
       "    </tr>\n",
       "    <tr>\n",
       "      <th>23</th>\n",
       "      <td>23</td>\n",
       "      <td>(POLYGON ((-122.370921 37.818299, -122.371942 ...</td>\n",
       "      <td>#b691a5</td>\n",
       "      <td></td>\n",
       "      <td>[-0.78, -0.25, -0.1, -0.18, 0.53, -0.61, -0.48...</td>\n",
       "    </tr>\n",
       "    <tr>\n",
       "      <th>24</th>\n",
       "      <td>24</td>\n",
       "      <td>POLYGON ((-122.386896 37.772189, -122.38693 37...</td>\n",
       "      <td>#999999</td>\n",
       "      <td></td>\n",
       "      <td>[-0.59, -0.05, -0.07, -0.08, -0.1, -0.64, -0.4...</td>\n",
       "    </tr>\n",
       "    <tr>\n",
       "      <th>0</th>\n",
       "      <td>0</td>\n",
       "      <td>POLYGON ((-122.451088 37.749696, -122.451063 3...</td>\n",
       "      <td>#e41a1c</td>\n",
       "      <td>00010203040607</td>\n",
       "      <td>[-0.02, -0.06, 0.12, -0.08, -0.15, -0.13, 0.17]</td>\n",
       "    </tr>\n",
       "    <tr>\n",
       "      <th>1</th>\n",
       "      <td>1</td>\n",
       "      <td>(POLYGON ((-122.436138 37.749562, -122.43832 3...</td>\n",
       "      <td>#ae394d</td>\n",
       "      <td>00010203040607</td>\n",
       "      <td>[0.07, 0.09, 0.13, 0.27, 0.32, 0.16, 0.11]</td>\n",
       "    </tr>\n",
       "    <tr>\n",
       "      <th>2</th>\n",
       "      <td>2</td>\n",
       "      <td>(POLYGON ((-122.426737 37.711225, -122.426957 ...</td>\n",
       "      <td>#725c83</td>\n",
       "      <td>00010203040607</td>\n",
       "      <td>[-0.21, 0.06, 0.09, -0.02, -0.05, -0.1, 0.27]</td>\n",
       "    </tr>\n",
       "    <tr>\n",
       "      <th>3</th>\n",
       "      <td>3</td>\n",
       "      <td>POLYGON ((-122.4103819268249 37.77876979913257...</td>\n",
       "      <td>#377eb8</td>\n",
       "      <td>00010203040607</td>\n",
       "      <td>[0.08, 0.27, 0.09, 0.05, 0.04, 0.06, -0.16]</td>\n",
       "    </tr>\n",
       "    <tr>\n",
       "      <th>4</th>\n",
       "      <td>4</td>\n",
       "      <td>(POLYGON ((-122.376974 37.733616, -122.377041 ...</td>\n",
       "      <td>#3e8e95</td>\n",
       "      <td>00010203040607</td>\n",
       "      <td>[-0.21, 0.32, 0.04, 0.02, -0.07, -0.02, -0.09]</td>\n",
       "    </tr>\n",
       "    <tr>\n",
       "      <th>...</th>\n",
       "      <td>...</td>\n",
       "      <td>...</td>\n",
       "      <td>...</td>\n",
       "      <td>...</td>\n",
       "      <td>...</td>\n",
       "    </tr>\n",
       "    <tr>\n",
       "      <th>20</th>\n",
       "      <td>20</td>\n",
       "      <td>POLYGON ((-122.4714599179158 37.77315231013014...</td>\n",
       "      <td>#dd738f</td>\n",
       "      <td>00010203040607</td>\n",
       "      <td>[0.17, -0.22, 0.12, 0.08, 0.0, -0.07, 0.2]</td>\n",
       "    </tr>\n",
       "    <tr>\n",
       "      <th>21</th>\n",
       "      <td>21</td>\n",
       "      <td>(POLYGON ((-122.377383 37.724166, -122.37728 3...</td>\n",
       "      <td>#f482be</td>\n",
       "      <td>00010203040607</td>\n",
       "      <td>[-0.26, 0.49, -0.07, -0.14, -0.1, -0.16, -0.56]</td>\n",
       "    </tr>\n",
       "    <tr>\n",
       "      <th>22</th>\n",
       "      <td>22</td>\n",
       "      <td>POLYGON ((-122.48669 37.708233, -122.493583 37...</td>\n",
       "      <td>#d789b2</td>\n",
       "      <td>00010203040607</td>\n",
       "      <td>[-0.43, -0.43, 0.16, -0.18, -0.07, -0.08, -0.53]</td>\n",
       "    </tr>\n",
       "    <tr>\n",
       "      <th>23</th>\n",
       "      <td>23</td>\n",
       "      <td>(POLYGON ((-122.370921 37.818299, -122.371942 ...</td>\n",
       "      <td>#b691a5</td>\n",
       "      <td>00010203040607</td>\n",
       "      <td>[0.57, 0.48, -0.78, -0.25, -0.1, 0.53, -0.61]</td>\n",
       "    </tr>\n",
       "    <tr>\n",
       "      <th>24</th>\n",
       "      <td>24</td>\n",
       "      <td>POLYGON ((-122.386896 37.772189, -122.38693 37...</td>\n",
       "      <td>#999999</td>\n",
       "      <td>00010203040607</td>\n",
       "      <td>[0.16, 0.38, -0.59, -0.05, -0.07, -0.1, -0.64]</td>\n",
       "    </tr>\n",
       "    <tr>\n",
       "      <th>0</th>\n",
       "      <td>0</td>\n",
       "      <td>POLYGON ((-122.451088 37.749696, -122.451063 3...</td>\n",
       "      <td>#e41a1c</td>\n",
       "      <td>000102050608</td>\n",
       "      <td>[-0.02, -0.06, 0.12, -0.07, -0.13, 0.09]</td>\n",
       "    </tr>\n",
       "    <tr>\n",
       "      <th>1</th>\n",
       "      <td>1</td>\n",
       "      <td>(POLYGON ((-122.436138 37.749562, -122.43832 3...</td>\n",
       "      <td>#ae394d</td>\n",
       "      <td>000102050608</td>\n",
       "      <td>[0.07, 0.09, 0.13, 0.27, 0.16, 0.04]</td>\n",
       "    </tr>\n",
       "    <tr>\n",
       "      <th>2</th>\n",
       "      <td>2</td>\n",
       "      <td>(POLYGON ((-122.426737 37.711225, -122.426957 ...</td>\n",
       "      <td>#725c83</td>\n",
       "      <td>000102050608</td>\n",
       "      <td>[-0.21, 0.06, 0.09, -0.02, -0.1, 0.27]</td>\n",
       "    </tr>\n",
       "    <tr>\n",
       "      <th>3</th>\n",
       "      <td>3</td>\n",
       "      <td>POLYGON ((-122.4103819268249 37.77876979913257...</td>\n",
       "      <td>#377eb8</td>\n",
       "      <td>000102050608</td>\n",
       "      <td>[0.08, 0.27, 0.09, 0.17, 0.06, -0.21]</td>\n",
       "    </tr>\n",
       "    <tr>\n",
       "      <th>4</th>\n",
       "      <td>4</td>\n",
       "      <td>(POLYGON ((-122.376974 37.733616, -122.377041 ...</td>\n",
       "      <td>#3e8e95</td>\n",
       "      <td>000102050608</td>\n",
       "      <td>[-0.21, 0.32, 0.04, -0.01, -0.02, 0.05]</td>\n",
       "    </tr>\n",
       "    <tr>\n",
       "      <th>5</th>\n",
       "      <td>5</td>\n",
       "      <td>POLYGON ((-122.405744 37.742521, -122.405405 3...</td>\n",
       "      <td>#469e6f</td>\n",
       "      <td>000102050608</td>\n",
       "      <td>[-0.31, 0.21, 0.01, -0.06, -0.1, 0.29]</td>\n",
       "    </tr>\n",
       "    <tr>\n",
       "      <th>6</th>\n",
       "      <td>6</td>\n",
       "      <td>POLYGON ((-122.443215 37.764558, -122.4432 37....</td>\n",
       "      <td>#4eae4b</td>\n",
       "      <td>000102050608</td>\n",
       "      <td>[0.21, -0.04, 0.13, 0.16, 0.01, 0.06]</td>\n",
       "    </tr>\n",
       "    <tr>\n",
       "      <th>7</th>\n",
       "      <td>7</td>\n",
       "      <td>POLYGON ((-122.428255 37.806997, -122.427777 3...</td>\n",
       "      <td>#659067</td>\n",
       "      <td>000102050608</td>\n",
       "      <td>[0.34, 0.18, 0.2, 0.81, 0.38, -0.11]</td>\n",
       "    </tr>\n",
       "    <tr>\n",
       "      <th>8</th>\n",
       "      <td>8</td>\n",
       "      <td>POLYGON ((-122.486631 37.712706, -122.488115 3...</td>\n",
       "      <td>#7f6e85</td>\n",
       "      <td>000102050608</td>\n",
       "      <td>[-0.09, -0.42, 0.08, -0.09, -0.15, 0.26]</td>\n",
       "    </tr>\n",
       "    <tr>\n",
       "      <th>9</th>\n",
       "      <td>9</td>\n",
       "      <td>POLYGON ((-122.475859 37.794251, -122.475813 3...</td>\n",
       "      <td>#994fa1</td>\n",
       "      <td>000102050608</td>\n",
       "      <td>[0.4, -0.26, 0.14, -0.17, -0.15, -0.32]</td>\n",
       "    </tr>\n",
       "    <tr>\n",
       "      <th>10</th>\n",
       "      <td>10</td>\n",
       "      <td>(POLYGON ((-122.471319 37.708305, -122.471485 ...</td>\n",
       "      <td>#ba5e6e</td>\n",
       "      <td>000102050608</td>\n",
       "      <td>[-0.4, -0.21, 0.03, -0.08, -0.13, 0.32]</td>\n",
       "    </tr>\n",
       "    <tr>\n",
       "      <th>11</th>\n",
       "      <td>11</td>\n",
       "      <td>POLYGON ((-122.442079 37.708231, -122.443138 3...</td>\n",
       "      <td>#dd6f36</td>\n",
       "      <td>000102050608</td>\n",
       "      <td>[-0.38, -0.01, 0.08, -0.03, -0.08, 0.51]</td>\n",
       "    </tr>\n",
       "    <tr>\n",
       "      <th>12</th>\n",
       "      <td>12</td>\n",
       "      <td>POLYGON ((-122.4574874298107 37.71000478412829...</td>\n",
       "      <td>#ff8101</td>\n",
       "      <td>000102050608</td>\n",
       "      <td>[-0.32, -0.11, 0.07, -0.06, -0.11, 0.35]</td>\n",
       "    </tr>\n",
       "    <tr>\n",
       "      <th>13</th>\n",
       "      <td>13</td>\n",
       "      <td>POLYGON ((-122.452407 37.805738, -122.451918 3...</td>\n",
       "      <td>#ffa911</td>\n",
       "      <td>000102050608</td>\n",
       "      <td>[0.38, -0.07, 0.17, 0.04, -0.11, -0.04]</td>\n",
       "    </tr>\n",
       "    <tr>\n",
       "      <th>14</th>\n",
       "      <td>14</td>\n",
       "      <td>POLYGON ((-122.474423 37.767725, -122.474483 3...</td>\n",
       "      <td>#ffd522</td>\n",
       "      <td>000102050608</td>\n",
       "      <td>[0.2, -0.31, 0.12, 0.01, -0.12, 0.12]</td>\n",
       "    </tr>\n",
       "    <tr>\n",
       "      <th>15</th>\n",
       "      <td>15</td>\n",
       "      <td>POLYGON ((-122.4490247342975 37.74286960244524...</td>\n",
       "      <td>#fdfc33</td>\n",
       "      <td>000102050608</td>\n",
       "      <td>[-0.13, -0.23, 0.1, -0.07, -0.14, 0.22]</td>\n",
       "    </tr>\n",
       "    <tr>\n",
       "      <th>16</th>\n",
       "      <td>16</td>\n",
       "      <td>POLYGON ((-122.483615 37.70926923656876, -122....</td>\n",
       "      <td>#e1c72f</td>\n",
       "      <td>000102050608</td>\n",
       "      <td>[-0.37, -0.31, 0.16, -0.11, -0.11, -0.05]</td>\n",
       "    </tr>\n",
       "    <tr>\n",
       "      <th>17</th>\n",
       "      <td>17</td>\n",
       "      <td>POLYGON ((-122.3629014197838 37.81335943983415...</td>\n",
       "      <td>#c38c2c</td>\n",
       "      <td>000102050608</td>\n",
       "      <td>[0.49, 0.52, -0.8, -0.19, 0.84, -0.45]</td>\n",
       "    </tr>\n",
       "    <tr>\n",
       "      <th>18</th>\n",
       "      <td>18</td>\n",
       "      <td>POLYGON ((-122.5107221477283 37.7686800341287,...</td>\n",
       "      <td>#a8572c</td>\n",
       "      <td>000102050608</td>\n",
       "      <td>[0.17, -0.48, 0.07, -0.11, -0.13, 0.14]</td>\n",
       "    </tr>\n",
       "    <tr>\n",
       "      <th>19</th>\n",
       "      <td>19</td>\n",
       "      <td>POLYGON ((-122.422384 37.747172, -122.422462 3...</td>\n",
       "      <td>#c1655b</td>\n",
       "      <td>000102050608</td>\n",
       "      <td>[-0.09, 0.17, 0.11, 0.17, 0.01, 0.26]</td>\n",
       "    </tr>\n",
       "    <tr>\n",
       "      <th>20</th>\n",
       "      <td>20</td>\n",
       "      <td>POLYGON ((-122.4714599179158 37.77315231013014...</td>\n",
       "      <td>#dd738f</td>\n",
       "      <td>000102050608</td>\n",
       "      <td>[0.17, -0.22, 0.12, 0.05, -0.07, 0.05]</td>\n",
       "    </tr>\n",
       "    <tr>\n",
       "      <th>21</th>\n",
       "      <td>21</td>\n",
       "      <td>(POLYGON ((-122.377383 37.724166, -122.37728 3...</td>\n",
       "      <td>#f482be</td>\n",
       "      <td>000102050608</td>\n",
       "      <td>[-0.26, 0.49, -0.07, -0.16, -0.16, -0.44]</td>\n",
       "    </tr>\n",
       "    <tr>\n",
       "      <th>22</th>\n",
       "      <td>22</td>\n",
       "      <td>POLYGON ((-122.48669 37.708233, -122.493583 37...</td>\n",
       "      <td>#d789b2</td>\n",
       "      <td>000102050608</td>\n",
       "      <td>[-0.43, -0.43, 0.16, -0.19, -0.08, -0.49]</td>\n",
       "    </tr>\n",
       "    <tr>\n",
       "      <th>23</th>\n",
       "      <td>23</td>\n",
       "      <td>(POLYGON ((-122.370921 37.818299, -122.371942 ...</td>\n",
       "      <td>#b691a5</td>\n",
       "      <td>000102050608</td>\n",
       "      <td>[0.57, 0.48, -0.78, -0.18, 0.53, -0.48]</td>\n",
       "    </tr>\n",
       "    <tr>\n",
       "      <th>24</th>\n",
       "      <td>24</td>\n",
       "      <td>POLYGON ((-122.386896 37.772189, -122.38693 37...</td>\n",
       "      <td>#999999</td>\n",
       "      <td>000102050608</td>\n",
       "      <td>[0.16, 0.38, -0.59, -0.08, -0.1, -0.43]</td>\n",
       "    </tr>\n",
       "  </tbody>\n",
       "</table>\n",
       "<p>75 rows × 5 columns</p>\n",
       "</div>"
      ],
      "text/plain": [
       "    cnum                                            polygon    color  \\\n",
       "0      0  POLYGON ((-122.451088 37.749696, -122.451063 3...  #e41a1c   \n",
       "1      1  (POLYGON ((-122.436138 37.749562, -122.43832 3...  #ae394d   \n",
       "2      2  (POLYGON ((-122.426737 37.711225, -122.426957 ...  #725c83   \n",
       "3      3  POLYGON ((-122.4103819268249 37.77876979913257...  #377eb8   \n",
       "4      4  (POLYGON ((-122.376974 37.733616, -122.377041 ...  #3e8e95   \n",
       "5      5  POLYGON ((-122.405744 37.742521, -122.405405 3...  #469e6f   \n",
       "6      6  POLYGON ((-122.443215 37.764558, -122.4432 37....  #4eae4b   \n",
       "7      7  POLYGON ((-122.428255 37.806997, -122.427777 3...  #659067   \n",
       "8      8  POLYGON ((-122.486631 37.712706, -122.488115 3...  #7f6e85   \n",
       "9      9  POLYGON ((-122.475859 37.794251, -122.475813 3...  #994fa1   \n",
       "10    10  (POLYGON ((-122.471319 37.708305, -122.471485 ...  #ba5e6e   \n",
       "11    11  POLYGON ((-122.442079 37.708231, -122.443138 3...  #dd6f36   \n",
       "12    12  POLYGON ((-122.4574874298107 37.71000478412829...  #ff8101   \n",
       "13    13  POLYGON ((-122.452407 37.805738, -122.451918 3...  #ffa911   \n",
       "14    14  POLYGON ((-122.474423 37.767725, -122.474483 3...  #ffd522   \n",
       "15    15  POLYGON ((-122.4490247342975 37.74286960244524...  #fdfc33   \n",
       "16    16  POLYGON ((-122.483615 37.70926923656876, -122....  #e1c72f   \n",
       "17    17  POLYGON ((-122.3629014197838 37.81335943983415...  #c38c2c   \n",
       "18    18  POLYGON ((-122.5107221477283 37.7686800341287,...  #a8572c   \n",
       "19    19  POLYGON ((-122.422384 37.747172, -122.422462 3...  #c1655b   \n",
       "20    20  POLYGON ((-122.4714599179158 37.77315231013014...  #dd738f   \n",
       "21    21  (POLYGON ((-122.377383 37.724166, -122.37728 3...  #f482be   \n",
       "22    22  POLYGON ((-122.48669 37.708233, -122.493583 37...  #d789b2   \n",
       "23    23  (POLYGON ((-122.370921 37.818299, -122.371942 ...  #b691a5   \n",
       "24    24  POLYGON ((-122.386896 37.772189, -122.38693 37...  #999999   \n",
       "0      0  POLYGON ((-122.451088 37.749696, -122.451063 3...  #e41a1c   \n",
       "1      1  (POLYGON ((-122.436138 37.749562, -122.43832 3...  #ae394d   \n",
       "2      2  (POLYGON ((-122.426737 37.711225, -122.426957 ...  #725c83   \n",
       "3      3  POLYGON ((-122.4103819268249 37.77876979913257...  #377eb8   \n",
       "4      4  (POLYGON ((-122.376974 37.733616, -122.377041 ...  #3e8e95   \n",
       "..   ...                                                ...      ...   \n",
       "20    20  POLYGON ((-122.4714599179158 37.77315231013014...  #dd738f   \n",
       "21    21  (POLYGON ((-122.377383 37.724166, -122.37728 3...  #f482be   \n",
       "22    22  POLYGON ((-122.48669 37.708233, -122.493583 37...  #d789b2   \n",
       "23    23  (POLYGON ((-122.370921 37.818299, -122.371942 ...  #b691a5   \n",
       "24    24  POLYGON ((-122.386896 37.772189, -122.38693 37...  #999999   \n",
       "0      0  POLYGON ((-122.451088 37.749696, -122.451063 3...  #e41a1c   \n",
       "1      1  (POLYGON ((-122.436138 37.749562, -122.43832 3...  #ae394d   \n",
       "2      2  (POLYGON ((-122.426737 37.711225, -122.426957 ...  #725c83   \n",
       "3      3  POLYGON ((-122.4103819268249 37.77876979913257...  #377eb8   \n",
       "4      4  (POLYGON ((-122.376974 37.733616, -122.377041 ...  #3e8e95   \n",
       "5      5  POLYGON ((-122.405744 37.742521, -122.405405 3...  #469e6f   \n",
       "6      6  POLYGON ((-122.443215 37.764558, -122.4432 37....  #4eae4b   \n",
       "7      7  POLYGON ((-122.428255 37.806997, -122.427777 3...  #659067   \n",
       "8      8  POLYGON ((-122.486631 37.712706, -122.488115 3...  #7f6e85   \n",
       "9      9  POLYGON ((-122.475859 37.794251, -122.475813 3...  #994fa1   \n",
       "10    10  (POLYGON ((-122.471319 37.708305, -122.471485 ...  #ba5e6e   \n",
       "11    11  POLYGON ((-122.442079 37.708231, -122.443138 3...  #dd6f36   \n",
       "12    12  POLYGON ((-122.4574874298107 37.71000478412829...  #ff8101   \n",
       "13    13  POLYGON ((-122.452407 37.805738, -122.451918 3...  #ffa911   \n",
       "14    14  POLYGON ((-122.474423 37.767725, -122.474483 3...  #ffd522   \n",
       "15    15  POLYGON ((-122.4490247342975 37.74286960244524...  #fdfc33   \n",
       "16    16  POLYGON ((-122.483615 37.70926923656876, -122....  #e1c72f   \n",
       "17    17  POLYGON ((-122.3629014197838 37.81335943983415...  #c38c2c   \n",
       "18    18  POLYGON ((-122.5107221477283 37.7686800341287,...  #a8572c   \n",
       "19    19  POLYGON ((-122.422384 37.747172, -122.422462 3...  #c1655b   \n",
       "20    20  POLYGON ((-122.4714599179158 37.77315231013014...  #dd738f   \n",
       "21    21  (POLYGON ((-122.377383 37.724166, -122.37728 3...  #f482be   \n",
       "22    22  POLYGON ((-122.48669 37.708233, -122.493583 37...  #d789b2   \n",
       "23    23  (POLYGON ((-122.370921 37.818299, -122.371942 ...  #b691a5   \n",
       "24    24  POLYGON ((-122.386896 37.772189, -122.38693 37...  #999999   \n",
       "\n",
       "             mapno                                              fbars  \n",
       "0                   [0.12, -0.08, -0.15, -0.07, -0.13, 0.17, 0.09,...  \n",
       "1                   [0.13, 0.27, 0.32, 0.27, 0.16, 0.11, 0.04, 0.3...  \n",
       "2                   [0.09, -0.02, -0.05, -0.02, -0.1, 0.27, 0.27, ...  \n",
       "3                   [0.09, 0.05, 0.04, 0.17, 0.06, -0.16, -0.21, -...  \n",
       "4                   [0.04, 0.02, -0.07, -0.01, -0.02, -0.09, 0.05,...  \n",
       "5                   [0.01, 0.06, -0.08, -0.06, -0.1, 0.12, 0.29, -...  \n",
       "6                   [0.13, 0.15, 0.12, 0.16, 0.01, 0.36, 0.06, 0.4...  \n",
       "7                   [0.2, 0.75, 0.83, 0.81, 0.38, 0.12, -0.11, 0.4...  \n",
       "8                   [0.08, -0.07, -0.1, -0.09, -0.15, 0.25, 0.26, ...  \n",
       "9                   [0.14, -0.16, -0.17, -0.17, -0.15, -0.46, -0.3...  \n",
       "10                  [0.03, -0.12, -0.11, -0.08, -0.13, 0.17, 0.32,...  \n",
       "11                  [0.08, -0.04, -0.03, -0.03, -0.08, 0.28, 0.51,...  \n",
       "12                  [0.07, -0.06, -0.12, -0.06, -0.11, 0.23, 0.35,...  \n",
       "13                  [0.17, -0.01, 0.05, 0.04, -0.11, 0.17, -0.04, ...  \n",
       "14                  [0.12, 0.02, 0.07, 0.01, -0.12, 0.26, 0.12, 0....  \n",
       "15                  [0.1, -0.07, -0.05, -0.07, -0.14, 0.27, 0.22, ...  \n",
       "16                  [0.16, -0.13, -0.04, -0.11, -0.11, 0.02, -0.05...  \n",
       "17                  [-0.8, -0.2, -0.13, -0.19, 0.84, -0.48, -0.45,...  \n",
       "18                  [0.07, -0.12, -0.07, -0.11, -0.13, 0.28, 0.14,...  \n",
       "19                  [0.11, 0.3, 0.09, 0.17, 0.01, 0.26, 0.26, 0.12...  \n",
       "20                  [0.12, 0.08, 0.0, 0.05, -0.07, 0.2, 0.05, 0.33...  \n",
       "21                  [-0.07, -0.14, -0.1, -0.16, -0.16, -0.56, -0.4...  \n",
       "22                  [0.16, -0.18, -0.07, -0.19, -0.08, -0.53, -0.4...  \n",
       "23                  [-0.78, -0.25, -0.1, -0.18, 0.53, -0.61, -0.48...  \n",
       "24                  [-0.59, -0.05, -0.07, -0.08, -0.1, -0.64, -0.4...  \n",
       "0   00010203040607    [-0.02, -0.06, 0.12, -0.08, -0.15, -0.13, 0.17]  \n",
       "1   00010203040607         [0.07, 0.09, 0.13, 0.27, 0.32, 0.16, 0.11]  \n",
       "2   00010203040607      [-0.21, 0.06, 0.09, -0.02, -0.05, -0.1, 0.27]  \n",
       "3   00010203040607        [0.08, 0.27, 0.09, 0.05, 0.04, 0.06, -0.16]  \n",
       "4   00010203040607     [-0.21, 0.32, 0.04, 0.02, -0.07, -0.02, -0.09]  \n",
       "..             ...                                                ...  \n",
       "20  00010203040607         [0.17, -0.22, 0.12, 0.08, 0.0, -0.07, 0.2]  \n",
       "21  00010203040607    [-0.26, 0.49, -0.07, -0.14, -0.1, -0.16, -0.56]  \n",
       "22  00010203040607   [-0.43, -0.43, 0.16, -0.18, -0.07, -0.08, -0.53]  \n",
       "23  00010203040607      [0.57, 0.48, -0.78, -0.25, -0.1, 0.53, -0.61]  \n",
       "24  00010203040607     [0.16, 0.38, -0.59, -0.05, -0.07, -0.1, -0.64]  \n",
       "0     000102050608           [-0.02, -0.06, 0.12, -0.07, -0.13, 0.09]  \n",
       "1     000102050608               [0.07, 0.09, 0.13, 0.27, 0.16, 0.04]  \n",
       "2     000102050608             [-0.21, 0.06, 0.09, -0.02, -0.1, 0.27]  \n",
       "3     000102050608              [0.08, 0.27, 0.09, 0.17, 0.06, -0.21]  \n",
       "4     000102050608            [-0.21, 0.32, 0.04, -0.01, -0.02, 0.05]  \n",
       "5     000102050608             [-0.31, 0.21, 0.01, -0.06, -0.1, 0.29]  \n",
       "6     000102050608              [0.21, -0.04, 0.13, 0.16, 0.01, 0.06]  \n",
       "7     000102050608               [0.34, 0.18, 0.2, 0.81, 0.38, -0.11]  \n",
       "8     000102050608           [-0.09, -0.42, 0.08, -0.09, -0.15, 0.26]  \n",
       "9     000102050608            [0.4, -0.26, 0.14, -0.17, -0.15, -0.32]  \n",
       "10    000102050608            [-0.4, -0.21, 0.03, -0.08, -0.13, 0.32]  \n",
       "11    000102050608           [-0.38, -0.01, 0.08, -0.03, -0.08, 0.51]  \n",
       "12    000102050608           [-0.32, -0.11, 0.07, -0.06, -0.11, 0.35]  \n",
       "13    000102050608            [0.38, -0.07, 0.17, 0.04, -0.11, -0.04]  \n",
       "14    000102050608              [0.2, -0.31, 0.12, 0.01, -0.12, 0.12]  \n",
       "15    000102050608            [-0.13, -0.23, 0.1, -0.07, -0.14, 0.22]  \n",
       "16    000102050608          [-0.37, -0.31, 0.16, -0.11, -0.11, -0.05]  \n",
       "17    000102050608             [0.49, 0.52, -0.8, -0.19, 0.84, -0.45]  \n",
       "18    000102050608            [0.17, -0.48, 0.07, -0.11, -0.13, 0.14]  \n",
       "19    000102050608              [-0.09, 0.17, 0.11, 0.17, 0.01, 0.26]  \n",
       "20    000102050608             [0.17, -0.22, 0.12, 0.05, -0.07, 0.05]  \n",
       "21    000102050608          [-0.26, 0.49, -0.07, -0.16, -0.16, -0.44]  \n",
       "22    000102050608          [-0.43, -0.43, 0.16, -0.19, -0.08, -0.49]  \n",
       "23    000102050608            [0.57, 0.48, -0.78, -0.18, 0.53, -0.48]  \n",
       "24    000102050608            [0.16, 0.38, -0.59, -0.08, -0.1, -0.43]  \n",
       "\n",
       "[75 rows x 5 columns]"
      ]
     },
     "execution_count": 24,
     "metadata": {},
     "output_type": "execute_result"
    }
   ],
   "source": [
    "alldf"
   ]
  },
  {
   "cell_type": "code",
   "execution_count": 34,
   "metadata": {
    "collapsed": false
   },
   "outputs": [],
   "source": [
    "gjson = make_json(alldf.cnum, alldf.polygon, alldf.color, alldf.mapno, alldf.fbars)"
   ]
  },
  {
   "cell_type": "code",
   "execution_count": 33,
   "metadata": {
    "collapsed": false
   },
   "outputs": [
    {
     "data": {
      "image/svg+xml": [
       "<svg xmlns=\"http://www.w3.org/2000/svg\" xmlns:xlink=\"http://www.w3.org/1999/xlink\" width=\"100.0\" height=\"100.0\" viewBox=\"-122.444244943 37.7472265673 0.0379736828245 0.0358318653944\" preserveAspectRatio=\"xMinYMin meet\"><g transform=\"matrix(1,0,0,-1,0,75.530285)\"><g><path fill-rule=\"evenodd\" fill=\"#66cc99\" stroke=\"#555555\" stroke-width=\"0.000759473656491\" opacity=\"0.6\" d=\"M -122.436138,37.749562 L -122.43832,37.74943 L -122.43939,37.749365 L -122.439547,37.750963 L -122.440616,37.750902 L -122.440695,37.751698 L -122.440774,37.752498 L -122.439309675,37.752587388 L -122.43767417,37.7545571386 L -122.437769,37.755541 L -122.437803,37.755893 L -122.437959,37.757491 L -122.438112,37.759093 L -122.438265,37.760692 L -122.438362,37.761704 L -122.438418,37.762291 L -122.439491,37.762227 L -122.43961,37.763488 L -122.43943,37.763621 L -122.442181,37.765 L -122.442317,37.765003 L -122.442336,37.765052 L -122.4423,37.765106 L -122.442039,37.765122 L -122.441961,37.765172 L -122.441932,37.765295 L -122.442087,37.765324 L -122.44283851,37.7653346977 L -122.442572258,37.765927449 L -122.442361,37.765885 L -122.442167,37.765888 L -122.442009,37.765907 L -122.441938,37.765953 L -122.440604,37.766955 L -122.440137,37.767757 L -122.439467305,37.768084638 L -122.439301,37.768166 L -122.43882,37.768401 L -122.438338,37.769007 L -122.438351,37.769185 L -122.438482722,37.769324257 L -122.438482722,37.769324257 L -122.438823,37.769684 L -122.43915,37.769938 L -122.439254,37.770025 L -122.438517,37.770126 L -122.438673839,37.7708856876 L -122.438261285,37.7711128056 L -122.438028817,37.7711423011 L -122.437046,37.771267 L -122.435373,37.771479 L -122.435561263,37.7724094151 L -122.434106625,37.7735493008 L -122.433428497,37.7736352026 L -122.432467,37.773757 L -122.432351,37.773779 L -122.430825,37.773973 L -122.431012,37.774903 L -122.431199,37.775834 L -122.431314964,37.7764144468 L -122.430570418,37.7778277064 L -122.43036807,37.777853313 L -122.43030557,37.7778612223 L -122.429849,37.777919 L -122.429943,37.778019 L -122.430106,37.778727 L -122.430047,37.778851 L -122.429987,37.778979 L -122.429998191,37.7790341725 L -122.429636874,37.7798590434 L -122.429080034,37.7799300754 L -122.428477,37.780007 L -122.428565937,37.7804409773 L -122.428565937,37.7804409773 L -122.428668,37.780939 L -122.428759816,37.7810952139 L -122.428398228,37.7814978293 L -122.427862,37.781564 L -122.427312,37.781652 L -122.427203,37.781117 L -122.427017,37.780193 L -122.425156,37.78043 L -122.423731,37.780612 L -122.423825,37.781078 L -122.422520765,37.7812436171 L -122.422153044,37.7811281064 L -122.422087,37.780821 L -122.421438584,37.780903676 L -122.420425558,37.7805854581 L -122.420425,37.780583 L -122.420343551,37.780223345 L -122.420336,37.78019 L -122.420247,37.780075 L -122.420034,37.78008 L -122.419883074,37.7800989315 L -122.418599,37.78026 L -122.418154975,37.7803164781 L -122.416896716,37.7802175686 L -122.416768,37.779584 L -122.415127,37.779789 L -122.414705225,37.7798412075 L -122.413689189,37.7796059482 L -122.414721,37.778791 L -122.414741,37.778719 L -122.414143,37.778241 L -122.413158,37.777457 L -122.412413,37.778045 L -122.41187,37.777619 L -122.412617,37.777026 L -122.412158,37.776661 L -122.411250576,37.7773783551 L -122.411250576,37.7773783551 L -122.411093476,37.7775025493 L -122.409426913,37.7754937425 L -122.409481,37.775451 L -122.410063,37.774992 L -122.40952,37.774552 L -122.409062,37.774195 L -122.408516,37.77376 L -122.408913,37.773447 L -122.408342134,37.7728416609 L -122.408316665,37.7723371064 L -122.409083,37.771732 L -122.408531,37.771291 L -122.409134,37.77082 L -122.409557666,37.770488527 L -122.409736,37.770349 L -122.409041092,37.7697978316 L -122.409046067,37.7697861856 L -122.409238,37.769668 L -122.409518105,37.7695010685 L -122.409518105,37.7695010685 L -122.409535,37.769491 L -122.409763,37.769411 L -122.41006,37.769376 L -122.410634,37.769423 L -122.410804,37.769444 L -122.410852,37.769446 L -122.410886,37.769447 L -122.410908,37.769429 L -122.410931,37.769411 L -122.410798,37.769325 L -122.409567,37.769127 L -122.409399,37.769114 L -122.409502539,37.7691125138 L -122.409608,37.769111 L -122.409077,37.76901 L -122.409038522,37.768999703 L -122.40896582,37.7656975996 L -122.409172677,37.7656851435 L -122.409172677,37.7656851435 L -122.410487,37.765606 L -122.410364,37.76431 L -122.410244,37.763029 L -122.410118,37.761759 L -122.409161418,37.7618167334 L -122.408061852,37.7605785485 L -122.40794,37.759305 L -122.407898,37.75922 L -122.407754,37.757705 L -122.407677693,37.7569037734 L -122.407824933,37.7560955793 L -122.408499,37.756055 L -122.409433,37.755998 L -122.410373,37.755942 L -122.411273,37.755888 L -122.412198,37.755833 L -122.413294,37.755766 L -122.413245166,37.7552549982 L -122.413199867,37.7547809897 L -122.413141301,37.7541681445 L -122.413143159,37.7541648696 L -122.414234,37.754099 L -122.414132939,37.7530112312 L -122.415034569,37.7524483521 L -122.415172,37.75244 L -122.416266,37.752373 L -122.416826,37.752337 L -122.417358,37.752306 L -122.417877,37.752271 L -122.418445,37.752239 L -122.419018,37.752204 L -122.419557,37.752171 L -122.420084,37.752139 L -122.420026676,37.7515279254 L -122.419995829,37.7511990961 L -122.42119167,37.7504646819 L -122.421438,37.75045 L -122.422726,37.750372 L -122.42279848,37.7503675357 L -122.42279848,37.7503675357 L -122.42383,37.750304 L -122.423677,37.748711 L -122.42467,37.748655 L -122.424845,37.748633 L -122.424942,37.748744 L -122.424969975,37.7490485527 L -122.424995,37.749321 L -122.424923,37.749435 L -122.425124,37.749422 L -122.4272,37.749296 L -122.429410446,37.7491587793 L -122.429423434,37.7491625524 L -122.42949978,37.7499626894 L -122.4295,37.749965 L -122.431717,37.74983 L -122.433929,37.749696 L -122.436138,37.749562 z\" /><path fill-rule=\"evenodd\" fill=\"#66cc99\" stroke=\"#555555\" stroke-width=\"0.000759473656491\" opacity=\"0.6\" d=\"M -122.410289635,37.7781380179 L -122.409938,37.778416 L -122.409830933,37.7783306964 L -122.410289635,37.7781380179 z\" /></g></g></svg>"
      ],
      "text/plain": [
       "<shapely.geometry.multipolygon.MultiPolygon at 0x109852bd0>"
      ]
     },
     "execution_count": 33,
     "metadata": {},
     "output_type": "execute_result"
    }
   ],
   "source": [
    "# file size reduced to ~1/3\n",
    "with open('results/geo.json', 'wb') as f:\n",
    "    f.write(json.dumps(gjson))"
   ]
  }
 ],
 "metadata": {
  "kernelspec": {
   "display_name": "Python 2",
   "language": "python",
   "name": "python2"
  },
  "language_info": {
   "codemirror_mode": {
    "name": "ipython",
    "version": 2
   },
   "file_extension": ".py",
   "mimetype": "text/x-python",
   "name": "python",
   "nbconvert_exporter": "python",
   "pygments_lexer": "ipython2",
   "version": "2.7.10"
  }
 },
 "nbformat": 4,
 "nbformat_minor": 0
}
