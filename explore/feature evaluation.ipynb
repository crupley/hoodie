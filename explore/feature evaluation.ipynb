{
 "cells": [
  {
   "cell_type": "code",
   "execution_count": 1,
   "metadata": {
    "collapsed": false,
    "scrolled": true
   },
   "outputs": [
    {
     "name": "stdout",
     "output_type": "stream",
     "text": [
      "/Users/crupley/gal/hoodie\n"
     ]
    }
   ],
   "source": [
    "%cd .."
   ]
  },
  {
   "cell_type": "code",
   "execution_count": 54,
   "metadata": {
    "collapsed": false
   },
   "outputs": [],
   "source": [
    "import numpy as np\n",
    "import pandas as pd\n",
    "from itertools import combinations\n",
    "from time import time\n",
    "import cPickle as pickle\n",
    "\n",
    "from code.featurize import make_feature_df, feature_permutations"
   ]
  },
  {
   "cell_type": "code",
   "execution_count": 30,
   "metadata": {
    "collapsed": true
   },
   "outputs": [],
   "source": [
    "allfeatures = ['assessment', 'business', 'sfpd', \n",
    "               'usc_age_gender', 'usc_household',\n",
    "               'usc_pop', 'walkscore']"
   ]
  },
  {
   "cell_type": "code",
   "execution_count": 31,
   "metadata": {
    "collapsed": false
   },
   "outputs": [
    {
     "name": "stdout",
     "output_type": "stream",
     "text": [
      "2 21\n",
      "3 35\n",
      "4 35\n",
      "5 21\n",
      "6 7\n",
      "7 1\n"
     ]
    }
   ],
   "source": [
    "for i in xrange(2, 8):\n",
    "    print i, len(list(combinations(allfeatures, i)))"
   ]
  },
  {
   "cell_type": "code",
   "execution_count": 32,
   "metadata": {
    "collapsed": true
   },
   "outputs": [],
   "source": [
    "df = make_feature_df(allfeatures, norm_to_pop = False, verbose=False)"
   ]
  },
  {
   "cell_type": "code",
   "execution_count": 33,
   "metadata": {
    "collapsed": false
   },
   "outputs": [
    {
     "name": "stdout",
     "output_type": "stream",
     "text": [
      "n nodes features\n",
      "7 2468 ['assessment', 'business', 'sfpd', 'usc_age_gender', 'usc_household', 'usc_pop', 'walkscore']\n"
     ]
    }
   ],
   "source": [
    "print 'n', 'nodes', 'features'\n",
    "print '7', df.shape[0], allfeatures"
   ]
  },
  {
   "cell_type": "code",
   "execution_count": 37,
   "metadata": {
    "collapsed": false
   },
   "outputs": [
    {
     "name": "stdout",
     "output_type": "stream",
     "text": [
      "n nodes features\n",
      "6 3749 ['assessment', 'business', 'sfpd', 'usc_age_gender', 'usc_household', 'usc_pop']\n",
      "6 2468 ['assessment', 'business', 'sfpd', 'usc_age_gender', 'usc_household', 'walkscore']\n",
      "6 2468 ['assessment', 'business', 'sfpd', 'usc_age_gender', 'usc_pop', 'walkscore']\n",
      "6 2468 ['assessment', 'business', 'sfpd', 'usc_household', 'usc_pop', 'walkscore']\n",
      "6 2483 ['assessment', 'business', 'usc_age_gender', 'usc_household', 'usc_pop', 'walkscore']\n",
      "6 2562 ['assessment', 'sfpd', 'usc_age_gender', 'usc_household', 'usc_pop', 'walkscore']\n",
      "6 2496 ['business', 'sfpd', 'usc_age_gender', 'usc_household', 'usc_pop', 'walkscore']\n"
     ]
    }
   ],
   "source": [
    "print 'n', 'nodes', 'features'\n",
    "for db in combinations(allfeatures, 6):\n",
    "    dblist = list(db)\n",
    "    df = make_feature_df(dblist, verbose=False)\n",
    "    print '6', df.shape[0], dblist"
   ]
  },
  {
   "cell_type": "code",
   "execution_count": 36,
   "metadata": {
    "collapsed": false
   },
   "outputs": [
    {
     "data": {
      "text/plain": [
       "['assessment',\n",
       " 'business',\n",
       " 'sfpd',\n",
       " 'usc_age_gender',\n",
       " 'usc_household',\n",
       " 'usc_pop']"
      ]
     },
     "execution_count": 36,
     "metadata": {},
     "output_type": "execute_result"
    }
   ],
   "source": [
    "list(combinations(allfeatures, 6).next())"
   ]
  },
  {
   "cell_type": "code",
   "execution_count": 45,
   "metadata": {
    "collapsed": false
   },
   "outputs": [
    {
     "data": {
      "text/html": [
       "<div>\n",
       "<table border=\"1\" class=\"dataframe\">\n",
       "  <thead>\n",
       "    <tr style=\"text-align: right;\">\n",
       "      <th></th>\n",
       "      <th>n</th>\n",
       "      <th>nodes</th>\n",
       "      <th>features</th>\n",
       "      <th>time</th>\n",
       "    </tr>\n",
       "  </thead>\n",
       "  <tbody>\n",
       "    <tr>\n",
       "      <th>0</th>\n",
       "      <td>0</td>\n",
       "      <td>0</td>\n",
       "      <td>[a]</td>\n",
       "      <td>0.001</td>\n",
       "    </tr>\n",
       "  </tbody>\n",
       "</table>\n",
       "</div>"
      ],
      "text/plain": [
       "   n  nodes features   time\n",
       "0  0      0      [a]  0.001"
      ]
     },
     "execution_count": 45,
     "metadata": {},
     "output_type": "execute_result"
    }
   ],
   "source": [
    "res = pd.DataFrame(columns = ('n', 'nodes', 'features', 'time'))\n",
    "d = {'n':0, \n",
    "     'nodes': 0,\n",
    "     'features': ['a'],\n",
    "     'time': 0.001}\n",
    "res = res.append(d, ignore_index=True)\n",
    "res"
   ]
  },
  {
   "cell_type": "code",
   "execution_count": 47,
   "metadata": {
    "collapsed": false
   },
   "outputs": [
    {
     "name": "stdout",
     "output_type": "stream",
     "text": [
      "n nodes features\n",
      "6 3749 ['assessment', 'business', 'sfpd', 'usc_age_gender', 'usc_household', 'usc_pop']\n",
      "6 2468 ['assessment', 'business', 'sfpd', 'usc_age_gender', 'usc_household', 'walkscore']\n",
      "6 2468 ['assessment', 'business', 'sfpd', 'usc_age_gender', 'usc_pop', 'walkscore']\n",
      "6 2468 ['assessment', 'business', 'sfpd', 'usc_household', 'usc_pop', 'walkscore']\n",
      "6 2483 ['assessment', 'business', 'usc_age_gender', 'usc_household', 'usc_pop', 'walkscore']\n",
      "6 2562 ['assessment', 'sfpd', 'usc_age_gender', 'usc_household', 'usc_pop', 'walkscore']\n",
      "6 2496 ['business', 'sfpd', 'usc_age_gender', 'usc_household', 'usc_pop', 'walkscore']\n"
     ]
    },
    {
     "data": {
      "text/html": [
       "<div>\n",
       "<table border=\"1\" class=\"dataframe\">\n",
       "  <thead>\n",
       "    <tr style=\"text-align: right;\">\n",
       "      <th></th>\n",
       "      <th>n</th>\n",
       "      <th>nodes</th>\n",
       "      <th>features</th>\n",
       "      <th>time</th>\n",
       "    </tr>\n",
       "  </thead>\n",
       "  <tbody>\n",
       "    <tr>\n",
       "      <th>0</th>\n",
       "      <td>0</td>\n",
       "      <td>0</td>\n",
       "      <td>[a]</td>\n",
       "      <td>0.001000</td>\n",
       "    </tr>\n",
       "    <tr>\n",
       "      <th>1</th>\n",
       "      <td>6</td>\n",
       "      <td>3749</td>\n",
       "      <td>[assessment, business, sfpd, usc_age_gender, u...</td>\n",
       "      <td>42.394688</td>\n",
       "    </tr>\n",
       "    <tr>\n",
       "      <th>2</th>\n",
       "      <td>6</td>\n",
       "      <td>2468</td>\n",
       "      <td>[assessment, business, sfpd, usc_age_gender, u...</td>\n",
       "      <td>41.687985</td>\n",
       "    </tr>\n",
       "    <tr>\n",
       "      <th>3</th>\n",
       "      <td>6</td>\n",
       "      <td>2468</td>\n",
       "      <td>[assessment, business, sfpd, usc_age_gender, u...</td>\n",
       "      <td>44.883734</td>\n",
       "    </tr>\n",
       "    <tr>\n",
       "      <th>4</th>\n",
       "      <td>6</td>\n",
       "      <td>2468</td>\n",
       "      <td>[assessment, business, sfpd, usc_household, us...</td>\n",
       "      <td>40.685143</td>\n",
       "    </tr>\n",
       "    <tr>\n",
       "      <th>5</th>\n",
       "      <td>6</td>\n",
       "      <td>2483</td>\n",
       "      <td>[assessment, business, usc_age_gender, usc_hou...</td>\n",
       "      <td>8.522255</td>\n",
       "    </tr>\n",
       "    <tr>\n",
       "      <th>6</th>\n",
       "      <td>6</td>\n",
       "      <td>2562</td>\n",
       "      <td>[assessment, sfpd, usc_age_gender, usc_househo...</td>\n",
       "      <td>37.838919</td>\n",
       "    </tr>\n",
       "    <tr>\n",
       "      <th>7</th>\n",
       "      <td>6</td>\n",
       "      <td>2496</td>\n",
       "      <td>[business, sfpd, usc_age_gender, usc_household...</td>\n",
       "      <td>39.684067</td>\n",
       "    </tr>\n",
       "  </tbody>\n",
       "</table>\n",
       "</div>"
      ],
      "text/plain": [
       "   n  nodes                                           features       time\n",
       "0  0      0                                                [a]   0.001000\n",
       "1  6   3749  [assessment, business, sfpd, usc_age_gender, u...  42.394688\n",
       "2  6   2468  [assessment, business, sfpd, usc_age_gender, u...  41.687985\n",
       "3  6   2468  [assessment, business, sfpd, usc_age_gender, u...  44.883734\n",
       "4  6   2468  [assessment, business, sfpd, usc_household, us...  40.685143\n",
       "5  6   2483  [assessment, business, usc_age_gender, usc_hou...   8.522255\n",
       "6  6   2562  [assessment, sfpd, usc_age_gender, usc_househo...  37.838919\n",
       "7  6   2496  [business, sfpd, usc_age_gender, usc_household...  39.684067"
      ]
     },
     "execution_count": 47,
     "metadata": {},
     "output_type": "execute_result"
    }
   ],
   "source": [
    "print 'n', 'nodes', 'features'\n",
    "for db in combinations(allfeatures, 6):\n",
    "    start_time = time()\n",
    "    dblist = list(db)\n",
    "    df = make_feature_df(dblist, verbose=False)\n",
    "    etime = time() - start_time\n",
    "    print '6', df.shape[0], dblist\n",
    "    d = {'n':6, \n",
    "     'nodes': df.shape[0],\n",
    "     'features': dblist,\n",
    "     'time': etime}\n",
    "    res = res.append(d, ignore_index=True)\n",
    "res"
   ]
  },
  {
   "cell_type": "code",
   "execution_count": 52,
   "metadata": {
    "collapsed": false
   },
   "outputs": [
    {
     "data": {
      "text/html": [
       "<div>\n",
       "<table border=\"1\" class=\"dataframe\">\n",
       "  <thead>\n",
       "    <tr style=\"text-align: right;\">\n",
       "      <th></th>\n",
       "      <th>n</th>\n",
       "      <th>nodes</th>\n",
       "      <th>features</th>\n",
       "      <th>time</th>\n",
       "    </tr>\n",
       "  </thead>\n",
       "  <tbody>\n",
       "    <tr>\n",
       "      <th>0</th>\n",
       "      <td>0</td>\n",
       "      <td>0</td>\n",
       "      <td>[a]</td>\n",
       "      <td>0.001000</td>\n",
       "    </tr>\n",
       "    <tr>\n",
       "      <th>1</th>\n",
       "      <td>6</td>\n",
       "      <td>3749</td>\n",
       "      <td>[assessment, business, sfpd, usc_age_gender, u...</td>\n",
       "      <td>42.394688</td>\n",
       "    </tr>\n",
       "    <tr>\n",
       "      <th>2</th>\n",
       "      <td>6</td>\n",
       "      <td>2468</td>\n",
       "      <td>[assessment, business, sfpd, usc_age_gender, u...</td>\n",
       "      <td>41.687985</td>\n",
       "    </tr>\n",
       "    <tr>\n",
       "      <th>3</th>\n",
       "      <td>6</td>\n",
       "      <td>2468</td>\n",
       "      <td>[assessment, business, sfpd, usc_age_gender, u...</td>\n",
       "      <td>44.883734</td>\n",
       "    </tr>\n",
       "    <tr>\n",
       "      <th>4</th>\n",
       "      <td>6</td>\n",
       "      <td>2468</td>\n",
       "      <td>[assessment, business, sfpd, usc_household, us...</td>\n",
       "      <td>40.685143</td>\n",
       "    </tr>\n",
       "    <tr>\n",
       "      <th>5</th>\n",
       "      <td>6</td>\n",
       "      <td>2483</td>\n",
       "      <td>[assessment, business, usc_age_gender, usc_hou...</td>\n",
       "      <td>8.522255</td>\n",
       "    </tr>\n",
       "    <tr>\n",
       "      <th>6</th>\n",
       "      <td>6</td>\n",
       "      <td>2562</td>\n",
       "      <td>[assessment, sfpd, usc_age_gender, usc_househo...</td>\n",
       "      <td>37.838919</td>\n",
       "    </tr>\n",
       "    <tr>\n",
       "      <th>7</th>\n",
       "      <td>6</td>\n",
       "      <td>2496</td>\n",
       "      <td>[business, sfpd, usc_age_gender, usc_household...</td>\n",
       "      <td>39.684067</td>\n",
       "    </tr>\n",
       "  </tbody>\n",
       "</table>\n",
       "</div>"
      ],
      "text/plain": [
       "   n  nodes                                           features       time\n",
       "0  0      0                                                [a]   0.001000\n",
       "1  6   3749  [assessment, business, sfpd, usc_age_gender, u...  42.394688\n",
       "2  6   2468  [assessment, business, sfpd, usc_age_gender, u...  41.687985\n",
       "3  6   2468  [assessment, business, sfpd, usc_age_gender, u...  44.883734\n",
       "4  6   2468  [assessment, business, sfpd, usc_household, us...  40.685143\n",
       "5  6   2483  [assessment, business, usc_age_gender, usc_hou...   8.522255\n",
       "6  6   2562  [assessment, sfpd, usc_age_gender, usc_househo...  37.838919\n",
       "7  6   2496  [business, sfpd, usc_age_gender, usc_household...  39.684067"
      ]
     },
     "execution_count": 52,
     "metadata": {},
     "output_type": "execute_result"
    }
   ],
   "source": [
    "pickle.dump(res, open('data/bin_overlap.pkl', 'wb'))\n",
    "e = pickle.load(open('data/bin_overlap.pkl', 'rb'))\n",
    "e"
   ]
  },
  {
   "cell_type": "code",
   "execution_count": 40,
   "metadata": {
    "collapsed": false,
    "scrolled": true
   },
   "outputs": [
    {
     "name": "stdout",
     "output_type": "stream",
     "text": [
      "n nodes features\n",
      "\n",
      "2 length combinations\n",
      "3781 ['assessment', 'business']\n",
      "3887 ['assessment', 'sfpd']\n",
      "4007 ['assessment', 'usc_age_gender']\n",
      "4007 ['assessment', 'usc_household']\n",
      "4007 ['assessment', 'usc_pop']\n",
      "2638 ['assessment', 'walkscore']\n",
      "3782 ['business', 'sfpd']\n",
      "3850 ['business', 'usc_age_gender']\n",
      "3850 ['business', 'usc_household']\n",
      "3850 ['business', 'usc_pop']\n",
      "2535 ['business', 'walkscore']\n",
      "3966 ['sfpd', 'usc_age_gender']\n",
      "3966 ['sfpd', 'usc_household']\n",
      "3966 ['sfpd', 'usc_pop']\n",
      "2620 ['sfpd', 'walkscore']\n",
      "4396 ['usc_age_gender', 'usc_household']\n",
      "4396 ['usc_age_gender', 'usc_pop']\n",
      "2893 ['usc_age_gender', 'walkscore']\n",
      "4396 ['usc_household', 'usc_pop']\n",
      "2893 ['usc_household', 'walkscore']\n",
      "2893 ['usc_pop', 'walkscore']\n",
      "\n",
      "3 length combinations\n",
      "3749 ['assessment', 'business', 'sfpd']\n",
      "3781 ['assessment', 'business', 'usc_age_gender']\n",
      "3781 ['assessment', 'business', 'usc_household']\n",
      "3781 ['assessment', 'business', 'usc_pop']\n",
      "2483 ['assessment', 'business', 'walkscore']\n",
      "3887 ['assessment', 'sfpd', 'usc_age_gender']\n",
      "3887 ['assessment', 'sfpd', 'usc_household']\n",
      "3887 ['assessment', 'sfpd', 'usc_pop']\n",
      "2562 ['assessment', 'sfpd', 'walkscore']\n",
      "4007 ['assessment', 'usc_age_gender', 'usc_household']\n",
      "4007 ['assessment', 'usc_age_gender', 'usc_pop']\n",
      "2638 ['assessment', 'usc_age_gender', 'walkscore']\n",
      "4007 ['assessment', 'usc_household', 'usc_pop']\n",
      "2638 ['assessment', 'usc_household', 'walkscore']\n",
      "2638 ['assessment', 'usc_pop', 'walkscore']\n",
      "3782 ['business', 'sfpd', 'usc_age_gender']\n",
      "3782 ['business', 'sfpd', 'usc_household']\n",
      "3782 ['business', 'sfpd', 'usc_pop']\n",
      "2496 ['business', 'sfpd', 'walkscore']\n",
      "3850 ['business', 'usc_age_gender', 'usc_household']\n",
      "3850 ['business', 'usc_age_gender', 'usc_pop']\n",
      "2535 ['business', 'usc_age_gender', 'walkscore']\n",
      "3850 ['business', 'usc_household', 'usc_pop']\n",
      "2535 ['business', 'usc_household', 'walkscore']\n",
      "2535 ['business', 'usc_pop', 'walkscore']\n",
      "3966 ['sfpd', 'usc_age_gender', 'usc_household']\n",
      "3966 ['sfpd', 'usc_age_gender', 'usc_pop']\n",
      "2620 ['sfpd', 'usc_age_gender', 'walkscore']\n",
      "3966 ['sfpd', 'usc_household', 'usc_pop']\n",
      "2620 ['sfpd', 'usc_household', 'walkscore']\n",
      "2620 ['sfpd', 'usc_pop', 'walkscore']\n",
      "4396 ['usc_age_gender', 'usc_household', 'usc_pop']\n",
      "2893 ['usc_age_gender', 'usc_household', 'walkscore']\n",
      "2893 ['usc_age_gender', 'usc_pop', 'walkscore']\n",
      "2893 ['usc_household', 'usc_pop', 'walkscore']\n",
      "\n",
      "4 length combinations\n"
     ]
    },
    {
     "ename": "KeyboardInterrupt",
     "evalue": "",
     "output_type": "error",
     "traceback": [
      "\u001b[0;31m---------------------------------------------------------------------------\u001b[0m",
      "\u001b[0;31mKeyboardInterrupt\u001b[0m                         Traceback (most recent call last)",
      "\u001b[0;32m<ipython-input-40-8a6c07596274>\u001b[0m in \u001b[0;36m<module>\u001b[0;34m()\u001b[0m\n\u001b[1;32m      6\u001b[0m     \u001b[0;32mfor\u001b[0m \u001b[0mdb\u001b[0m \u001b[0;32min\u001b[0m \u001b[0mcombinations\u001b[0m\u001b[0;34m(\u001b[0m\u001b[0mallfeatures\u001b[0m\u001b[0;34m,\u001b[0m \u001b[0mi\u001b[0m\u001b[0;34m)\u001b[0m\u001b[0;34m:\u001b[0m\u001b[0;34m\u001b[0m\u001b[0m\n\u001b[1;32m      7\u001b[0m         \u001b[0mdblist\u001b[0m \u001b[0;34m=\u001b[0m \u001b[0mlist\u001b[0m\u001b[0;34m(\u001b[0m\u001b[0mdb\u001b[0m\u001b[0;34m)\u001b[0m\u001b[0;34m\u001b[0m\u001b[0m\n\u001b[0;32m----> 8\u001b[0;31m         \u001b[0mdf\u001b[0m \u001b[0;34m=\u001b[0m \u001b[0mmake_feature_df\u001b[0m\u001b[0;34m(\u001b[0m\u001b[0mdblist\u001b[0m\u001b[0;34m,\u001b[0m \u001b[0mverbose\u001b[0m\u001b[0;34m=\u001b[0m\u001b[0mFalse\u001b[0m\u001b[0;34m)\u001b[0m\u001b[0;34m\u001b[0m\u001b[0m\n\u001b[0m\u001b[1;32m      9\u001b[0m         \u001b[0;32mprint\u001b[0m \u001b[0mdf\u001b[0m\u001b[0;34m.\u001b[0m\u001b[0mshape\u001b[0m\u001b[0;34m[\u001b[0m\u001b[0;36m0\u001b[0m\u001b[0;34m]\u001b[0m\u001b[0;34m,\u001b[0m \u001b[0mdblist\u001b[0m\u001b[0;34m\u001b[0m\u001b[0m\n",
      "\u001b[0;32m/Users/crupley/gal/hoodie/code/featurize.py\u001b[0m in \u001b[0;36mmake_feature_df\u001b[0;34m(dblist, norm_to_pop, merge_type, verbose)\u001b[0m\n\u001b[1;32m     68\u001b[0m \u001b[0;34m\u001b[0m\u001b[0m\n\u001b[1;32m     69\u001b[0m                 \u001b[0;31m# load database table\u001b[0m\u001b[0;34m\u001b[0m\u001b[0;34m\u001b[0m\u001b[0m\n\u001b[0;32m---> 70\u001b[0;31m                 \u001b[0mdf1\u001b[0m \u001b[0;34m=\u001b[0m \u001b[0mget_db\u001b[0m\u001b[0;34m(\u001b[0m\u001b[0mdb\u001b[0m\u001b[0;34m)\u001b[0m\u001b[0;34m\u001b[0m\u001b[0m\n\u001b[0m\u001b[1;32m     71\u001b[0m \u001b[0;34m\u001b[0m\u001b[0m\n\u001b[1;32m     72\u001b[0m                 \u001b[0;31m# merge in lat/lon for census data from shapefile\u001b[0m\u001b[0;34m\u001b[0m\u001b[0;34m\u001b[0m\u001b[0m\n",
      "\u001b[0;32m/Users/crupley/gal/hoodie/code/makedbs.pyc\u001b[0m in \u001b[0;36mget_db\u001b[0;34m(table_name)\u001b[0m\n\u001b[1;32m     34\u001b[0m         \u001b[0mengine\u001b[0m \u001b[0;34m=\u001b[0m \u001b[0mcreate_engine\u001b[0m\u001b[0;34m(\u001b[0m\u001b[0mURL\u001b[0m\u001b[0;34m(\u001b[0m\u001b[0;34m**\u001b[0m\u001b[0mdb\u001b[0m\u001b[0;34m)\u001b[0m\u001b[0;34m)\u001b[0m\u001b[0;34m\u001b[0m\u001b[0m\n\u001b[1;32m     35\u001b[0m         \u001b[0;32mwith\u001b[0m \u001b[0mengine\u001b[0m\u001b[0;34m.\u001b[0m\u001b[0mconnect\u001b[0m\u001b[0;34m(\u001b[0m\u001b[0;34m)\u001b[0m \u001b[0;32mas\u001b[0m \u001b[0mconn\u001b[0m\u001b[0;34m,\u001b[0m \u001b[0mconn\u001b[0m\u001b[0;34m.\u001b[0m\u001b[0mbegin\u001b[0m\u001b[0;34m(\u001b[0m\u001b[0;34m)\u001b[0m\u001b[0;34m:\u001b[0m\u001b[0;34m\u001b[0m\u001b[0m\n\u001b[0;32m---> 36\u001b[0;31m                 \u001b[0mdf\u001b[0m \u001b[0;34m=\u001b[0m \u001b[0mpd\u001b[0m\u001b[0;34m.\u001b[0m\u001b[0mread_sql_table\u001b[0m\u001b[0;34m(\u001b[0m\u001b[0mtable_name\u001b[0m\u001b[0;34m,\u001b[0m \u001b[0mconn\u001b[0m\u001b[0;34m)\u001b[0m\u001b[0;34m\u001b[0m\u001b[0m\n\u001b[0m\u001b[1;32m     37\u001b[0m         \u001b[0;32mreturn\u001b[0m \u001b[0mdf\u001b[0m\u001b[0;34m\u001b[0m\u001b[0m\n\u001b[1;32m     38\u001b[0m \u001b[0;34m\u001b[0m\u001b[0m\n",
      "\u001b[0;32m/Users/crupley/anaconda/lib/python2.7/site-packages/pandas/io/sql.pyc\u001b[0m in \u001b[0;36mread_sql_table\u001b[0;34m(table_name, con, schema, index_col, coerce_float, parse_dates, columns, chunksize)\u001b[0m\n\u001b[1;32m    360\u001b[0m     table = pandas_sql.read_table(\n\u001b[1;32m    361\u001b[0m         \u001b[0mtable_name\u001b[0m\u001b[0;34m,\u001b[0m \u001b[0mindex_col\u001b[0m\u001b[0;34m=\u001b[0m\u001b[0mindex_col\u001b[0m\u001b[0;34m,\u001b[0m \u001b[0mcoerce_float\u001b[0m\u001b[0;34m=\u001b[0m\u001b[0mcoerce_float\u001b[0m\u001b[0;34m,\u001b[0m\u001b[0;34m\u001b[0m\u001b[0m\n\u001b[0;32m--> 362\u001b[0;31m         parse_dates=parse_dates, columns=columns, chunksize=chunksize)\n\u001b[0m\u001b[1;32m    363\u001b[0m \u001b[0;34m\u001b[0m\u001b[0m\n\u001b[1;32m    364\u001b[0m     \u001b[0;32mif\u001b[0m \u001b[0mtable\u001b[0m \u001b[0;32mis\u001b[0m \u001b[0;32mnot\u001b[0m \u001b[0mNone\u001b[0m\u001b[0;34m:\u001b[0m\u001b[0;34m\u001b[0m\u001b[0m\n",
      "\u001b[0;32m/Users/crupley/anaconda/lib/python2.7/site-packages/pandas/io/sql.pyc\u001b[0m in \u001b[0;36mread_table\u001b[0;34m(self, table_name, index_col, coerce_float, parse_dates, columns, schema, chunksize)\u001b[0m\n\u001b[1;32m   1119\u001b[0m         return table.read(coerce_float=coerce_float,\n\u001b[1;32m   1120\u001b[0m                           \u001b[0mparse_dates\u001b[0m\u001b[0;34m=\u001b[0m\u001b[0mparse_dates\u001b[0m\u001b[0;34m,\u001b[0m \u001b[0mcolumns\u001b[0m\u001b[0;34m=\u001b[0m\u001b[0mcolumns\u001b[0m\u001b[0;34m,\u001b[0m\u001b[0;34m\u001b[0m\u001b[0m\n\u001b[0;32m-> 1121\u001b[0;31m                           chunksize=chunksize)\n\u001b[0m\u001b[1;32m   1122\u001b[0m \u001b[0;34m\u001b[0m\u001b[0m\n\u001b[1;32m   1123\u001b[0m     \u001b[0;34m@\u001b[0m\u001b[0mstaticmethod\u001b[0m\u001b[0;34m\u001b[0m\u001b[0m\n",
      "\u001b[0;32m/Users/crupley/anaconda/lib/python2.7/site-packages/pandas/io/sql.pyc\u001b[0m in \u001b[0;36mread\u001b[0;34m(self, coerce_float, parse_dates, columns, chunksize)\u001b[0m\n\u001b[1;32m    804\u001b[0m                                         parse_dates=parse_dates)\n\u001b[1;32m    805\u001b[0m         \u001b[0;32melse\u001b[0m\u001b[0;34m:\u001b[0m\u001b[0;34m\u001b[0m\u001b[0m\n\u001b[0;32m--> 806\u001b[0;31m             \u001b[0mdata\u001b[0m \u001b[0;34m=\u001b[0m \u001b[0mresult\u001b[0m\u001b[0;34m.\u001b[0m\u001b[0mfetchall\u001b[0m\u001b[0;34m(\u001b[0m\u001b[0;34m)\u001b[0m\u001b[0;34m\u001b[0m\u001b[0m\n\u001b[0m\u001b[1;32m    807\u001b[0m             self.frame = DataFrame.from_records(\n\u001b[1;32m    808\u001b[0m                 data, columns=column_names, coerce_float=coerce_float)\n",
      "\u001b[0;32m/Users/crupley/anaconda/lib/python2.7/site-packages/sqlalchemy/engine/result.pyc\u001b[0m in \u001b[0;36mfetchall\u001b[0;34m(self)\u001b[0m\n\u001b[1;32m    779\u001b[0m \u001b[0;34m\u001b[0m\u001b[0m\n\u001b[1;32m    780\u001b[0m         \u001b[0;32mtry\u001b[0m\u001b[0;34m:\u001b[0m\u001b[0;34m\u001b[0m\u001b[0m\n\u001b[0;32m--> 781\u001b[0;31m             \u001b[0ml\u001b[0m \u001b[0;34m=\u001b[0m \u001b[0mself\u001b[0m\u001b[0;34m.\u001b[0m\u001b[0mprocess_rows\u001b[0m\u001b[0;34m(\u001b[0m\u001b[0mself\u001b[0m\u001b[0;34m.\u001b[0m\u001b[0m_fetchall_impl\u001b[0m\u001b[0;34m(\u001b[0m\u001b[0;34m)\u001b[0m\u001b[0;34m)\u001b[0m\u001b[0;34m\u001b[0m\u001b[0m\n\u001b[0m\u001b[1;32m    782\u001b[0m             \u001b[0mself\u001b[0m\u001b[0;34m.\u001b[0m\u001b[0mclose\u001b[0m\u001b[0;34m(\u001b[0m\u001b[0;34m)\u001b[0m\u001b[0;34m\u001b[0m\u001b[0m\n\u001b[1;32m    783\u001b[0m             \u001b[0;32mreturn\u001b[0m \u001b[0ml\u001b[0m\u001b[0;34m\u001b[0m\u001b[0m\n",
      "\u001b[0;32m/Users/crupley/anaconda/lib/python2.7/site-packages/sqlalchemy/engine/result.pyc\u001b[0m in \u001b[0;36m_fetchall_impl\u001b[0;34m(self)\u001b[0m\n\u001b[1;32m    746\u001b[0m     \u001b[0;32mdef\u001b[0m \u001b[0m_fetchall_impl\u001b[0m\u001b[0;34m(\u001b[0m\u001b[0mself\u001b[0m\u001b[0;34m)\u001b[0m\u001b[0;34m:\u001b[0m\u001b[0;34m\u001b[0m\u001b[0m\n\u001b[1;32m    747\u001b[0m         \u001b[0;32mtry\u001b[0m\u001b[0;34m:\u001b[0m\u001b[0;34m\u001b[0m\u001b[0m\n\u001b[0;32m--> 748\u001b[0;31m             \u001b[0;32mreturn\u001b[0m \u001b[0mself\u001b[0m\u001b[0;34m.\u001b[0m\u001b[0mcursor\u001b[0m\u001b[0;34m.\u001b[0m\u001b[0mfetchall\u001b[0m\u001b[0;34m(\u001b[0m\u001b[0;34m)\u001b[0m\u001b[0;34m\u001b[0m\u001b[0m\n\u001b[0m\u001b[1;32m    749\u001b[0m         \u001b[0;32mexcept\u001b[0m \u001b[0mAttributeError\u001b[0m\u001b[0;34m:\u001b[0m\u001b[0;34m\u001b[0m\u001b[0m\n\u001b[1;32m    750\u001b[0m             \u001b[0mself\u001b[0m\u001b[0;34m.\u001b[0m\u001b[0m_non_result\u001b[0m\u001b[0;34m(\u001b[0m\u001b[0;34m)\u001b[0m\u001b[0;34m\u001b[0m\u001b[0m\n",
      "\u001b[0;32m/Users/crupley/anaconda/lib/python2.7/encodings/utf_8.pyc\u001b[0m in \u001b[0;36mdecode\u001b[0;34m(input, errors)\u001b[0m\n\u001b[1;32m     14\u001b[0m \u001b[0;34m\u001b[0m\u001b[0m\n\u001b[1;32m     15\u001b[0m \u001b[0;32mdef\u001b[0m \u001b[0mdecode\u001b[0m\u001b[0;34m(\u001b[0m\u001b[0minput\u001b[0m\u001b[0;34m,\u001b[0m \u001b[0merrors\u001b[0m\u001b[0;34m=\u001b[0m\u001b[0;34m'strict'\u001b[0m\u001b[0;34m)\u001b[0m\u001b[0;34m:\u001b[0m\u001b[0;34m\u001b[0m\u001b[0m\n\u001b[0;32m---> 16\u001b[0;31m     \u001b[0;32mreturn\u001b[0m \u001b[0mcodecs\u001b[0m\u001b[0;34m.\u001b[0m\u001b[0mutf_8_decode\u001b[0m\u001b[0;34m(\u001b[0m\u001b[0minput\u001b[0m\u001b[0;34m,\u001b[0m \u001b[0merrors\u001b[0m\u001b[0;34m,\u001b[0m \u001b[0mTrue\u001b[0m\u001b[0;34m)\u001b[0m\u001b[0;34m\u001b[0m\u001b[0m\n\u001b[0m\u001b[1;32m     17\u001b[0m \u001b[0;34m\u001b[0m\u001b[0m\n\u001b[1;32m     18\u001b[0m \u001b[0;32mclass\u001b[0m \u001b[0mIncrementalEncoder\u001b[0m\u001b[0;34m(\u001b[0m\u001b[0mcodecs\u001b[0m\u001b[0;34m.\u001b[0m\u001b[0mIncrementalEncoder\u001b[0m\u001b[0;34m)\u001b[0m\u001b[0;34m:\u001b[0m\u001b[0;34m\u001b[0m\u001b[0m\n",
      "\u001b[0;31mKeyboardInterrupt\u001b[0m: "
     ]
    }
   ],
   "source": [
    "print 'n', 'nodes', 'features'\n",
    "\n",
    "res = pd.DataFrame({'n': 0, 'nodes': 0, 'features': ['a'], 'time': 0.001})\n",
    "\n",
    "for i in xrange(2, 8):\n",
    "    print ''\n",
    "    print i, 'length combinations'\n",
    "    for db in combinations(allfeatures, i):\n",
    "        dblist = list(db)\n",
    "        df = make_feature_df(dblist, verbose=False)\n",
    "        print df.shape[0], dblist"
   ]
  },
  {
   "cell_type": "code",
   "execution_count": 60,
   "metadata": {
    "collapsed": false
   },
   "outputs": [
    {
     "name": "stdout",
     "output_type": "stream",
     "text": [
      "\n",
      "2 length combinations\n",
      "2 4841 7.2 ['assessment', 'business']\n",
      "2 4991 40.5 ['assessment', 'sfpd']\n",
      "2 4007 4.1 ['assessment', 'usc_age_gender']\n",
      "2 4007 3.9 ['assessment', 'usc_household']\n",
      "2 4007 3.9 ['assessment', 'usc_pop']\n",
      "2 3598 3.7 ['assessment', 'walkscore']\n",
      "2 4843 37.8 ['business', 'sfpd']\n",
      "2 3850 4.2 ['business', 'usc_age_gender']\n",
      "2 3850 4.1 ['business', 'usc_household']\n",
      "2 3850 4.1 ['business', 'usc_pop']\n",
      "2 3332 3.8 ['business', 'walkscore']\n",
      "2 3966 36.7 ['sfpd', 'usc_age_gender']\n",
      "2 3966 35.7 ['sfpd', 'usc_household']\n",
      "2 3966 34.2 ['sfpd', 'usc_pop']\n",
      "2 3486 39.7 ['sfpd', 'walkscore']\n",
      "2 4396 1.1 ['usc_age_gender', 'usc_household']\n",
      "2 4396 1.0 ['usc_age_gender', 'usc_pop']\n",
      "2 2893 0.9 ['usc_age_gender', 'walkscore']\n",
      "2 4396 0.8 ['usc_household', 'usc_pop']\n",
      "2 2893 0.6 ['usc_household', 'walkscore']\n",
      "2 2893 0.6 ['usc_pop', 'walkscore']\n"
     ]
    },
    {
     "data": {
      "text/html": [
       "<div>\n",
       "<table border=\"1\" class=\"dataframe\">\n",
       "  <thead>\n",
       "    <tr style=\"text-align: right;\">\n",
       "      <th></th>\n",
       "      <th>n</th>\n",
       "      <th>nodes</th>\n",
       "      <th>time</th>\n",
       "      <th>features</th>\n",
       "    </tr>\n",
       "  </thead>\n",
       "  <tbody>\n",
       "    <tr>\n",
       "      <th>0</th>\n",
       "      <td>2</td>\n",
       "      <td>4841</td>\n",
       "      <td>7.167002</td>\n",
       "      <td>[assessment, business]</td>\n",
       "    </tr>\n",
       "    <tr>\n",
       "      <th>1</th>\n",
       "      <td>2</td>\n",
       "      <td>4991</td>\n",
       "      <td>40.457965</td>\n",
       "      <td>[assessment, sfpd]</td>\n",
       "    </tr>\n",
       "    <tr>\n",
       "      <th>2</th>\n",
       "      <td>2</td>\n",
       "      <td>4007</td>\n",
       "      <td>4.136955</td>\n",
       "      <td>[assessment, usc_age_gender]</td>\n",
       "    </tr>\n",
       "    <tr>\n",
       "      <th>3</th>\n",
       "      <td>2</td>\n",
       "      <td>4007</td>\n",
       "      <td>3.915876</td>\n",
       "      <td>[assessment, usc_household]</td>\n",
       "    </tr>\n",
       "    <tr>\n",
       "      <th>4</th>\n",
       "      <td>2</td>\n",
       "      <td>4007</td>\n",
       "      <td>3.921973</td>\n",
       "      <td>[assessment, usc_pop]</td>\n",
       "    </tr>\n",
       "    <tr>\n",
       "      <th>5</th>\n",
       "      <td>2</td>\n",
       "      <td>3598</td>\n",
       "      <td>3.739646</td>\n",
       "      <td>[assessment, walkscore]</td>\n",
       "    </tr>\n",
       "    <tr>\n",
       "      <th>6</th>\n",
       "      <td>2</td>\n",
       "      <td>4843</td>\n",
       "      <td>37.767951</td>\n",
       "      <td>[business, sfpd]</td>\n",
       "    </tr>\n",
       "    <tr>\n",
       "      <th>7</th>\n",
       "      <td>2</td>\n",
       "      <td>3850</td>\n",
       "      <td>4.226210</td>\n",
       "      <td>[business, usc_age_gender]</td>\n",
       "    </tr>\n",
       "    <tr>\n",
       "      <th>8</th>\n",
       "      <td>2</td>\n",
       "      <td>3850</td>\n",
       "      <td>4.132608</td>\n",
       "      <td>[business, usc_household]</td>\n",
       "    </tr>\n",
       "    <tr>\n",
       "      <th>9</th>\n",
       "      <td>2</td>\n",
       "      <td>3850</td>\n",
       "      <td>4.114584</td>\n",
       "      <td>[business, usc_pop]</td>\n",
       "    </tr>\n",
       "    <tr>\n",
       "      <th>10</th>\n",
       "      <td>2</td>\n",
       "      <td>3332</td>\n",
       "      <td>3.773353</td>\n",
       "      <td>[business, walkscore]</td>\n",
       "    </tr>\n",
       "    <tr>\n",
       "      <th>11</th>\n",
       "      <td>2</td>\n",
       "      <td>3966</td>\n",
       "      <td>36.686240</td>\n",
       "      <td>[sfpd, usc_age_gender]</td>\n",
       "    </tr>\n",
       "    <tr>\n",
       "      <th>12</th>\n",
       "      <td>2</td>\n",
       "      <td>3966</td>\n",
       "      <td>35.671538</td>\n",
       "      <td>[sfpd, usc_household]</td>\n",
       "    </tr>\n",
       "    <tr>\n",
       "      <th>13</th>\n",
       "      <td>2</td>\n",
       "      <td>3966</td>\n",
       "      <td>34.159304</td>\n",
       "      <td>[sfpd, usc_pop]</td>\n",
       "    </tr>\n",
       "    <tr>\n",
       "      <th>14</th>\n",
       "      <td>2</td>\n",
       "      <td>3486</td>\n",
       "      <td>39.693169</td>\n",
       "      <td>[sfpd, walkscore]</td>\n",
       "    </tr>\n",
       "    <tr>\n",
       "      <th>15</th>\n",
       "      <td>2</td>\n",
       "      <td>4396</td>\n",
       "      <td>1.066912</td>\n",
       "      <td>[usc_age_gender, usc_household]</td>\n",
       "    </tr>\n",
       "    <tr>\n",
       "      <th>16</th>\n",
       "      <td>2</td>\n",
       "      <td>4396</td>\n",
       "      <td>0.999579</td>\n",
       "      <td>[usc_age_gender, usc_pop]</td>\n",
       "    </tr>\n",
       "    <tr>\n",
       "      <th>17</th>\n",
       "      <td>2</td>\n",
       "      <td>2893</td>\n",
       "      <td>0.856934</td>\n",
       "      <td>[usc_age_gender, walkscore]</td>\n",
       "    </tr>\n",
       "    <tr>\n",
       "      <th>18</th>\n",
       "      <td>2</td>\n",
       "      <td>4396</td>\n",
       "      <td>0.773966</td>\n",
       "      <td>[usc_household, usc_pop]</td>\n",
       "    </tr>\n",
       "    <tr>\n",
       "      <th>19</th>\n",
       "      <td>2</td>\n",
       "      <td>2893</td>\n",
       "      <td>0.594728</td>\n",
       "      <td>[usc_household, walkscore]</td>\n",
       "    </tr>\n",
       "    <tr>\n",
       "      <th>20</th>\n",
       "      <td>2</td>\n",
       "      <td>2893</td>\n",
       "      <td>0.581145</td>\n",
       "      <td>[usc_pop, walkscore]</td>\n",
       "    </tr>\n",
       "  </tbody>\n",
       "</table>\n",
       "</div>"
      ],
      "text/plain": [
       "    n  nodes       time                         features\n",
       "0   2   4841   7.167002           [assessment, business]\n",
       "1   2   4991  40.457965               [assessment, sfpd]\n",
       "2   2   4007   4.136955     [assessment, usc_age_gender]\n",
       "3   2   4007   3.915876      [assessment, usc_household]\n",
       "4   2   4007   3.921973            [assessment, usc_pop]\n",
       "5   2   3598   3.739646          [assessment, walkscore]\n",
       "6   2   4843  37.767951                 [business, sfpd]\n",
       "7   2   3850   4.226210       [business, usc_age_gender]\n",
       "8   2   3850   4.132608        [business, usc_household]\n",
       "9   2   3850   4.114584              [business, usc_pop]\n",
       "10  2   3332   3.773353            [business, walkscore]\n",
       "11  2   3966  36.686240           [sfpd, usc_age_gender]\n",
       "12  2   3966  35.671538            [sfpd, usc_household]\n",
       "13  2   3966  34.159304                  [sfpd, usc_pop]\n",
       "14  2   3486  39.693169                [sfpd, walkscore]\n",
       "15  2   4396   1.066912  [usc_age_gender, usc_household]\n",
       "16  2   4396   0.999579        [usc_age_gender, usc_pop]\n",
       "17  2   2893   0.856934      [usc_age_gender, walkscore]\n",
       "18  2   4396   0.773966         [usc_household, usc_pop]\n",
       "19  2   2893   0.594728       [usc_household, walkscore]\n",
       "20  2   2893   0.581145             [usc_pop, walkscore]"
      ]
     },
     "execution_count": 60,
     "metadata": {},
     "output_type": "execute_result"
    }
   ],
   "source": [
    "res = feature_permutations([2])\n",
    "res"
   ]
  }
 ],
 "metadata": {
  "kernelspec": {
   "display_name": "Python 2",
   "language": "python",
   "name": "python2"
  },
  "language_info": {
   "codemirror_mode": {
    "name": "ipython",
    "version": 2
   },
   "file_extension": ".py",
   "mimetype": "text/x-python",
   "name": "python",
   "nbconvert_exporter": "python",
   "pygments_lexer": "ipython2",
   "version": "2.7.10"
  }
 },
 "nbformat": 4,
 "nbformat_minor": 0
}
