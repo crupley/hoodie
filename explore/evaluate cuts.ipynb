{
 "cells": [
  {
   "cell_type": "code",
   "execution_count": 1,
   "metadata": {
    "collapsed": false
   },
   "outputs": [
    {
     "name": "stdout",
     "output_type": "stream",
     "text": [
      "/Users/crupley/gal/hoodie\n"
     ]
    }
   ],
   "source": [
    "%cd .."
   ]
  },
  {
   "cell_type": "code",
   "execution_count": 81,
   "metadata": {
    "collapsed": true
   },
   "outputs": [],
   "source": [
    "%matplotlib inline\n",
    "\n",
    "import numpy as np\n",
    "import pandas as pd\n",
    "import matplotlib.pyplot as plt\n",
    "import cPickle as pickle\n",
    "\n",
    "import networkx as nx"
   ]
  },
  {
   "cell_type": "code",
   "execution_count": 4,
   "metadata": {
    "collapsed": true
   },
   "outputs": [],
   "source": [
    "f = pickle.load(open('features.pkl', 'rb'))\n",
    "df = f.fsmooth.copy()\n",
    "edges = pickle.load(open('edges.pkl', 'rb'))"
   ]
  },
  {
   "cell_type": "code",
   "execution_count": 108,
   "metadata": {
    "collapsed": false,
    "scrolled": false
   },
   "outputs": [
    {
     "name": "stdout",
     "output_type": "stream",
     "text": [
      "(23555, 4)\n"
     ]
    },
    {
     "data": {
      "text/html": [
       "<div>\n",
       "<table border=\"1\" class=\"dataframe\">\n",
       "  <thead>\n",
       "    <tr style=\"text-align: right;\">\n",
       "      <th></th>\n",
       "      <th>(source</th>\n",
       "      <th>target)</th>\n",
       "      <th>num_edges</th>\n",
       "      <th>timestamp</th>\n",
       "    </tr>\n",
       "  </thead>\n",
       "  <tbody>\n",
       "    <tr>\n",
       "      <th>0</th>\n",
       "      <td>(3535</td>\n",
       "      <td>2429)</td>\n",
       "      <td>23555</td>\n",
       "      <td>1.447737e+09</td>\n",
       "    </tr>\n",
       "    <tr>\n",
       "      <th>1</th>\n",
       "      <td>(3724</td>\n",
       "      <td>1828)</td>\n",
       "      <td>23554</td>\n",
       "      <td>1.447738e+09</td>\n",
       "    </tr>\n",
       "    <tr>\n",
       "      <th>2</th>\n",
       "      <td>(1828</td>\n",
       "      <td>4425)</td>\n",
       "      <td>23553</td>\n",
       "      <td>1.447738e+09</td>\n",
       "    </tr>\n",
       "    <tr>\n",
       "      <th>3</th>\n",
       "      <td>(3521</td>\n",
       "      <td>6453)</td>\n",
       "      <td>23552</td>\n",
       "      <td>1.447738e+09</td>\n",
       "    </tr>\n",
       "    <tr>\n",
       "      <th>4</th>\n",
       "      <td>(5562</td>\n",
       "      <td>2602)</td>\n",
       "      <td>23551</td>\n",
       "      <td>1.447738e+09</td>\n",
       "    </tr>\n",
       "  </tbody>\n",
       "</table>\n",
       "</div>"
      ],
      "text/plain": [
       "  (source  target)  num_edges     timestamp\n",
       "0   (3535    2429)      23555  1.447737e+09\n",
       "1   (3724    1828)      23554  1.447738e+09\n",
       "2   (1828    4425)      23553  1.447738e+09\n",
       "3   (3521    6453)      23552  1.447738e+09\n",
       "4   (5562    2602)      23551  1.447738e+09"
      ]
     },
     "execution_count": 108,
     "metadata": {},
     "output_type": "execute_result"
    }
   ],
   "source": [
    "cuts = pd.read_csv('results/gall.csv', parse_dates='timestamp')\n",
    "print cuts.shape\n",
    "cuts.head()"
   ]
  },
  {
   "cell_type": "code",
   "execution_count": 109,
   "metadata": {
    "collapsed": true
   },
   "outputs": [],
   "source": [
    "cuts.columns = ['node1', 'node2', 'num_edges', 'timestamp']"
   ]
  },
  {
   "cell_type": "code",
   "execution_count": 110,
   "metadata": {
    "collapsed": false
   },
   "outputs": [],
   "source": [
    "cuts['node1'] = cuts['node1'].apply(lambda x: x.split('(')[-1]).astype('int')"
   ]
  },
  {
   "cell_type": "code",
   "execution_count": 111,
   "metadata": {
    "collapsed": false
   },
   "outputs": [],
   "source": [
    "cuts['node2'] = cuts['node2'].apply(lambda x: x.strip().split(')')[0]).astype('int')"
   ]
  },
  {
   "cell_type": "code",
   "execution_count": 112,
   "metadata": {
    "collapsed": false
   },
   "outputs": [],
   "source": [
    "cuts.timestamp = pd.to_datetime(cuts.timestamp, unit='s')"
   ]
  },
  {
   "cell_type": "code",
   "execution_count": 113,
   "metadata": {
    "collapsed": false,
    "scrolled": true
   },
   "outputs": [
    {
     "data": {
      "text/html": [
       "<div>\n",
       "<table border=\"1\" class=\"dataframe\">\n",
       "  <thead>\n",
       "    <tr style=\"text-align: right;\">\n",
       "      <th></th>\n",
       "      <th>node1</th>\n",
       "      <th>node2</th>\n",
       "      <th>num_edges</th>\n",
       "      <th>timestamp</th>\n",
       "    </tr>\n",
       "  </thead>\n",
       "  <tbody>\n",
       "    <tr>\n",
       "      <th>0</th>\n",
       "      <td>3535</td>\n",
       "      <td>2429</td>\n",
       "      <td>23555</td>\n",
       "      <td>2015-11-17 05:18:02.755126</td>\n",
       "    </tr>\n",
       "    <tr>\n",
       "      <th>1</th>\n",
       "      <td>3724</td>\n",
       "      <td>1828</td>\n",
       "      <td>23554</td>\n",
       "      <td>2015-11-17 05:18:35.590452</td>\n",
       "    </tr>\n",
       "    <tr>\n",
       "      <th>2</th>\n",
       "      <td>1828</td>\n",
       "      <td>4425</td>\n",
       "      <td>23553</td>\n",
       "      <td>2015-11-17 05:19:08.256799</td>\n",
       "    </tr>\n",
       "    <tr>\n",
       "      <th>3</th>\n",
       "      <td>3521</td>\n",
       "      <td>6453</td>\n",
       "      <td>23552</td>\n",
       "      <td>2015-11-17 05:19:40.537327</td>\n",
       "    </tr>\n",
       "    <tr>\n",
       "      <th>4</th>\n",
       "      <td>5562</td>\n",
       "      <td>2602</td>\n",
       "      <td>23551</td>\n",
       "      <td>2015-11-17 05:20:15.989270</td>\n",
       "    </tr>\n",
       "  </tbody>\n",
       "</table>\n",
       "</div>"
      ],
      "text/plain": [
       "   node1  node2  num_edges                  timestamp\n",
       "0   3535   2429      23555 2015-11-17 05:18:02.755126\n",
       "1   3724   1828      23554 2015-11-17 05:18:35.590452\n",
       "2   1828   4425      23553 2015-11-17 05:19:08.256799\n",
       "3   3521   6453      23552 2015-11-17 05:19:40.537327\n",
       "4   5562   2602      23551 2015-11-17 05:20:15.989270"
      ]
     },
     "execution_count": 113,
     "metadata": {},
     "output_type": "execute_result"
    }
   ],
   "source": [
    "cuts.head()"
   ]
  },
  {
   "cell_type": "code",
   "execution_count": 154,
   "metadata": {
    "collapsed": false
   },
   "outputs": [
    {
     "name": "stdout",
     "output_type": "stream",
     "text": [
      "23555\n",
      "7325\n"
     ]
    }
   ],
   "source": [
    "g = nx.from_pandas_dataframe(cuts, 'node1', 'node2')\n",
    "print g.number_of_edges()\n",
    "print g.number_of_nodes()"
   ]
  },
  {
   "cell_type": "code",
   "execution_count": 129,
   "metadata": {
    "collapsed": false
   },
   "outputs": [
    {
     "name": "stdout",
     "output_type": "stream",
     "text": [
      "5\n"
     ]
    }
   ],
   "source": [
    "print nx.number_connected_components(g)"
   ]
  },
  {
   "cell_type": "code",
   "execution_count": 130,
   "metadata": {
    "collapsed": false
   },
   "outputs": [
    {
     "data": {
      "text/plain": [
       "7295"
      ]
     },
     "execution_count": 130,
     "metadata": {},
     "output_type": "execute_result"
    }
   ],
   "source": [
    "len(max(nx.connected_components(g), key=len))"
   ]
  },
  {
   "cell_type": "code",
   "execution_count": 131,
   "metadata": {
    "collapsed": true
   },
   "outputs": [],
   "source": [
    "def cutcon(row):\n",
    "    g.remove_edge(row.node1, row.node2)\n",
    "    return nx.number_connected_components(g)"
   ]
  },
  {
   "cell_type": "code",
   "execution_count": 132,
   "metadata": {
    "collapsed": false
   },
   "outputs": [
    {
     "data": {
      "text/html": [
       "<div>\n",
       "<table border=\"1\" class=\"dataframe\">\n",
       "  <thead>\n",
       "    <tr style=\"text-align: right;\">\n",
       "      <th></th>\n",
       "      <th>node1</th>\n",
       "      <th>node2</th>\n",
       "      <th>num_edges</th>\n",
       "      <th>timestamp</th>\n",
       "    </tr>\n",
       "  </thead>\n",
       "  <tbody>\n",
       "    <tr>\n",
       "      <th>0</th>\n",
       "      <td>3535</td>\n",
       "      <td>2429</td>\n",
       "      <td>23555</td>\n",
       "      <td>2015-11-17 05:18:02.755126</td>\n",
       "    </tr>\n",
       "  </tbody>\n",
       "</table>\n",
       "</div>"
      ],
      "text/plain": [
       "   node1  node2  num_edges                  timestamp\n",
       "0   3535   2429      23555 2015-11-17 05:18:02.755126"
      ]
     },
     "execution_count": 132,
     "metadata": {},
     "output_type": "execute_result"
    }
   ],
   "source": [
    "cuts[cuts.node1 == 3535]"
   ]
  },
  {
   "cell_type": "code",
   "execution_count": 140,
   "metadata": {
    "collapsed": false
   },
   "outputs": [
    {
     "name": "stdout",
     "output_type": "stream",
     "text": [
      "CPU times: user 8min 10s, sys: 4 s, total: 8min 14s\n",
      "Wall time: 8min 15s\n"
     ]
    }
   ],
   "source": [
    "%time cuts['cutcon'] = cuts.apply(cutcon, axis = 1)"
   ]
  },
  {
   "cell_type": "code",
   "execution_count": 143,
   "metadata": {
    "collapsed": false
   },
   "outputs": [
    {
     "data": {
      "text/plain": [
       "<matplotlib.axes._subplots.AxesSubplot at 0x10c837710>"
      ]
     },
     "execution_count": 143,
     "metadata": {},
     "output_type": "execute_result"
    },
    {
     "data": {
      "image/png": "[encoded data removed]",
      "text/plain": [
       "<matplotlib.figure.Figure at 0x10ade3810>"
      ]
     },
     "metadata": {},
     "output_type": "display_data"
    }
   ],
   "source": [
    "cuts.plot(y='cutcon')"
   ]
  },
  {
   "cell_type": "code",
   "execution_count": 144,
   "metadata": {
    "collapsed": true
   },
   "outputs": [],
   "source": [
    "def bigsize(row):\n",
    "    g.remove_edge(row.node1, row.node2)\n",
    "    return len(max(nx.connected_components(g), key=len))"
   ]
  },
  {
   "cell_type": "code",
   "execution_count": 151,
   "metadata": {
    "collapsed": false
   },
   "outputs": [
    {
     "name": "stdout",
     "output_type": "stream",
     "text": [
      "CPU times: user 7min 38s, sys: 3.98 s, total: 7min 42s\n",
      "Wall time: 7min 44s\n"
     ]
    }
   ],
   "source": [
    "%time cuts['max_cluster'] = cuts.apply(bigsize, axis=1)"
   ]
  },
  {
   "cell_type": "code",
   "execution_count": 152,
   "metadata": {
    "collapsed": false
   },
   "outputs": [
    {
     "data": {
      "text/html": [
       "<div>\n",
       "<table border=\"1\" class=\"dataframe\">\n",
       "  <thead>\n",
       "    <tr style=\"text-align: right;\">\n",
       "      <th></th>\n",
       "      <th>node1</th>\n",
       "      <th>node2</th>\n",
       "      <th>num_edges</th>\n",
       "      <th>timestamp</th>\n",
       "      <th>cutcon</th>\n",
       "      <th>max_cluster</th>\n",
       "    </tr>\n",
       "  </thead>\n",
       "  <tbody>\n",
       "    <tr>\n",
       "      <th>0</th>\n",
       "      <td>3535</td>\n",
       "      <td>2429</td>\n",
       "      <td>23555</td>\n",
       "      <td>2015-11-17 05:18:02.755126</td>\n",
       "      <td>5</td>\n",
       "      <td>7295</td>\n",
       "    </tr>\n",
       "    <tr>\n",
       "      <th>1</th>\n",
       "      <td>3724</td>\n",
       "      <td>1828</td>\n",
       "      <td>23554</td>\n",
       "      <td>2015-11-17 05:18:35.590452</td>\n",
       "      <td>5</td>\n",
       "      <td>7295</td>\n",
       "    </tr>\n",
       "    <tr>\n",
       "      <th>2</th>\n",
       "      <td>1828</td>\n",
       "      <td>4425</td>\n",
       "      <td>23553</td>\n",
       "      <td>2015-11-17 05:19:08.256799</td>\n",
       "      <td>5</td>\n",
       "      <td>7295</td>\n",
       "    </tr>\n",
       "    <tr>\n",
       "      <th>3</th>\n",
       "      <td>3521</td>\n",
       "      <td>6453</td>\n",
       "      <td>23552</td>\n",
       "      <td>2015-11-17 05:19:40.537327</td>\n",
       "      <td>5</td>\n",
       "      <td>7295</td>\n",
       "    </tr>\n",
       "    <tr>\n",
       "      <th>4</th>\n",
       "      <td>5562</td>\n",
       "      <td>2602</td>\n",
       "      <td>23551</td>\n",
       "      <td>2015-11-17 05:20:15.989270</td>\n",
       "      <td>5</td>\n",
       "      <td>7295</td>\n",
       "    </tr>\n",
       "  </tbody>\n",
       "</table>\n",
       "</div>"
      ],
      "text/plain": [
       "   node1  node2  num_edges                  timestamp  cutcon  max_cluster\n",
       "0   3535   2429      23555 2015-11-17 05:18:02.755126       5         7295\n",
       "1   3724   1828      23554 2015-11-17 05:18:35.590452       5         7295\n",
       "2   1828   4425      23553 2015-11-17 05:19:08.256799       5         7295\n",
       "3   3521   6453      23552 2015-11-17 05:19:40.537327       5         7295\n",
       "4   5562   2602      23551 2015-11-17 05:20:15.989270       5         7295"
      ]
     },
     "execution_count": 152,
     "metadata": {},
     "output_type": "execute_result"
    }
   ],
   "source": [
    "cuts.head()"
   ]
  },
  {
   "cell_type": "code",
   "execution_count": 153,
   "metadata": {
    "collapsed": false
   },
   "outputs": [
    {
     "data": {
      "text/plain": [
       "<matplotlib.axes._subplots.AxesSubplot at 0x10cfbe790>"
      ]
     },
     "execution_count": 153,
     "metadata": {},
     "output_type": "execute_result"
    },
    {
     "data": {
      "image/png": "[encoded data removed]",
      "text/plain": [
       "<matplotlib.figure.Figure at 0x10cc50550>"
      ]
     },
     "metadata": {},
     "output_type": "display_data"
    }
   ],
   "source": [
    "cuts.plot(y='max_cluster')"
   ]
  },
  {
   "cell_type": "code",
   "execution_count": 158,
   "metadata": {
    "collapsed": false
   },
   "outputs": [
    {
     "data": {
      "text/plain": [
       "[7295, 22, 4, 2, 2]"
      ]
     },
     "execution_count": 158,
     "metadata": {},
     "output_type": "execute_result"
    }
   ],
   "source": [
    "[len(i) for i in list(nx.connected_components(g))]"
   ]
  },
  {
   "cell_type": "code",
   "execution_count": 165,
   "metadata": {
    "collapsed": false
   },
   "outputs": [
    {
     "name": "stdout",
     "output_type": "stream",
     "text": [
      "23555\n",
      "7325\n"
     ]
    }
   ],
   "source": [
    "g = nx.from_pandas_dataframe(cuts, 'node1', 'node2')\n",
    "print g.number_of_edges()\n",
    "print g.number_of_nodes()"
   ]
  },
  {
   "cell_type": "code",
   "execution_count": 166,
   "metadata": {
    "collapsed": false
   },
   "outputs": [],
   "source": [
    "# reduces graph to 6 clusters\n",
    "cuts[cuts.cutcon <= 6].apply(cutcon, axis=1);"
   ]
  },
  {
   "cell_type": "code",
   "execution_count": 179,
   "metadata": {
    "collapsed": false
   },
   "outputs": [
    {
     "data": {
      "text/plain": [
       "[4291, 3004, 22, 4, 2, 2]"
      ]
     },
     "execution_count": 179,
     "metadata": {},
     "output_type": "execute_result"
    }
   ],
   "source": [
    "# cluster sizes\n",
    "[len(i) for i in list(nx.connected_components(g))]"
   ]
  },
  {
   "cell_type": "code",
   "execution_count": 209,
   "metadata": {
    "collapsed": true
   },
   "outputs": [],
   "source": [
    "def assign_clusters(df, graph):\n",
    "    cc = list(nx.connected_components(graph))\n",
    "    \n",
    "    cnum = pd.Series(-1, index=df.index)\n",
    "    for row in df.index:\n",
    "        for i, cluster in enumerate(cc):\n",
    "#             print row, i, len(cluster)\n",
    "            if row in cluster: cnum.ix[row] = i\n",
    "                \n",
    "    return cnum"
   ]
  },
  {
   "cell_type": "code",
   "execution_count": 210,
   "metadata": {
    "collapsed": false
   },
   "outputs": [
    {
     "name": "stdout",
     "output_type": "stream",
     "text": [
      "CPU times: user 689 ms, sys: 49.8 ms, total: 739 ms\n",
      "Wall time: 708 ms\n"
     ]
    }
   ],
   "source": [
    "%time df['cnum'] = assign_clusters(df, g)"
   ]
  },
  {
   "cell_type": "code",
   "execution_count": 214,
   "metadata": {
    "collapsed": false
   },
   "outputs": [
    {
     "data": {
      "text/html": [
       "<div>\n",
       "<table border=\"1\" class=\"dataframe\">\n",
       "  <thead>\n",
       "    <tr style=\"text-align: right;\">\n",
       "      <th></th>\n",
       "      <th>lat</th>\n",
       "      <th>lon</th>\n",
       "      <th>taxable_value</th>\n",
       "      <th>grocery</th>\n",
       "      <th>restaurant</th>\n",
       "      <th>retail</th>\n",
       "      <th>ncrimes</th>\n",
       "      <th>sgnf</th>\n",
       "      <th>avg_hh_size</th>\n",
       "      <th>population</th>\n",
       "      <th>walkscore</th>\n",
       "    </tr>\n",
       "    <tr>\n",
       "      <th>cnum</th>\n",
       "      <th></th>\n",
       "      <th></th>\n",
       "      <th></th>\n",
       "      <th></th>\n",
       "      <th></th>\n",
       "      <th></th>\n",
       "      <th></th>\n",
       "      <th></th>\n",
       "      <th></th>\n",
       "      <th></th>\n",
       "      <th></th>\n",
       "    </tr>\n",
       "  </thead>\n",
       "  <tbody>\n",
       "    <tr>\n",
       "      <th>-1</th>\n",
       "      <td>9</td>\n",
       "      <td>9</td>\n",
       "      <td>9</td>\n",
       "      <td>9</td>\n",
       "      <td>9</td>\n",
       "      <td>9</td>\n",
       "      <td>9</td>\n",
       "      <td>9</td>\n",
       "      <td>9</td>\n",
       "      <td>9</td>\n",
       "      <td>9</td>\n",
       "    </tr>\n",
       "    <tr>\n",
       "      <th>0</th>\n",
       "      <td>4291</td>\n",
       "      <td>4291</td>\n",
       "      <td>4291</td>\n",
       "      <td>4291</td>\n",
       "      <td>4291</td>\n",
       "      <td>4291</td>\n",
       "      <td>4291</td>\n",
       "      <td>4291</td>\n",
       "      <td>4291</td>\n",
       "      <td>4291</td>\n",
       "      <td>4291</td>\n",
       "    </tr>\n",
       "    <tr>\n",
       "      <th>1</th>\n",
       "      <td>3004</td>\n",
       "      <td>3004</td>\n",
       "      <td>3004</td>\n",
       "      <td>3004</td>\n",
       "      <td>3004</td>\n",
       "      <td>3004</td>\n",
       "      <td>3004</td>\n",
       "      <td>3004</td>\n",
       "      <td>3004</td>\n",
       "      <td>3004</td>\n",
       "      <td>3004</td>\n",
       "    </tr>\n",
       "    <tr>\n",
       "      <th>2</th>\n",
       "      <td>22</td>\n",
       "      <td>22</td>\n",
       "      <td>22</td>\n",
       "      <td>22</td>\n",
       "      <td>22</td>\n",
       "      <td>22</td>\n",
       "      <td>22</td>\n",
       "      <td>22</td>\n",
       "      <td>22</td>\n",
       "      <td>22</td>\n",
       "      <td>22</td>\n",
       "    </tr>\n",
       "    <tr>\n",
       "      <th>3</th>\n",
       "      <td>4</td>\n",
       "      <td>4</td>\n",
       "      <td>4</td>\n",
       "      <td>4</td>\n",
       "      <td>4</td>\n",
       "      <td>4</td>\n",
       "      <td>4</td>\n",
       "      <td>4</td>\n",
       "      <td>4</td>\n",
       "      <td>4</td>\n",
       "      <td>4</td>\n",
       "    </tr>\n",
       "    <tr>\n",
       "      <th>4</th>\n",
       "      <td>2</td>\n",
       "      <td>2</td>\n",
       "      <td>2</td>\n",
       "      <td>2</td>\n",
       "      <td>2</td>\n",
       "      <td>2</td>\n",
       "      <td>2</td>\n",
       "      <td>2</td>\n",
       "      <td>2</td>\n",
       "      <td>2</td>\n",
       "      <td>2</td>\n",
       "    </tr>\n",
       "    <tr>\n",
       "      <th>5</th>\n",
       "      <td>2</td>\n",
       "      <td>2</td>\n",
       "      <td>2</td>\n",
       "      <td>2</td>\n",
       "      <td>2</td>\n",
       "      <td>2</td>\n",
       "      <td>2</td>\n",
       "      <td>2</td>\n",
       "      <td>2</td>\n",
       "      <td>2</td>\n",
       "      <td>2</td>\n",
       "    </tr>\n",
       "  </tbody>\n",
       "</table>\n",
       "</div>"
      ],
      "text/plain": [
       "       lat   lon  taxable_value  grocery  restaurant  retail  ncrimes  sgnf  \\\n",
       "cnum                                                                          \n",
       "-1       9     9              9        9           9       9        9     9   \n",
       " 0    4291  4291           4291     4291        4291    4291     4291  4291   \n",
       " 1    3004  3004           3004     3004        3004    3004     3004  3004   \n",
       " 2      22    22             22       22          22      22       22    22   \n",
       " 3       4     4              4        4           4       4        4     4   \n",
       " 4       2     2              2        2           2       2        2     2   \n",
       " 5       2     2              2        2           2       2        2     2   \n",
       "\n",
       "      avg_hh_size  population  walkscore  \n",
       "cnum                                      \n",
       "-1              9           9          9  \n",
       " 0           4291        4291       4291  \n",
       " 1           3004        3004       3004  \n",
       " 2             22          22         22  \n",
       " 3              4           4          4  \n",
       " 4              2           2          2  \n",
       " 5              2           2          2  "
      ]
     },
     "execution_count": 214,
     "metadata": {},
     "output_type": "execute_result"
    }
   ],
   "source": [
    "df.groupby('cnum').count()"
   ]
  },
  {
   "cell_type": "code",
   "execution_count": 215,
   "metadata": {
    "collapsed": false
   },
   "outputs": [
    {
     "data": {
      "text/html": [
       "<div>\n",
       "<table border=\"1\" class=\"dataframe\">\n",
       "  <thead>\n",
       "    <tr style=\"text-align: right;\">\n",
       "      <th></th>\n",
       "      <th>lat</th>\n",
       "      <th>lon</th>\n",
       "      <th>taxable_value</th>\n",
       "      <th>grocery</th>\n",
       "      <th>restaurant</th>\n",
       "      <th>retail</th>\n",
       "      <th>ncrimes</th>\n",
       "      <th>sgnf</th>\n",
       "      <th>avg_hh_size</th>\n",
       "      <th>population</th>\n",
       "      <th>walkscore</th>\n",
       "    </tr>\n",
       "    <tr>\n",
       "      <th>cnum</th>\n",
       "      <th></th>\n",
       "      <th></th>\n",
       "      <th></th>\n",
       "      <th></th>\n",
       "      <th></th>\n",
       "      <th></th>\n",
       "      <th></th>\n",
       "      <th></th>\n",
       "      <th></th>\n",
       "      <th></th>\n",
       "      <th></th>\n",
       "    </tr>\n",
       "  </thead>\n",
       "  <tbody>\n",
       "    <tr>\n",
       "      <th>-1</th>\n",
       "      <td>37.772803</td>\n",
       "      <td>-122.476444</td>\n",
       "      <td>-1.844821</td>\n",
       "      <td>-0.780759</td>\n",
       "      <td>-0.376512</td>\n",
       "      <td>-0.829723</td>\n",
       "      <td>-0.316682</td>\n",
       "      <td>-2.315585</td>\n",
       "      <td>-1.585990</td>\n",
       "      <td>-0.883098</td>\n",
       "      <td>-3.569271</td>\n",
       "    </tr>\n",
       "    <tr>\n",
       "      <th>0</th>\n",
       "      <td>37.765990</td>\n",
       "      <td>-122.416978</td>\n",
       "      <td>0.113511</td>\n",
       "      <td>0.308534</td>\n",
       "      <td>0.236493</td>\n",
       "      <td>0.337745</td>\n",
       "      <td>0.279914</td>\n",
       "      <td>-0.189304</td>\n",
       "      <td>-0.363674</td>\n",
       "      <td>0.050168</td>\n",
       "      <td>0.186821</td>\n",
       "    </tr>\n",
       "    <tr>\n",
       "      <th>1</th>\n",
       "      <td>37.742204</td>\n",
       "      <td>-122.465004</td>\n",
       "      <td>-0.088809</td>\n",
       "      <td>-0.430184</td>\n",
       "      <td>-0.332017</td>\n",
       "      <td>-0.471465</td>\n",
       "      <td>-0.422765</td>\n",
       "      <td>0.295742</td>\n",
       "      <td>0.543913</td>\n",
       "      <td>-0.048133</td>\n",
       "      <td>-0.218225</td>\n",
       "    </tr>\n",
       "    <tr>\n",
       "      <th>2</th>\n",
       "      <td>37.810562</td>\n",
       "      <td>-122.365263</td>\n",
       "      <td>-8.085101</td>\n",
       "      <td>-0.844874</td>\n",
       "      <td>-0.497911</td>\n",
       "      <td>-0.880369</td>\n",
       "      <td>3.161652</td>\n",
       "      <td>-1.767449</td>\n",
       "      <td>-1.945063</td>\n",
       "      <td>-2.452607</td>\n",
       "      <td>-4.083061</td>\n",
       "    </tr>\n",
       "    <tr>\n",
       "      <th>3</th>\n",
       "      <td>37.711443</td>\n",
       "      <td>-122.494967</td>\n",
       "      <td>0.574274</td>\n",
       "      <td>-0.802308</td>\n",
       "      <td>-0.372675</td>\n",
       "      <td>-0.854991</td>\n",
       "      <td>-0.286227</td>\n",
       "      <td>-1.910613</td>\n",
       "      <td>-2.089998</td>\n",
       "      <td>-0.414820</td>\n",
       "      <td>-3.906850</td>\n",
       "    </tr>\n",
       "    <tr>\n",
       "      <th>4</th>\n",
       "      <td>37.818908</td>\n",
       "      <td>-122.370744</td>\n",
       "      <td>-7.886234</td>\n",
       "      <td>-0.999162</td>\n",
       "      <td>-0.430066</td>\n",
       "      <td>-0.830920</td>\n",
       "      <td>1.988845</td>\n",
       "      <td>-2.143000</td>\n",
       "      <td>-2.077212</td>\n",
       "      <td>-2.466023</td>\n",
       "      <td>-2.389727</td>\n",
       "    </tr>\n",
       "    <tr>\n",
       "      <th>5</th>\n",
       "      <td>37.774846</td>\n",
       "      <td>-122.383487</td>\n",
       "      <td>-6.171869</td>\n",
       "      <td>-0.412285</td>\n",
       "      <td>-0.360198</td>\n",
       "      <td>-0.532865</td>\n",
       "      <td>-0.331642</td>\n",
       "      <td>-2.227498</td>\n",
       "      <td>-1.905731</td>\n",
       "      <td>-1.091728</td>\n",
       "      <td>-1.872452</td>\n",
       "    </tr>\n",
       "  </tbody>\n",
       "</table>\n",
       "</div>"
      ],
      "text/plain": [
       "            lat         lon  taxable_value   grocery  restaurant    retail  \\\n",
       "cnum                                                                         \n",
       "-1    37.772803 -122.476444      -1.844821 -0.780759   -0.376512 -0.829723   \n",
       " 0    37.765990 -122.416978       0.113511  0.308534    0.236493  0.337745   \n",
       " 1    37.742204 -122.465004      -0.088809 -0.430184   -0.332017 -0.471465   \n",
       " 2    37.810562 -122.365263      -8.085101 -0.844874   -0.497911 -0.880369   \n",
       " 3    37.711443 -122.494967       0.574274 -0.802308   -0.372675 -0.854991   \n",
       " 4    37.818908 -122.370744      -7.886234 -0.999162   -0.430066 -0.830920   \n",
       " 5    37.774846 -122.383487      -6.171869 -0.412285   -0.360198 -0.532865   \n",
       "\n",
       "       ncrimes      sgnf  avg_hh_size  population  walkscore  \n",
       "cnum                                                          \n",
       "-1   -0.316682 -2.315585    -1.585990   -0.883098  -3.569271  \n",
       " 0    0.279914 -0.189304    -0.363674    0.050168   0.186821  \n",
       " 1   -0.422765  0.295742     0.543913   -0.048133  -0.218225  \n",
       " 2    3.161652 -1.767449    -1.945063   -2.452607  -4.083061  \n",
       " 3   -0.286227 -1.910613    -2.089998   -0.414820  -3.906850  \n",
       " 4    1.988845 -2.143000    -2.077212   -2.466023  -2.389727  \n",
       " 5   -0.331642 -2.227498    -1.905731   -1.091728  -1.872452  "
      ]
     },
     "execution_count": 215,
     "metadata": {},
     "output_type": "execute_result"
    }
   ],
   "source": [
    "# feature mean by group\n",
    "df.groupby('cnum').mean()"
   ]
  },
  {
   "cell_type": "code",
   "execution_count": 216,
   "metadata": {
    "collapsed": false
   },
   "outputs": [
    {
     "data": {
      "text/html": [
       "<div>\n",
       "<table border=\"1\" class=\"dataframe\">\n",
       "  <thead>\n",
       "    <tr style=\"text-align: right;\">\n",
       "      <th></th>\n",
       "      <th>lat</th>\n",
       "      <th>lon</th>\n",
       "      <th>taxable_value</th>\n",
       "      <th>grocery</th>\n",
       "      <th>restaurant</th>\n",
       "      <th>retail</th>\n",
       "      <th>ncrimes</th>\n",
       "      <th>sgnf</th>\n",
       "      <th>avg_hh_size</th>\n",
       "      <th>population</th>\n",
       "      <th>walkscore</th>\n",
       "      <th>cnum</th>\n",
       "    </tr>\n",
       "  </thead>\n",
       "  <tbody>\n",
       "    <tr>\n",
       "      <th>0</th>\n",
       "      <td>37.750067</td>\n",
       "      <td>-122.441075</td>\n",
       "      <td>0.288994</td>\n",
       "      <td>-0.640949</td>\n",
       "      <td>-0.561362</td>\n",
       "      <td>-0.582297</td>\n",
       "      <td>-0.509058</td>\n",
       "      <td>0.477959</td>\n",
       "      <td>-0.017894</td>\n",
       "      <td>-0.102338</td>\n",
       "      <td>-0.025533</td>\n",
       "      <td>0</td>\n",
       "    </tr>\n",
       "    <tr>\n",
       "      <th>1</th>\n",
       "      <td>37.750196</td>\n",
       "      <td>-122.438933</td>\n",
       "      <td>0.336486</td>\n",
       "      <td>-0.576766</td>\n",
       "      <td>-0.465886</td>\n",
       "      <td>-0.515304</td>\n",
       "      <td>-0.509038</td>\n",
       "      <td>1.060608</td>\n",
       "      <td>0.253293</td>\n",
       "      <td>0.043369</td>\n",
       "      <td>0.146457</td>\n",
       "      <td>0</td>\n",
       "    </tr>\n",
       "    <tr>\n",
       "      <th>2</th>\n",
       "      <td>37.756794</td>\n",
       "      <td>-122.436270</td>\n",
       "      <td>0.350392</td>\n",
       "      <td>-0.131126</td>\n",
       "      <td>-0.396314</td>\n",
       "      <td>-0.227381</td>\n",
       "      <td>-0.313369</td>\n",
       "      <td>0.276664</td>\n",
       "      <td>0.244508</td>\n",
       "      <td>0.413731</td>\n",
       "      <td>0.701471</td>\n",
       "      <td>0</td>\n",
       "    </tr>\n",
       "    <tr>\n",
       "      <th>3</th>\n",
       "      <td>37.753529</td>\n",
       "      <td>-122.437050</td>\n",
       "      <td>0.327277</td>\n",
       "      <td>-0.298948</td>\n",
       "      <td>-0.286766</td>\n",
       "      <td>-0.356888</td>\n",
       "      <td>-0.456736</td>\n",
       "      <td>0.945703</td>\n",
       "      <td>0.372523</td>\n",
       "      <td>0.260021</td>\n",
       "      <td>0.594762</td>\n",
       "      <td>0</td>\n",
       "    </tr>\n",
       "    <tr>\n",
       "      <th>4</th>\n",
       "      <td>37.755758</td>\n",
       "      <td>-122.433400</td>\n",
       "      <td>0.355234</td>\n",
       "      <td>0.018376</td>\n",
       "      <td>-0.470065</td>\n",
       "      <td>-0.123353</td>\n",
       "      <td>-0.345027</td>\n",
       "      <td>0.674973</td>\n",
       "      <td>0.360681</td>\n",
       "      <td>0.530529</td>\n",
       "      <td>0.622791</td>\n",
       "      <td>0</td>\n",
       "    </tr>\n",
       "  </tbody>\n",
       "</table>\n",
       "</div>"
      ],
      "text/plain": [
       "         lat         lon  taxable_value   grocery  restaurant    retail  \\\n",
       "0  37.750067 -122.441075       0.288994 -0.640949   -0.561362 -0.582297   \n",
       "1  37.750196 -122.438933       0.336486 -0.576766   -0.465886 -0.515304   \n",
       "2  37.756794 -122.436270       0.350392 -0.131126   -0.396314 -0.227381   \n",
       "3  37.753529 -122.437050       0.327277 -0.298948   -0.286766 -0.356888   \n",
       "4  37.755758 -122.433400       0.355234  0.018376   -0.470065 -0.123353   \n",
       "\n",
       "    ncrimes      sgnf  avg_hh_size  population  walkscore  cnum  \n",
       "0 -0.509058  0.477959    -0.017894   -0.102338  -0.025533     0  \n",
       "1 -0.509038  1.060608     0.253293    0.043369   0.146457     0  \n",
       "2 -0.313369  0.276664     0.244508    0.413731   0.701471     0  \n",
       "3 -0.456736  0.945703     0.372523    0.260021   0.594762     0  \n",
       "4 -0.345027  0.674973     0.360681    0.530529   0.622791     0  "
      ]
     },
     "execution_count": 216,
     "metadata": {},
     "output_type": "execute_result"
    }
   ],
   "source": [
    "df.head()"
   ]
  },
  {
   "cell_type": "markdown",
   "metadata": {},
   "source": [
    "# MSE"
   ]
  },
  {
   "cell_type": "code",
   "execution_count": 218,
   "metadata": {
    "collapsed": true
   },
   "outputs": [],
   "source": [
    "from code.featurize import sim"
   ]
  },
  {
   "cell_type": "code",
   "execution_count": 241,
   "metadata": {
    "collapsed": true
   },
   "outputs": [],
   "source": [
    "def row_errorsq(row, cluster_means):\n",
    "    rowf = row.drop(['cnum'])\n",
    "    return (sim(rowf, cluster_means.ix[int(row.cnum)]))**2\n",
    "\n",
    "def wcss(df):\n",
    "    dfcp = df.copy()\n",
    "    features = df.drop(['lat', 'lon'], axis = 1)\n",
    "    cluster_means = features.groupby('cnum').mean()\n",
    "    dfcp['errors'] = features.apply(lambda x: row_errorsq(x, cluster_means), axis = 1)\n",
    "\n",
    "    return dfcp.groupby('cnum').sum().iloc[:,0]"
   ]
  },
  {
   "cell_type": "code",
   "execution_count": 228,
   "metadata": {
    "collapsed": true
   },
   "outputs": [],
   "source": [
    "features = df.drop(['lat', 'lon'], axis = 1)\n",
    "cluster_means = features.groupby('cnum').mean()\n",
    "features = features.drop(['cnum'], axis = 1)"
   ]
  },
  {
   "cell_type": "code",
   "execution_count": 229,
   "metadata": {
    "collapsed": false
   },
   "outputs": [
    {
     "data": {
      "text/plain": [
       "1.9159841159785016"
      ]
     },
     "execution_count": 229,
     "metadata": {},
     "output_type": "execute_result"
    }
   ],
   "source": [
    "row_error(features.ix[0], cluster_means)"
   ]
  },
  {
   "cell_type": "code",
   "execution_count": 232,
   "metadata": {
    "collapsed": false
   },
   "outputs": [
    {
     "data": {
      "text/plain": [
       "array([ 0,  1,  2, -1,  3,  4,  5])"
      ]
     },
     "execution_count": 232,
     "metadata": {},
     "output_type": "execute_result"
    }
   ],
   "source": [
    "df.cnum.unique()"
   ]
  },
  {
   "cell_type": "code",
   "execution_count": 234,
   "metadata": {
    "collapsed": false
   },
   "outputs": [
    {
     "data": {
      "text/plain": [
       "Int64Index([-1, 0, 1, 2, 3, 4, 5], dtype='int64', name=u'cnum')"
      ]
     },
     "execution_count": 234,
     "metadata": {},
     "output_type": "execute_result"
    }
   ],
   "source": [
    "cluster_means.index"
   ]
  },
  {
   "cell_type": "code",
   "execution_count": 242,
   "metadata": {
    "collapsed": false
   },
   "outputs": [
    {
     "data": {
      "text/plain": [
       "0.49265919494279858"
      ]
     },
     "execution_count": 242,
     "metadata": {},
     "output_type": "execute_result"
    }
   ],
   "source": [
    "row_errorsq(df.ix[6].drop(['lat', 'lon']), cluster_means)"
   ]
  },
  {
   "cell_type": "code",
   "execution_count": 243,
   "metadata": {
    "collapsed": false
   },
   "outputs": [
    {
     "data": {
      "text/plain": [
       "cnum\n",
       "-1       339.955228\n",
       " 0    162053.863407\n",
       " 1    113377.580485\n",
       " 2       831.832356\n",
       " 3       150.845770\n",
       " 4        75.637816\n",
       " 5        75.549692\n",
       "Name: lat, dtype: float64"
      ]
     },
     "execution_count": 243,
     "metadata": {},
     "output_type": "execute_result"
    }
   ],
   "source": [
    "wcss = wcss(df)\n",
    "wcss"
   ]
  },
  {
   "cell_type": "code",
   "execution_count": 247,
   "metadata": {
    "collapsed": false
   },
   "outputs": [
    {
     "data": {
      "text/plain": [
       "276565.30952650058"
      ]
     },
     "execution_count": 247,
     "metadata": {},
     "output_type": "execute_result"
    }
   ],
   "source": [
    "wcss.ix[wcss.index >= 0].sum()"
   ]
  },
  {
   "cell_type": "code",
   "execution_count": 248,
   "metadata": {
    "collapsed": true
   },
   "outputs": [],
   "source": [
    "import code.assessment as a"
   ]
  },
  {
   "cell_type": "code",
   "execution_count": 250,
   "metadata": {
    "collapsed": false
   },
   "outputs": [
    {
     "data": {
      "text/plain": [
       "cnum\n",
       "-1       339.955228\n",
       " 0    162053.863407\n",
       " 1    113377.580485\n",
       " 2       831.832356\n",
       " 3       150.845770\n",
       " 4        75.637816\n",
       " 5        75.549692\n",
       "Name: lat, dtype: float64"
      ]
     },
     "execution_count": 250,
     "metadata": {},
     "output_type": "execute_result"
    }
   ],
   "source": [
    "a.wcss(df)"
   ]
  },
  {
   "cell_type": "code",
   "execution_count": 258,
   "metadata": {
    "collapsed": false
   },
   "outputs": [
    {
     "name": "stdout",
     "output_type": "stream",
     "text": [
      "23555\n",
      "7325\n",
      "WCSSE: 276565.309527\n",
      "CPU times: user 13.1 s, sys: 146 ms, total: 13.2 s\n",
      "Wall time: 13.3 s\n"
     ]
    }
   ],
   "source": [
    "%%time\n",
    "# rebuild full graph\n",
    "g = nx.from_pandas_dataframe(cuts, 'node1', 'node2')\n",
    "print g.number_of_edges()\n",
    "print g.number_of_nodes()\n",
    "\n",
    "# reduces graph to 7 clusters\n",
    "cuts[cuts.cutcon <= 7].apply(cutcon, axis=1)\n",
    "\n",
    "# assign cluster numbers\n",
    "df['cnum'] = a.assign_clusters(df, g)\n",
    "    \n",
    "wcss = a.wcss(df)\n",
    "print 'WCSSE:', wcss.ix[wcss.index >= 0].sum()\n",
    "wcss"
   ]
  },
  {
   "cell_type": "code",
   "execution_count": 257,
   "metadata": {
    "collapsed": false
   },
   "outputs": [
    {
     "data": {
      "text/plain": [
       "[3123, 3004, 1168, 22, 4, 2, 2]"
      ]
     },
     "execution_count": 257,
     "metadata": {},
     "output_type": "execute_result"
    }
   ],
   "source": [
    "# cluster sizes\n",
    "[len(i) for i in list(nx.connected_components(g))]"
   ]
  },
  {
   "cell_type": "markdown",
   "metadata": {},
   "source": [
    "# WCSS vs k"
   ]
  },
  {
   "cell_type": "code",
   "execution_count": 327,
   "metadata": {
    "collapsed": false,
    "scrolled": false
   },
   "outputs": [
    {
     "name": "stdout",
     "output_type": "stream",
     "text": [
      "k: 10 WCSSE: 62943.3522147\n",
      "k: 10 WCSSE: 57127.9701474\n",
      "k: 10 WCSSE: 50773.7637482\n",
      "k: 10 WCSSE: 50593.8892796\n",
      "k: 10 WCSSE: 50191.3728975\n",
      "k: 10 WCSSE: 45946.1376034\n",
      "k: 10 WCSSE: 45616.929768\n",
      "k: 10 WCSSE: 43299.7427363\n",
      "k: 10 WCSSE: 43139.7241871\n",
      "k: 10 WCSSE: 43042.1116143\n",
      "k: 10 WCSSE: 41206.720455\n",
      "k: 10 WCSSE: 39989.7560288\n",
      "k: 10 WCSSE: 39449.798029\n",
      "k: 10 WCSSE: 39289.3415999\n",
      "k: 10 WCSSE: 36759.784894\n",
      "CPU times: user 1min 52s, sys: 1.01 s, total: 1min 54s\n",
      "Wall time: 1min 54s\n"
     ]
    }
   ],
   "source": [
    "%%time\n",
    "ks = range(5, 50)\n",
    "wcsses = []\n",
    "\n",
    "for k in ks:\n",
    "    # rebuild full graph\n",
    "    g = nx.from_pandas_dataframe(cuts, 'node1', 'node2')\n",
    "\n",
    "    # reduces graph to i clusters\n",
    "    cuts[cuts.cutcon <= k].apply(lambda x: a.cutrow(x, g), axis=1)\n",
    "\n",
    "    # assign cluster numbers\n",
    "    df['cnum'] = a.assign_clusters(df, g)\n",
    "\n",
    "    wcss = a.wcss(df)\n",
    "    wcsses.append(wcss.ix[wcss.index >= 0].sum())\n",
    "    print 'k:', k, 'WCSSE:', wcss.ix[wcss.index >= 0].sum()"
   ]
  },
  {
   "cell_type": "code",
   "execution_count": 330,
   "metadata": {
    "collapsed": false
   },
   "outputs": [
    {
     "data": {
      "image/png": "[encoded data removed]",
      "text/plain": [
       "<matplotlib.figure.Figure at 0x110cffc10>"
      ]
     },
     "metadata": {},
     "output_type": "display_data"
    }
   ],
   "source": [
    "plt.plot(ks, wcsses)\n",
    "plt.xlabel('# clusters')\n",
    "plt.ylabel('WCSS');"
   ]
  },
  {
   "cell_type": "code",
   "execution_count": null,
   "metadata": {
    "collapsed": true
   },
   "outputs": [],
   "source": []
  }
 ],
 "metadata": {
  "kernelspec": {
   "display_name": "Python 2",
   "language": "python",
   "name": "python2"
  },
  "language_info": {
   "codemirror_mode": {
    "name": "ipython",
    "version": 2
   },
   "file_extension": ".py",
   "mimetype": "text/x-python",
   "name": "python",
   "nbconvert_exporter": "python",
   "pygments_lexer": "ipython2",
   "version": "2.7.10"
  }
 },
 "nbformat": 4,
 "nbformat_minor": 0
}
