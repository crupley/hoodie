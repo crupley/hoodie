{
 "cells": [
  {
   "cell_type": "code",
   "execution_count": 2,
   "metadata": {
    "collapsed": false
   },
   "outputs": [
    {
     "name": "stdout",
     "output_type": "stream",
     "text": [
      "/Users/crupley/gal/hoodie\n"
     ]
    }
   ],
   "source": [
    "cd .."
   ]
  },
  {
   "cell_type": "code",
   "execution_count": 91,
   "metadata": {
    "collapsed": false
   },
   "outputs": [],
   "source": [
    "%matplotlib inline\n",
    "\n",
    "import numpy as np\n",
    "import pandas as pd\n",
    "import matplotlib.pyplot as plt\n",
    "import cPickle as pickle\n",
    "\n",
    "import networkx as nx\n",
    "from sklearn.preprocessing import StandardScaler\n",
    "\n",
    "from code.featurize import *\n",
    "\n",
    "plt.rcParams['figure.figsize'] = 16, 10"
   ]
  },
  {
   "cell_type": "code",
   "execution_count": 20,
   "metadata": {
    "collapsed": false
   },
   "outputs": [],
   "source": [
    "from code.graph import make_edges"
   ]
  },
  {
   "cell_type": "code",
   "execution_count": 7,
   "metadata": {
    "collapsed": false
   },
   "outputs": [
    {
     "data": {
      "text/html": [
       "<div>\n",
       "<table border=\"1\" class=\"dataframe\">\n",
       "  <thead>\n",
       "    <tr style=\"text-align: right;\">\n",
       "      <th></th>\n",
       "      <th>lat</th>\n",
       "      <th>lon</th>\n",
       "      <th>taxable_value</th>\n",
       "      <th>grocery</th>\n",
       "      <th>restaurant</th>\n",
       "      <th>retail</th>\n",
       "      <th>ncrimes</th>\n",
       "      <th>sgnf</th>\n",
       "      <th>avg_hh_size</th>\n",
       "      <th>population</th>\n",
       "      <th>walkscore</th>\n",
       "    </tr>\n",
       "    <tr>\n",
       "      <th>node</th>\n",
       "      <th></th>\n",
       "      <th></th>\n",
       "      <th></th>\n",
       "      <th></th>\n",
       "      <th></th>\n",
       "      <th></th>\n",
       "      <th></th>\n",
       "      <th></th>\n",
       "      <th></th>\n",
       "      <th></th>\n",
       "      <th></th>\n",
       "    </tr>\n",
       "  </thead>\n",
       "  <tbody>\n",
       "    <tr>\n",
       "      <th>0</th>\n",
       "      <td>37.750067</td>\n",
       "      <td>-122.441075</td>\n",
       "      <td>718895.248337</td>\n",
       "      <td>-0.000153</td>\n",
       "      <td>-0.014650</td>\n",
       "      <td>0.158808</td>\n",
       "      <td>123.369982</td>\n",
       "      <td>-0.035714</td>\n",
       "      <td>1.806452</td>\n",
       "      <td>112</td>\n",
       "      <td>80.172298</td>\n",
       "    </tr>\n",
       "    <tr>\n",
       "      <th>1</th>\n",
       "      <td>37.750196</td>\n",
       "      <td>-122.438933</td>\n",
       "      <td>834313.797096</td>\n",
       "      <td>-0.002185</td>\n",
       "      <td>0.169033</td>\n",
       "      <td>-0.076971</td>\n",
       "      <td>105.325899</td>\n",
       "      <td>0.039474</td>\n",
       "      <td>2.375000</td>\n",
       "      <td>152</td>\n",
       "      <td>83.318625</td>\n",
       "    </tr>\n",
       "    <tr>\n",
       "      <th>2</th>\n",
       "      <td>37.756794</td>\n",
       "      <td>-122.436270</td>\n",
       "      <td>900225.127625</td>\n",
       "      <td>-0.012031</td>\n",
       "      <td>0.008118</td>\n",
       "      <td>0.125270</td>\n",
       "      <td>143.830470</td>\n",
       "      <td>-0.284672</td>\n",
       "      <td>1.902778</td>\n",
       "      <td>137</td>\n",
       "      <td>93.471872</td>\n",
       "    </tr>\n",
       "    <tr>\n",
       "      <th>3</th>\n",
       "      <td>37.753529</td>\n",
       "      <td>-122.437050</td>\n",
       "      <td>820289.998581</td>\n",
       "      <td>0.218998</td>\n",
       "      <td>0.471783</td>\n",
       "      <td>0.216543</td>\n",
       "      <td>110.432877</td>\n",
       "      <td>-0.019108</td>\n",
       "      <td>2.308824</td>\n",
       "      <td>157</td>\n",
       "      <td>91.519785</td>\n",
       "    </tr>\n",
       "    <tr>\n",
       "      <th>4</th>\n",
       "      <td>37.755758</td>\n",
       "      <td>-122.433400</td>\n",
       "      <td>776981.611641</td>\n",
       "      <td>-0.008045</td>\n",
       "      <td>-0.010146</td>\n",
       "      <td>0.052978</td>\n",
       "      <td>137.947900</td>\n",
       "      <td>-0.065789</td>\n",
       "      <td>2.140845</td>\n",
       "      <td>152</td>\n",
       "      <td>92.032526</td>\n",
       "    </tr>\n",
       "  </tbody>\n",
       "</table>\n",
       "</div>"
      ],
      "text/plain": [
       "            lat         lon  taxable_value   grocery  restaurant    retail  \\\n",
       "node                                                                         \n",
       "0     37.750067 -122.441075  718895.248337 -0.000153   -0.014650  0.158808   \n",
       "1     37.750196 -122.438933  834313.797096 -0.002185    0.169033 -0.076971   \n",
       "2     37.756794 -122.436270  900225.127625 -0.012031    0.008118  0.125270   \n",
       "3     37.753529 -122.437050  820289.998581  0.218998    0.471783  0.216543   \n",
       "4     37.755758 -122.433400  776981.611641 -0.008045   -0.010146  0.052978   \n",
       "\n",
       "         ncrimes      sgnf  avg_hh_size  population  walkscore  \n",
       "node                                                            \n",
       "0     123.369982 -0.035714     1.806452         112  80.172298  \n",
       "1     105.325899  0.039474     2.375000         152  83.318625  \n",
       "2     143.830470 -0.284672     1.902778         137  93.471872  \n",
       "3     110.432877 -0.019108     2.308824         157  91.519785  \n",
       "4     137.947900 -0.065789     2.140845         152  92.032526  "
      ]
     },
     "execution_count": 7,
     "metadata": {},
     "output_type": "execute_result"
    }
   ],
   "source": [
    "df = pickle.load(open('features.pkl', 'rb'))\n",
    "df.index.name = 'node'\n",
    "df.head()"
   ]
  },
  {
   "cell_type": "code",
   "execution_count": null,
   "metadata": {
    "collapsed": true
   },
   "outputs": [],
   "source": [
    "df[df.lat > latmin]"
   ]
  },
  {
   "cell_type": "code",
   "execution_count": 49,
   "metadata": {
    "collapsed": false
   },
   "outputs": [
    {
     "name": "stdout",
     "output_type": "stream",
     "text": [
      "(46, 2)\n"
     ]
    },
    {
     "data": {
      "text/html": [
       "<div>\n",
       "<table border=\"1\" class=\"dataframe\">\n",
       "  <thead>\n",
       "    <tr style=\"text-align: right;\">\n",
       "      <th></th>\n",
       "      <th>lat</th>\n",
       "      <th>lon</th>\n",
       "    </tr>\n",
       "    <tr>\n",
       "      <th>node</th>\n",
       "      <th></th>\n",
       "      <th></th>\n",
       "    </tr>\n",
       "  </thead>\n",
       "  <tbody>\n",
       "    <tr>\n",
       "      <th>105</th>\n",
       "      <td>37.765334</td>\n",
       "      <td>-122.421672</td>\n",
       "    </tr>\n",
       "    <tr>\n",
       "      <th>107</th>\n",
       "      <td>37.762815</td>\n",
       "      <td>-122.420569</td>\n",
       "    </tr>\n",
       "    <tr>\n",
       "      <th>108</th>\n",
       "      <td>37.760968</td>\n",
       "      <td>-122.420394</td>\n",
       "    </tr>\n",
       "    <tr>\n",
       "      <th>173</th>\n",
       "      <td>37.766146</td>\n",
       "      <td>-122.421749</td>\n",
       "    </tr>\n",
       "    <tr>\n",
       "      <th>175</th>\n",
       "      <td>37.762251</td>\n",
       "      <td>-122.419786</td>\n",
       "    </tr>\n",
       "  </tbody>\n",
       "</table>\n",
       "</div>"
      ],
      "text/plain": [
       "            lat         lon\n",
       "node                       \n",
       "105   37.765334 -122.421672\n",
       "107   37.762815 -122.420569\n",
       "108   37.760968 -122.420394\n",
       "173   37.766146 -122.421749\n",
       "175   37.762251 -122.419786"
      ]
     },
     "execution_count": 49,
     "metadata": {},
     "output_type": "execute_result"
    }
   ],
   "source": [
    "tn = 175\n",
    "testnode = df.ix[tn]\n",
    "\n",
    "dfsmall = window(df, testnode.lat - 0.005,\n",
    "                     testnode.lat + 0.005,\n",
    "                     testnode.lon - 0.003,\n",
    "                     testnode.lon + 0.003)[['lat', 'lon']]\n",
    "print dfsmall.shape\n",
    "dfsmall.head()"
   ]
  },
  {
   "cell_type": "code",
   "execution_count": 28,
   "metadata": {
    "collapsed": false
   },
   "outputs": [
    {
     "data": {
      "image/png": "[encoded data removed]",
      "text/plain": [
       "<matplotlib.figure.Figure at 0x10aa0ef10>"
      ]
     },
     "metadata": {},
     "output_type": "display_data"
    }
   ],
   "source": [
    "dfsmall.plot(kind='scatter', x = 'lon', y = 'lat')\n",
    "plt.margins(0)\n",
    "plt.axis('equal')\n",
    "plt.axis('off');"
   ]
  },
  {
   "cell_type": "code",
   "execution_count": 30,
   "metadata": {
    "collapsed": false
   },
   "outputs": [
    {
     "name": "stdout",
     "output_type": "stream",
     "text": [
      "CPU times: user 3.52 s, sys: 46.7 ms, total: 3.56 s\n",
      "Wall time: 3.57 s\n",
      "(167, 2)\n"
     ]
    },
    {
     "data": {
      "text/html": [
       "<div>\n",
       "<table border=\"1\" class=\"dataframe\">\n",
       "  <thead>\n",
       "    <tr style=\"text-align: right;\">\n",
       "      <th></th>\n",
       "      <th>node1</th>\n",
       "      <th>node2</th>\n",
       "    </tr>\n",
       "    <tr>\n",
       "      <th>edge</th>\n",
       "      <th></th>\n",
       "      <th></th>\n",
       "    </tr>\n",
       "  </thead>\n",
       "  <tbody>\n",
       "    <tr>\n",
       "      <th>0</th>\n",
       "      <td>105</td>\n",
       "      <td>6952</td>\n",
       "    </tr>\n",
       "    <tr>\n",
       "      <th>1</th>\n",
       "      <td>105</td>\n",
       "      <td>173</td>\n",
       "    </tr>\n",
       "    <tr>\n",
       "      <th>2</th>\n",
       "      <td>105</td>\n",
       "      <td>2164</td>\n",
       "    </tr>\n",
       "    <tr>\n",
       "      <th>3</th>\n",
       "      <td>105</td>\n",
       "      <td>6500</td>\n",
       "    </tr>\n",
       "    <tr>\n",
       "      <th>4</th>\n",
       "      <td>107</td>\n",
       "      <td>6659</td>\n",
       "    </tr>\n",
       "  </tbody>\n",
       "</table>\n",
       "</div>"
      ],
      "text/plain": [
       "      node1  node2\n",
       "edge              \n",
       "0       105   6952\n",
       "1       105    173\n",
       "2       105   2164\n",
       "3       105   6500\n",
       "4       107   6659"
      ]
     },
     "execution_count": 30,
     "metadata": {},
     "output_type": "execute_result"
    }
   ],
   "source": [
    "%time edges = make_edges(dfsmall)\n",
    "print edges.shape\n",
    "edges.head()"
   ]
  },
  {
   "cell_type": "code",
   "execution_count": null,
   "metadata": {
    "collapsed": true
   },
   "outputs": [],
   "source": [
    "edges['dist'] = edges.apply(lambda x: dist_by_node(x.node1, x.node2, df), axis=1)"
   ]
  },
  {
   "cell_type": "code",
   "execution_count": 80,
   "metadata": {
    "collapsed": false
   },
   "outputs": [
    {
     "data": {
      "text/html": [
       "<div>\n",
       "<table border=\"1\" class=\"dataframe\">\n",
       "  <thead>\n",
       "    <tr style=\"text-align: right;\">\n",
       "      <th></th>\n",
       "      <th>node1</th>\n",
       "      <th>node2</th>\n",
       "      <th>dist</th>\n",
       "    </tr>\n",
       "    <tr>\n",
       "      <th>edge</th>\n",
       "      <th></th>\n",
       "      <th></th>\n",
       "      <th></th>\n",
       "    </tr>\n",
       "  </thead>\n",
       "  <tbody>\n",
       "    <tr>\n",
       "      <th>0</th>\n",
       "      <td>105</td>\n",
       "      <td>6952</td>\n",
       "      <td>0.000631</td>\n",
       "    </tr>\n",
       "    <tr>\n",
       "      <th>1</th>\n",
       "      <td>105</td>\n",
       "      <td>173</td>\n",
       "      <td>0.000816</td>\n",
       "    </tr>\n",
       "    <tr>\n",
       "      <th>2</th>\n",
       "      <td>105</td>\n",
       "      <td>2164</td>\n",
       "      <td>0.000977</td>\n",
       "    </tr>\n",
       "    <tr>\n",
       "      <th>3</th>\n",
       "      <td>105</td>\n",
       "      <td>6500</td>\n",
       "      <td>0.001221</td>\n",
       "    </tr>\n",
       "    <tr>\n",
       "      <th>4</th>\n",
       "      <td>107</td>\n",
       "      <td>6659</td>\n",
       "      <td>0.000361</td>\n",
       "    </tr>\n",
       "  </tbody>\n",
       "</table>\n",
       "</div>"
      ],
      "text/plain": [
       "      node1  node2      dist\n",
       "edge                        \n",
       "0       105   6952  0.000631\n",
       "1       105    173  0.000816\n",
       "2       105   2164  0.000977\n",
       "3       105   6500  0.001221\n",
       "4       107   6659  0.000361"
      ]
     },
     "execution_count": 80,
     "metadata": {},
     "output_type": "execute_result"
    }
   ],
   "source": [
    "edges.head()"
   ]
  },
  {
   "cell_type": "code",
   "execution_count": 59,
   "metadata": {
    "collapsed": false
   },
   "outputs": [
    {
     "data": {
      "image/png": "[encoded data removed]",
      "text/plain": [
       "<matplotlib.figure.Figure at 0x10d170bd0>"
      ]
     },
     "metadata": {},
     "output_type": "display_data"
    }
   ],
   "source": [
    "dfsmall.plot(kind='scatter', x = 'lon', y = 'lat')\n",
    "\n",
    "for idx in edges.index:\n",
    "    node1 = edges.ix[idx].node1\n",
    "    node2 = edges.ix[idx].node2\n",
    "\n",
    "    plt.plot([dfsmall.ix[node1].lon, dfsmall.ix[node2].lon],\n",
    "             [dfsmall.ix[node1].lat, dfsmall.ix[node2].lat], c='black')\n",
    "\n",
    "plt.scatter(dfsmall.ix[tn].lon, dfsmall.ix[tn].lat, c='red', s=200)\n",
    "ax = plt.gca()\n",
    "ax.get_xaxis().get_major_formatter().set_useOffset(False)\n",
    "ax.get_yaxis().get_major_formatter().set_useOffset(False)\n",
    "plt.axis('equal')\n",
    "plt.margins(0)"
   ]
  },
  {
   "cell_type": "markdown",
   "metadata": {},
   "source": [
    "# Make graph"
   ]
  },
  {
   "cell_type": "code",
   "execution_count": 65,
   "metadata": {
    "collapsed": true
   },
   "outputs": [],
   "source": [
    "g = nx.from_pandas_dataframe(edges, 'node1', 'node2')"
   ]
  },
  {
   "cell_type": "code",
   "execution_count": 73,
   "metadata": {
    "collapsed": false
   },
   "outputs": [
    {
     "name": "stdout",
     "output_type": "stream",
     "text": [
      "Name: \n",
      "Type: Graph\n",
      "Number of nodes: 46\n",
      "Number of edges: 100\n",
      "Average degree:   4.3478\n"
     ]
    }
   ],
   "source": [
    "print nx.info(g)"
   ]
  },
  {
   "cell_type": "code",
   "execution_count": 69,
   "metadata": {
    "collapsed": false
   },
   "outputs": [
    {
     "data": {
      "text/plain": [
       "{107: {}, 273: {}, 2617: {}, 6417: {}, 6659: {}, 6662: {}}"
      ]
     },
     "execution_count": 69,
     "metadata": {},
     "output_type": "execute_result"
    }
   ],
   "source": [
    "g[tn]"
   ]
  },
  {
   "cell_type": "code",
   "execution_count": 75,
   "metadata": {
    "collapsed": false
   },
   "outputs": [
    {
     "data": {
      "text/plain": [
       "[6659, 6662, 273, 107, 6417, 2617]"
      ]
     },
     "execution_count": 75,
     "metadata": {},
     "output_type": "execute_result"
    }
   ],
   "source": [
    "list(nx.all_neighbors(g, tn))"
   ]
  },
  {
   "cell_type": "code",
   "execution_count": 68,
   "metadata": {
    "collapsed": false
   },
   "outputs": [
    {
     "data": {
      "image/png": "[encoded data removed]",
      "text/plain": [
       "<matplotlib.figure.Figure at 0x10cb35fd0>"
      ]
     },
     "metadata": {},
     "output_type": "display_data"
    }
   ],
   "source": [
    "nx.draw(g)"
   ]
  },
  {
   "cell_type": "markdown",
   "metadata": {},
   "source": [
    "# Graph with weights"
   ]
  },
  {
   "cell_type": "code",
   "execution_count": 82,
   "metadata": {
    "collapsed": false
   },
   "outputs": [
    {
     "data": {
      "text/html": [
       "<div>\n",
       "<table border=\"1\" class=\"dataframe\">\n",
       "  <thead>\n",
       "    <tr style=\"text-align: right;\">\n",
       "      <th></th>\n",
       "      <th>node1</th>\n",
       "      <th>node2</th>\n",
       "      <th>dist</th>\n",
       "    </tr>\n",
       "    <tr>\n",
       "      <th>edge</th>\n",
       "      <th></th>\n",
       "      <th></th>\n",
       "      <th></th>\n",
       "    </tr>\n",
       "  </thead>\n",
       "  <tbody>\n",
       "    <tr>\n",
       "      <th>0</th>\n",
       "      <td>105</td>\n",
       "      <td>6952</td>\n",
       "      <td>0.000631</td>\n",
       "    </tr>\n",
       "    <tr>\n",
       "      <th>1</th>\n",
       "      <td>105</td>\n",
       "      <td>173</td>\n",
       "      <td>0.000816</td>\n",
       "    </tr>\n",
       "    <tr>\n",
       "      <th>2</th>\n",
       "      <td>105</td>\n",
       "      <td>2164</td>\n",
       "      <td>0.000977</td>\n",
       "    </tr>\n",
       "    <tr>\n",
       "      <th>3</th>\n",
       "      <td>105</td>\n",
       "      <td>6500</td>\n",
       "      <td>0.001221</td>\n",
       "    </tr>\n",
       "    <tr>\n",
       "      <th>4</th>\n",
       "      <td>107</td>\n",
       "      <td>6659</td>\n",
       "      <td>0.000361</td>\n",
       "    </tr>\n",
       "  </tbody>\n",
       "</table>\n",
       "</div>"
      ],
      "text/plain": [
       "      node1  node2      dist\n",
       "edge                        \n",
       "0       105   6952  0.000631\n",
       "1       105    173  0.000816\n",
       "2       105   2164  0.000977\n",
       "3       105   6500  0.001221\n",
       "4       107   6659  0.000361"
      ]
     },
     "execution_count": 82,
     "metadata": {},
     "output_type": "execute_result"
    }
   ],
   "source": [
    "edges.head()"
   ]
  },
  {
   "cell_type": "code",
   "execution_count": 84,
   "metadata": {
    "collapsed": false
   },
   "outputs": [
    {
     "data": {
      "text/html": [
       "<div>\n",
       "<table border=\"1\" class=\"dataframe\">\n",
       "  <thead>\n",
       "    <tr style=\"text-align: right;\">\n",
       "      <th></th>\n",
       "      <th>lat</th>\n",
       "      <th>lon</th>\n",
       "      <th>taxable_value</th>\n",
       "      <th>grocery</th>\n",
       "      <th>restaurant</th>\n",
       "      <th>retail</th>\n",
       "      <th>ncrimes</th>\n",
       "      <th>sgnf</th>\n",
       "      <th>avg_hh_size</th>\n",
       "      <th>population</th>\n",
       "      <th>walkscore</th>\n",
       "    </tr>\n",
       "    <tr>\n",
       "      <th>node</th>\n",
       "      <th></th>\n",
       "      <th></th>\n",
       "      <th></th>\n",
       "      <th></th>\n",
       "      <th></th>\n",
       "      <th></th>\n",
       "      <th></th>\n",
       "      <th></th>\n",
       "      <th></th>\n",
       "      <th></th>\n",
       "      <th></th>\n",
       "    </tr>\n",
       "  </thead>\n",
       "  <tbody>\n",
       "    <tr>\n",
       "      <th>0</th>\n",
       "      <td>37.750067</td>\n",
       "      <td>-122.441075</td>\n",
       "      <td>718895.248337</td>\n",
       "      <td>-0.000153</td>\n",
       "      <td>-0.014650</td>\n",
       "      <td>0.158808</td>\n",
       "      <td>123.369982</td>\n",
       "      <td>-0.035714</td>\n",
       "      <td>1.806452</td>\n",
       "      <td>112</td>\n",
       "      <td>80.172298</td>\n",
       "    </tr>\n",
       "    <tr>\n",
       "      <th>1</th>\n",
       "      <td>37.750196</td>\n",
       "      <td>-122.438933</td>\n",
       "      <td>834313.797096</td>\n",
       "      <td>-0.002185</td>\n",
       "      <td>0.169033</td>\n",
       "      <td>-0.076971</td>\n",
       "      <td>105.325899</td>\n",
       "      <td>0.039474</td>\n",
       "      <td>2.375000</td>\n",
       "      <td>152</td>\n",
       "      <td>83.318625</td>\n",
       "    </tr>\n",
       "    <tr>\n",
       "      <th>2</th>\n",
       "      <td>37.756794</td>\n",
       "      <td>-122.436270</td>\n",
       "      <td>900225.127625</td>\n",
       "      <td>-0.012031</td>\n",
       "      <td>0.008118</td>\n",
       "      <td>0.125270</td>\n",
       "      <td>143.830470</td>\n",
       "      <td>-0.284672</td>\n",
       "      <td>1.902778</td>\n",
       "      <td>137</td>\n",
       "      <td>93.471872</td>\n",
       "    </tr>\n",
       "    <tr>\n",
       "      <th>3</th>\n",
       "      <td>37.753529</td>\n",
       "      <td>-122.437050</td>\n",
       "      <td>820289.998581</td>\n",
       "      <td>0.218998</td>\n",
       "      <td>0.471783</td>\n",
       "      <td>0.216543</td>\n",
       "      <td>110.432877</td>\n",
       "      <td>-0.019108</td>\n",
       "      <td>2.308824</td>\n",
       "      <td>157</td>\n",
       "      <td>91.519785</td>\n",
       "    </tr>\n",
       "    <tr>\n",
       "      <th>4</th>\n",
       "      <td>37.755758</td>\n",
       "      <td>-122.433400</td>\n",
       "      <td>776981.611641</td>\n",
       "      <td>-0.008045</td>\n",
       "      <td>-0.010146</td>\n",
       "      <td>0.052978</td>\n",
       "      <td>137.947900</td>\n",
       "      <td>-0.065789</td>\n",
       "      <td>2.140845</td>\n",
       "      <td>152</td>\n",
       "      <td>92.032526</td>\n",
       "    </tr>\n",
       "  </tbody>\n",
       "</table>\n",
       "</div>"
      ],
      "text/plain": [
       "            lat         lon  taxable_value   grocery  restaurant    retail  \\\n",
       "node                                                                         \n",
       "0     37.750067 -122.441075  718895.248337 -0.000153   -0.014650  0.158808   \n",
       "1     37.750196 -122.438933  834313.797096 -0.002185    0.169033 -0.076971   \n",
       "2     37.756794 -122.436270  900225.127625 -0.012031    0.008118  0.125270   \n",
       "3     37.753529 -122.437050  820289.998581  0.218998    0.471783  0.216543   \n",
       "4     37.755758 -122.433400  776981.611641 -0.008045   -0.010146  0.052978   \n",
       "\n",
       "         ncrimes      sgnf  avg_hh_size  population  walkscore  \n",
       "node                                                            \n",
       "0     123.369982 -0.035714     1.806452         112  80.172298  \n",
       "1     105.325899  0.039474     2.375000         152  83.318625  \n",
       "2     143.830470 -0.284672     1.902778         137  93.471872  \n",
       "3     110.432877 -0.019108     2.308824         157  91.519785  \n",
       "4     137.947900 -0.065789     2.140845         152  92.032526  "
      ]
     },
     "execution_count": 84,
     "metadata": {},
     "output_type": "execute_result"
    }
   ],
   "source": [
    "df.head()"
   ]
  },
  {
   "cell_type": "code",
   "execution_count": 94,
   "metadata": {
    "collapsed": false
   },
   "outputs": [
    {
     "name": "stdout",
     "output_type": "stream",
     "text": [
      "(46, 9)\n"
     ]
    },
    {
     "data": {
      "text/html": [
       "<div>\n",
       "<table border=\"1\" class=\"dataframe\">\n",
       "  <thead>\n",
       "    <tr style=\"text-align: right;\">\n",
       "      <th></th>\n",
       "      <th>taxable_value</th>\n",
       "      <th>grocery</th>\n",
       "      <th>restaurant</th>\n",
       "      <th>retail</th>\n",
       "      <th>ncrimes</th>\n",
       "      <th>sgnf</th>\n",
       "      <th>avg_hh_size</th>\n",
       "      <th>population</th>\n",
       "      <th>walkscore</th>\n",
       "    </tr>\n",
       "    <tr>\n",
       "      <th>node</th>\n",
       "      <th></th>\n",
       "      <th></th>\n",
       "      <th></th>\n",
       "      <th></th>\n",
       "      <th></th>\n",
       "      <th></th>\n",
       "      <th></th>\n",
       "      <th></th>\n",
       "      <th></th>\n",
       "    </tr>\n",
       "  </thead>\n",
       "  <tbody>\n",
       "    <tr>\n",
       "      <th>105</th>\n",
       "      <td>0.386480</td>\n",
       "      <td>0.372280</td>\n",
       "      <td>1.930770</td>\n",
       "      <td>0.342729</td>\n",
       "      <td>-0.097387</td>\n",
       "      <td>0.912188</td>\n",
       "      <td>3.176784</td>\n",
       "      <td>-1.080922</td>\n",
       "      <td>0.555957</td>\n",
       "    </tr>\n",
       "    <tr>\n",
       "      <th>107</th>\n",
       "      <td>-1.026109</td>\n",
       "      <td>-1.067780</td>\n",
       "      <td>0.493938</td>\n",
       "      <td>0.004501</td>\n",
       "      <td>-0.236062</td>\n",
       "      <td>-0.115211</td>\n",
       "      <td>0.148029</td>\n",
       "      <td>-0.609768</td>\n",
       "      <td>1.041522</td>\n",
       "    </tr>\n",
       "    <tr>\n",
       "      <th>108</th>\n",
       "      <td>0.238459</td>\n",
       "      <td>-0.946193</td>\n",
       "      <td>1.117123</td>\n",
       "      <td>-0.023996</td>\n",
       "      <td>-0.646480</td>\n",
       "      <td>0.408044</td>\n",
       "      <td>0.177465</td>\n",
       "      <td>0.850808</td>\n",
       "      <td>0.478046</td>\n",
       "    </tr>\n",
       "    <tr>\n",
       "      <th>173</th>\n",
       "      <td>-0.060299</td>\n",
       "      <td>1.195522</td>\n",
       "      <td>0.565683</td>\n",
       "      <td>0.613726</td>\n",
       "      <td>0.183522</td>\n",
       "      <td>-2.025345</td>\n",
       "      <td>-1.741609</td>\n",
       "      <td>-0.766819</td>\n",
       "      <td>-0.111889</td>\n",
       "    </tr>\n",
       "    <tr>\n",
       "      <th>175</th>\n",
       "      <td>-0.713990</td>\n",
       "      <td>-0.079983</td>\n",
       "      <td>1.581435</td>\n",
       "      <td>0.769141</td>\n",
       "      <td>-0.222883</td>\n",
       "      <td>-1.499980</td>\n",
       "      <td>-1.365841</td>\n",
       "      <td>-1.073069</td>\n",
       "      <td>0.942311</td>\n",
       "    </tr>\n",
       "  </tbody>\n",
       "</table>\n",
       "</div>"
      ],
      "text/plain": [
       "      taxable_value   grocery  restaurant    retail   ncrimes      sgnf  \\\n",
       "node                                                                      \n",
       "105        0.386480  0.372280    1.930770  0.342729 -0.097387  0.912188   \n",
       "107       -1.026109 -1.067780    0.493938  0.004501 -0.236062 -0.115211   \n",
       "108        0.238459 -0.946193    1.117123 -0.023996 -0.646480  0.408044   \n",
       "173       -0.060299  1.195522    0.565683  0.613726  0.183522 -2.025345   \n",
       "175       -0.713990 -0.079983    1.581435  0.769141 -0.222883 -1.499980   \n",
       "\n",
       "      avg_hh_size  population  walkscore  \n",
       "node                                      \n",
       "105      3.176784   -1.080922   0.555957  \n",
       "107      0.148029   -0.609768   1.041522  \n",
       "108      0.177465    0.850808   0.478046  \n",
       "173     -1.741609   -0.766819  -0.111889  \n",
       "175     -1.365841   -1.073069   0.942311  "
      ]
     },
     "execution_count": 94,
     "metadata": {},
     "output_type": "execute_result"
    }
   ],
   "source": [
    "\n",
    "fsmall = window(df, testnode.lat - 0.005,\n",
    "                     testnode.lat + 0.005,\n",
    "                     testnode.lon - 0.003,\n",
    "                     testnode.lon + 0.003).iloc[:,2:]\n",
    "\n",
    "ssc = StandardScaler()\n",
    "fsc = ssc.fit_transform(fsmall)\n",
    "fsc = pd.DataFrame(fsc)\n",
    "fsc.columns = fsmall.columns\n",
    "fsc.index = fsmall.index\n",
    "fsc.head()\n",
    "\n",
    "print fsc.shape\n",
    "fsc.head()"
   ]
  },
  {
   "cell_type": "code",
   "execution_count": 100,
   "metadata": {
    "collapsed": false
   },
   "outputs": [
    {
     "data": {
      "text/html": [
       "<div>\n",
       "<table border=\"1\" class=\"dataframe\">\n",
       "  <thead>\n",
       "    <tr style=\"text-align: right;\">\n",
       "      <th></th>\n",
       "      <th>node1</th>\n",
       "      <th>node2</th>\n",
       "      <th>dist</th>\n",
       "      <th>sim</th>\n",
       "    </tr>\n",
       "    <tr>\n",
       "      <th>edge</th>\n",
       "      <th></th>\n",
       "      <th></th>\n",
       "      <th></th>\n",
       "      <th></th>\n",
       "    </tr>\n",
       "  </thead>\n",
       "  <tbody>\n",
       "    <tr>\n",
       "      <th>0</th>\n",
       "      <td>105</td>\n",
       "      <td>6952</td>\n",
       "      <td>0.000631</td>\n",
       "      <td>0.261020</td>\n",
       "    </tr>\n",
       "    <tr>\n",
       "      <th>1</th>\n",
       "      <td>105</td>\n",
       "      <td>173</td>\n",
       "      <td>0.000816</td>\n",
       "      <td>0.166074</td>\n",
       "    </tr>\n",
       "    <tr>\n",
       "      <th>2</th>\n",
       "      <td>105</td>\n",
       "      <td>2164</td>\n",
       "      <td>0.000977</td>\n",
       "      <td>0.209379</td>\n",
       "    </tr>\n",
       "    <tr>\n",
       "      <th>3</th>\n",
       "      <td>105</td>\n",
       "      <td>6500</td>\n",
       "      <td>0.001221</td>\n",
       "      <td>0.197152</td>\n",
       "    </tr>\n",
       "    <tr>\n",
       "      <th>4</th>\n",
       "      <td>107</td>\n",
       "      <td>6659</td>\n",
       "      <td>0.000361</td>\n",
       "      <td>0.416979</td>\n",
       "    </tr>\n",
       "  </tbody>\n",
       "</table>\n",
       "</div>"
      ],
      "text/plain": [
       "      node1  node2      dist       sim\n",
       "edge                                  \n",
       "0       105   6952  0.000631  0.261020\n",
       "1       105    173  0.000816  0.166074\n",
       "2       105   2164  0.000977  0.209379\n",
       "3       105   6500  0.001221  0.197152\n",
       "4       107   6659  0.000361  0.416979"
      ]
     },
     "execution_count": 100,
     "metadata": {},
     "output_type": "execute_result"
    }
   ],
   "source": [
    "edges['sim'] = edges.apply(lambda x: sim_by_node(int(x.node1), int(x.node2), fsc), axis = 1)\n",
    "edges.head()"
   ]
  },
  {
   "cell_type": "code",
   "execution_count": 101,
   "metadata": {
    "collapsed": false
   },
   "outputs": [
    {
     "name": "stdout",
     "output_type": "stream",
     "text": [
      "Name: \n",
      "Type: Graph\n",
      "Number of nodes: 46\n",
      "Number of edges: 100\n",
      "Average degree:   4.3478\n"
     ]
    }
   ],
   "source": [
    "g = nx.from_pandas_dataframe(edges, 'node1', 'node2', edge_attr=True)\n",
    "print nx.info(g)"
   ]
  },
  {
   "cell_type": "code",
   "execution_count": 102,
   "metadata": {
    "collapsed": false
   },
   "outputs": [
    {
     "data": {
      "text/plain": [
       "{107.0: {'dist': 0.00096475854492060519, 'sim': 0.37076381646029966},\n",
       " 273.0: {'dist': 0.0015800087341496581, 'sim': 0.2190330086886853},\n",
       " 2617.0: {'dist': 0.00098528400473510587, 'sim': 0.21587950785790175},\n",
       " 6417.0: {'dist': 0.00072914091917137039, 'sim': 0.35214628567473039},\n",
       " 6659.0: {'dist': 0.0012347783687772463, 'sim': 0.34651658088449905},\n",
       " 6662.0: {'dist': 0.0012445312089321215, 'sim': 0.31448460311530818}}"
      ]
     },
     "execution_count": 102,
     "metadata": {},
     "output_type": "execute_result"
    }
   ],
   "source": [
    "g[tn]"
   ]
  },
  {
   "cell_type": "code",
   "execution_count": 104,
   "metadata": {
    "collapsed": false
   },
   "outputs": [
    {
     "data": {
      "text/plain": [
       "{(105.0, 2164.0): 0.011800817539947975,\n",
       " (173.0, 105.0): 0.018163375864442097,\n",
       " (173.0, 2164.0): 0.008913046870820554,\n",
       " (173.0, 6952.0): 0.02102663684605781,\n",
       " (175.0, 107.0): 0.01735782414043284,\n",
       " (175.0, 273.0): 0.05937738545512184,\n",
       " (175.0, 2617.0): 0.05242940794616658,\n",
       " (273.0, 1393.0): 0.05423255451825999,\n",
       " (273.0, 6418.0): 0.11924148129737046,\n",
       " (274.0, 2001.0): 0.014657937785957104,\n",
       " (274.0, 6418.0): 0.0472913398606067,\n",
       " (1340.0, 1393.0): 0.049043374164808105,\n",
       " (1340.0, 6418.0): 0.039815925800274724,\n",
       " (1973.0, 1975.0): 0.010390267133211449,\n",
       " (1973.0, 2379.0): 0.01749649706171446,\n",
       " (1973.0, 2614.0): 0.05978322995328424,\n",
       " (1973.0, 6763.0): 0.009835274131949323,\n",
       " (1975.0, 4062.0): 0.01783367436304126,\n",
       " (1975.0, 5288.0): 0.004866917696818535,\n",
       " (2001.0, 7138.0): 0.03311254946520647,\n",
       " (2379.0, 4062.0): 0.02356630487065269,\n",
       " (2379.0, 6763.0): 0.0032206119162640897,\n",
       " (2613.0, 6338.0): 0.042307147664889855,\n",
       " (2614.0, 2613.0): 0.053448337209588165,\n",
       " (2614.0, 2617.0): 0.11317286383069027,\n",
       " (2614.0, 4062.0): 0.05316717290244458,\n",
       " (2614.0, 5288.0): 0.03800037264979052,\n",
       " (2614.0, 6415.0): 0.05174518343094439,\n",
       " (2616.0, 5564.0): 0.05636675482327657,\n",
       " (2616.0, 7137.0): 0.011229424359859139,\n",
       " (2617.0, 273.0): 0.10915604090839023,\n",
       " (3015.0, 5738.0): 0.040557245844812594,\n",
       " (4061.0, 105.0): 0.02264367974083962,\n",
       " (4061.0, 2164.0): 0.03403332433892412,\n",
       " (4061.0, 6500.0): 0.008438118242466068,\n",
       " (4062.0, 6763.0): 0.014689771486446677,\n",
       " (5288.0, 6763.0): 0.0227213311931982,\n",
       " (5564.0, 5738.0): 0.03601618304288023,\n",
       " (6315.0, 2616.0): 0.027282517536140725,\n",
       " (6315.0, 7137.0): 0.016195743333424488,\n",
       " (6338.0, 3015.0): 0.02428108815217892,\n",
       " (6338.0, 4061.0): 0.028608937845779954,\n",
       " (6416.0, 274.0): 0.01755921789418522,\n",
       " (6416.0, 1340.0): 0.030356350166310383,\n",
       " (6417.0, 107.0): 0.008027636614593136,\n",
       " (6417.0, 108.0): 0.052066493509913436,\n",
       " (6417.0, 175.0): 0.04823705344478909,\n",
       " (6417.0, 4061.0): 0.06560470592279738,\n",
       " (6500.0, 105.0): 0.012219821310294702,\n",
       " (6656.0, 105.0): 0.03651155041628773,\n",
       " (6656.0, 2613.0): 0.025631874467877517,\n",
       " (6656.0, 3015.0): 0.06970047040565729,\n",
       " (6656.0, 6415.0): 0.03662981104552423,\n",
       " (6656.0, 6500.0): 0.011900945270510489,\n",
       " (6656.0, 6659.0): 0.05083703719160536,\n",
       " (6656.0, 6952.0): 0.030979397037160784,\n",
       " (6658.0, 3015.0): 0.043150380483713814,\n",
       " (6658.0, 5564.0): 0.0328147010770962,\n",
       " (6658.0, 5738.0): 0.0017713365539452496,\n",
       " (6658.0, 6956.0): 0.01152464215164444,\n",
       " (6659.0, 107.0): 0.01585142313403183,\n",
       " (6659.0, 175.0): 0.06154557195052581,\n",
       " (6659.0, 2613.0): 0.03995612546337184,\n",
       " (6659.0, 2617.0): 0.07006208250796732,\n",
       " (6659.0, 6338.0): 0.020311815709222268,\n",
       " (6659.0, 6500.0): 0.03613219557049504,\n",
       " (6659.0, 6661.0): 0.049017116214293964,\n",
       " (6660.0, 2616.0): 0.01016451074422089,\n",
       " (6660.0, 5564.0): 0.020886359649898933,\n",
       " (6660.0, 6956.0): 0.04625783986615412,\n",
       " (6660.0, 6957.0): 0.021339218836930508,\n",
       " (6660.0, 7137.0): 0.027318123636964214,\n",
       " (6661.0, 107.0): 0.01194489568402612,\n",
       " (6661.0, 3015.0): 0.019635897777392823,\n",
       " (6661.0, 6338.0): 0.024064992794588524,\n",
       " (6661.0, 6417.0): 0.01937484611893461,\n",
       " (6661.0, 6956.0): 0.06899338921383161,\n",
       " (6662.0, 108.0): 0.027258878833900147,\n",
       " (6662.0, 175.0): 0.07411622838788899,\n",
       " (6662.0, 273.0): 0.06133991737428718,\n",
       " (6662.0, 5564.0): 0.08490318014612445,\n",
       " (6662.0, 7138.0): 0.06194965182902097,\n",
       " (6765.0, 1393.0): 0.054998295133525554,\n",
       " (6765.0, 1975.0): 0.04120865771514132,\n",
       " (6765.0, 2617.0): 0.06108899677324338,\n",
       " (6765.0, 5288.0): 0.031587964590346074,\n",
       " (6952.0, 105.0): 0.011675178283873936,\n",
       " (6952.0, 6415.0): 0.02974174176426855,\n",
       " (6953.0, 2613.0): 0.03704477066567074,\n",
       " (6953.0, 4062.0): 0.029331595531061582,\n",
       " (6953.0, 6415.0): 0.01621597140323303,\n",
       " (6956.0, 108.0): 0.02103178338456752,\n",
       " (6956.0, 5564.0): 0.01556827230740274,\n",
       " (6957.0, 108.0): 0.04174568168670112,\n",
       " (6957.0, 6958.0): 0.025030152995626158,\n",
       " (6957.0, 7138.0): 0.020396251233847137,\n",
       " (6958.0, 2001.0): 0.01571319045956727,\n",
       " (6958.0, 6418.0): 0.05792294780146442,\n",
       " (6958.0, 7137.0): 0.04208421556972283,\n",
       " (7138.0, 6418.0): 0.025482306406716747}"
      ]
     },
     "execution_count": 104,
     "metadata": {},
     "output_type": "execute_result"
    }
   ],
   "source": [
    "nx.edge_betweenness_centrality(g)"
   ]
  }
 ],
 "metadata": {
  "kernelspec": {
   "display_name": "Python 2",
   "language": "python",
   "name": "python2"
  },
  "language_info": {
   "codemirror_mode": {
    "name": "ipython",
    "version": 2
   },
   "file_extension": ".py",
   "mimetype": "text/x-python",
   "name": "python",
   "nbconvert_exporter": "python",
   "pygments_lexer": "ipython2",
   "version": "2.7.10"
  }
 },
 "nbformat": 4,
 "nbformat_minor": 0
}
