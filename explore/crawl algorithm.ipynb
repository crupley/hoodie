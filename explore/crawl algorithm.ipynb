{
 "cells": [
  {
   "cell_type": "code",
   "execution_count": 1,
   "metadata": {
    "collapsed": false
   },
   "outputs": [
    {
     "name": "stdout",
     "output_type": "stream",
     "text": [
      "/Users/crupley/gal/hoodie\n"
     ]
    }
   ],
   "source": [
    "%cd .."
   ]
  },
  {
   "cell_type": "code",
   "execution_count": 95,
   "metadata": {
    "collapsed": false
   },
   "outputs": [],
   "source": [
    "%matplotlib inline\n",
    "\n",
    "import numpy as np\n",
    "import pandas as pd\n",
    "import matplotlib.pyplot as plt\n",
    "import cPickle as pickle\n",
    "import networkx as nx\n",
    "\n",
    "import code.featurize as fe\n",
    "import code.graph as gr\n",
    "\n",
    "plt.rcParams['figure.figsize'] = 16, 10"
   ]
  },
  {
   "cell_type": "code",
   "execution_count": 4,
   "metadata": {
    "collapsed": true
   },
   "outputs": [],
   "source": [
    "f = pickle.load(open('features.pkl', 'rb'))\n",
    "df = f.fsmooth\n",
    "edges = pickle.load(open('edges.pkl', 'rb'))"
   ]
  },
  {
   "cell_type": "code",
   "execution_count": 6,
   "metadata": {
    "collapsed": false
   },
   "outputs": [
    {
     "name": "stdout",
     "output_type": "stream",
     "text": [
      "Name: \n",
      "Type: Graph\n",
      "Number of nodes: 7325\n",
      "Number of edges: 23555\n",
      "Average degree:   6.4314\n",
      "Number of clusters: 5\n",
      "Largest cluster: 7295\n"
     ]
    }
   ],
   "source": [
    "g = nx.from_pandas_dataframe(edges, source='node1', target='node2')\n",
    "gr.graph_info(g)"
   ]
  },
  {
   "cell_type": "code",
   "execution_count": 8,
   "metadata": {
    "collapsed": false
   },
   "outputs": [
    {
     "name": "stdout",
     "output_type": "stream",
     "text": [
      "<class 'pandas.core.frame.DataFrame'>\n",
      "Int64Index: 7334 entries, 0 to 7333\n",
      "Data columns (total 11 columns):\n",
      "lat              7334 non-null float64\n",
      "lon              7334 non-null float64\n",
      "taxable_value    7334 non-null float64\n",
      "grocery          7334 non-null float64\n",
      "restaurant       7334 non-null float64\n",
      "retail           7334 non-null float64\n",
      "ncrimes          7334 non-null float64\n",
      "sgnf             7334 non-null float64\n",
      "avg_hh_size      7334 non-null float64\n",
      "population       7334 non-null float64\n",
      "walkscore        7334 non-null float64\n",
      "dtypes: float64(11)\n",
      "memory usage: 687.6 KB\n"
     ]
    }
   ],
   "source": [
    "df.info()"
   ]
  },
  {
   "cell_type": "markdown",
   "metadata": {},
   "source": [
    "# smaller subset"
   ]
  },
  {
   "cell_type": "code",
   "execution_count": 10,
   "metadata": {
    "collapsed": false
   },
   "outputs": [
    {
     "name": "stdout",
     "output_type": "stream",
     "text": [
      "(917, 11)\n"
     ]
    },
    {
     "data": {
      "text/html": [
       "<div>\n",
       "<table border=\"1\" class=\"dataframe\">\n",
       "  <thead>\n",
       "    <tr style=\"text-align: right;\">\n",
       "      <th></th>\n",
       "      <th>lat</th>\n",
       "      <th>lon</th>\n",
       "      <th>taxable_value</th>\n",
       "      <th>grocery</th>\n",
       "      <th>restaurant</th>\n",
       "      <th>retail</th>\n",
       "      <th>ncrimes</th>\n",
       "      <th>sgnf</th>\n",
       "      <th>avg_hh_size</th>\n",
       "      <th>population</th>\n",
       "      <th>walkscore</th>\n",
       "    </tr>\n",
       "  </thead>\n",
       "  <tbody>\n",
       "    <tr>\n",
       "      <th>37</th>\n",
       "      <td>37.783777</td>\n",
       "      <td>-122.410027</td>\n",
       "      <td>1.056590</td>\n",
       "      <td>2.439579</td>\n",
       "      <td>2.368462</td>\n",
       "      <td>3.064399</td>\n",
       "      <td>8.736206</td>\n",
       "      <td>-0.317279</td>\n",
       "      <td>-0.838835</td>\n",
       "      <td>2.675795</td>\n",
       "      <td>1.004704</td>\n",
       "    </tr>\n",
       "    <tr>\n",
       "      <th>39</th>\n",
       "      <td>37.791720</td>\n",
       "      <td>-122.407853</td>\n",
       "      <td>1.080657</td>\n",
       "      <td>2.908979</td>\n",
       "      <td>1.299537</td>\n",
       "      <td>4.742132</td>\n",
       "      <td>1.882118</td>\n",
       "      <td>0.895598</td>\n",
       "      <td>-0.405471</td>\n",
       "      <td>1.780197</td>\n",
       "      <td>1.002301</td>\n",
       "    </tr>\n",
       "    <tr>\n",
       "      <th>54</th>\n",
       "      <td>37.780350</td>\n",
       "      <td>-122.392376</td>\n",
       "      <td>-0.343607</td>\n",
       "      <td>0.172258</td>\n",
       "      <td>0.800260</td>\n",
       "      <td>0.272760</td>\n",
       "      <td>0.086415</td>\n",
       "      <td>0.246032</td>\n",
       "      <td>-0.962838</td>\n",
       "      <td>-0.204230</td>\n",
       "      <td>0.578977</td>\n",
       "    </tr>\n",
       "    <tr>\n",
       "      <th>78</th>\n",
       "      <td>37.794221</td>\n",
       "      <td>-122.410217</td>\n",
       "      <td>0.517677</td>\n",
       "      <td>3.095271</td>\n",
       "      <td>-0.103176</td>\n",
       "      <td>2.873777</td>\n",
       "      <td>0.645622</td>\n",
       "      <td>1.073511</td>\n",
       "      <td>0.189218</td>\n",
       "      <td>2.243028</td>\n",
       "      <td>1.007293</td>\n",
       "    </tr>\n",
       "    <tr>\n",
       "      <th>79</th>\n",
       "      <td>37.799018</td>\n",
       "      <td>-122.424076</td>\n",
       "      <td>0.622622</td>\n",
       "      <td>0.162230</td>\n",
       "      <td>0.195028</td>\n",
       "      <td>0.472734</td>\n",
       "      <td>-0.051851</td>\n",
       "      <td>0.615914</td>\n",
       "      <td>-0.417202</td>\n",
       "      <td>1.357245</td>\n",
       "      <td>0.936546</td>\n",
       "    </tr>\n",
       "  </tbody>\n",
       "</table>\n",
       "</div>"
      ],
      "text/plain": [
       "          lat         lon  taxable_value   grocery  restaurant    retail  \\\n",
       "37  37.783777 -122.410027       1.056590  2.439579    2.368462  3.064399   \n",
       "39  37.791720 -122.407853       1.080657  2.908979    1.299537  4.742132   \n",
       "54  37.780350 -122.392376      -0.343607  0.172258    0.800260  0.272760   \n",
       "78  37.794221 -122.410217       0.517677  3.095271   -0.103176  2.873777   \n",
       "79  37.799018 -122.424076       0.622622  0.162230    0.195028  0.472734   \n",
       "\n",
       "     ncrimes      sgnf  avg_hh_size  population  walkscore  \n",
       "37  8.736206 -0.317279    -0.838835    2.675795   1.004704  \n",
       "39  1.882118  0.895598    -0.405471    1.780197   1.002301  \n",
       "54  0.086415  0.246032    -0.962838   -0.204230   0.578977  \n",
       "78  0.645622  1.073511     0.189218    2.243028   1.007293  \n",
       "79 -0.051851  0.615914    -0.417202    1.357245   0.936546  "
      ]
     },
     "execution_count": 10,
     "metadata": {},
     "output_type": "execute_result"
    }
   ],
   "source": [
    "dfsm = fe.window(df, 37.78, 37.82, -122.43, -122.37)\n",
    "print dfsm.shape\n",
    "dfsm.head()"
   ]
  },
  {
   "cell_type": "code",
   "execution_count": 11,
   "metadata": {
    "collapsed": false
   },
   "outputs": [
    {
     "name": "stdout",
     "output_type": "stream",
     "text": [
      "CPU times: user 1min 35s, sys: 519 ms, total: 1min 35s\n",
      "Wall time: 1min 36s\n"
     ]
    }
   ],
   "source": [
    "%time edsm = gr.make_edges(dfsm)"
   ]
  },
  {
   "cell_type": "code",
   "execution_count": 12,
   "metadata": {
    "collapsed": false
   },
   "outputs": [
    {
     "name": "stdout",
     "output_type": "stream",
     "text": [
      "Name: \n",
      "Type: Graph\n",
      "Number of nodes: 914\n",
      "Number of edges: 2120\n",
      "Average degree:   4.6389\n",
      "Number of clusters: 1\n",
      "Largest cluster: 914\n"
     ]
    }
   ],
   "source": [
    "g = gr.make_graph(edsm, edge_attr=None)\n",
    "gr.graph_info(g)"
   ]
  },
  {
   "cell_type": "code",
   "execution_count": 26,
   "metadata": {
    "collapsed": false
   },
   "outputs": [],
   "source": [
    "knum = 2\n",
    "dfsm['group'] = -1\n",
    "\n",
    "# initialize nodes\n",
    "nodes = np.random.choice(dfsm.index, size=knum, replace=False)\n",
    "for gr, node in enumerate(nodes):\n",
    "    dfsm.group.loc[node] = gr"
   ]
  },
  {
   "cell_type": "code",
   "execution_count": 27,
   "metadata": {
    "collapsed": false
   },
   "outputs": [
    {
     "data": {
      "text/plain": [
       "6741    1\n",
       "7203    0\n",
       "Name: group, dtype: int64"
      ]
     },
     "execution_count": 27,
     "metadata": {},
     "output_type": "execute_result"
    }
   ],
   "source": [
    "dfsm.group[dfsm.group != -1]"
   ]
  },
  {
   "cell_type": "code",
   "execution_count": 24,
   "metadata": {
    "collapsed": false
   },
   "outputs": [
    {
     "data": {
      "text/plain": [
       "array([3277, 5389])"
      ]
     },
     "execution_count": 24,
     "metadata": {},
     "output_type": "execute_result"
    }
   ],
   "source": [
    "nodes"
   ]
  },
  {
   "cell_type": "code",
   "execution_count": 77,
   "metadata": {
    "collapsed": false
   },
   "outputs": [
    {
     "data": {
      "text/html": [
       "<div>\n",
       "<table border=\"1\" class=\"dataframe\">\n",
       "  <thead>\n",
       "    <tr style=\"text-align: right;\">\n",
       "      <th></th>\n",
       "      <th>lat</th>\n",
       "      <th>lon</th>\n",
       "      <th>taxable_value</th>\n",
       "      <th>grocery</th>\n",
       "      <th>restaurant</th>\n",
       "      <th>retail</th>\n",
       "      <th>ncrimes</th>\n",
       "      <th>sgnf</th>\n",
       "      <th>avg_hh_size</th>\n",
       "      <th>population</th>\n",
       "      <th>walkscore</th>\n",
       "    </tr>\n",
       "    <tr>\n",
       "      <th>group</th>\n",
       "      <th></th>\n",
       "      <th></th>\n",
       "      <th></th>\n",
       "      <th></th>\n",
       "      <th></th>\n",
       "      <th></th>\n",
       "      <th></th>\n",
       "      <th></th>\n",
       "      <th></th>\n",
       "      <th></th>\n",
       "      <th></th>\n",
       "    </tr>\n",
       "  </thead>\n",
       "  <tbody>\n",
       "    <tr>\n",
       "      <th>-1</th>\n",
       "      <td>37.793220</td>\n",
       "      <td>-122.410621</td>\n",
       "      <td>0.759770</td>\n",
       "      <td>1.575989</td>\n",
       "      <td>1.466673</td>\n",
       "      <td>1.862556</td>\n",
       "      <td>1.312597</td>\n",
       "      <td>-0.027142</td>\n",
       "      <td>-0.773548</td>\n",
       "      <td>1.039080</td>\n",
       "      <td>0.830316</td>\n",
       "    </tr>\n",
       "    <tr>\n",
       "      <th>0</th>\n",
       "      <td>37.788832</td>\n",
       "      <td>-122.421129</td>\n",
       "      <td>1.074065</td>\n",
       "      <td>1.124708</td>\n",
       "      <td>2.195885</td>\n",
       "      <td>1.144726</td>\n",
       "      <td>1.792758</td>\n",
       "      <td>-0.035453</td>\n",
       "      <td>-0.532428</td>\n",
       "      <td>2.843216</td>\n",
       "      <td>0.986025</td>\n",
       "    </tr>\n",
       "    <tr>\n",
       "      <th>1</th>\n",
       "      <td>37.788123</td>\n",
       "      <td>-122.389433</td>\n",
       "      <td>-1.203267</td>\n",
       "      <td>0.037864</td>\n",
       "      <td>0.057661</td>\n",
       "      <td>0.187186</td>\n",
       "      <td>-0.008514</td>\n",
       "      <td>-0.495874</td>\n",
       "      <td>-1.628805</td>\n",
       "      <td>-0.624841</td>\n",
       "      <td>0.108339</td>\n",
       "    </tr>\n",
       "  </tbody>\n",
       "</table>\n",
       "</div>"
      ],
      "text/plain": [
       "             lat         lon  taxable_value   grocery  restaurant    retail  \\\n",
       "group                                                                         \n",
       "-1     37.793220 -122.410621       0.759770  1.575989    1.466673  1.862556   \n",
       " 0     37.788832 -122.421129       1.074065  1.124708    2.195885  1.144726   \n",
       " 1     37.788123 -122.389433      -1.203267  0.037864    0.057661  0.187186   \n",
       "\n",
       "        ncrimes      sgnf  avg_hh_size  population  walkscore  \n",
       "group                                                          \n",
       "-1     1.312597 -0.027142    -0.773548    1.039080   0.830316  \n",
       " 0     1.792758 -0.035453    -0.532428    2.843216   0.986025  \n",
       " 1    -0.008514 -0.495874    -1.628805   -0.624841   0.108339  "
      ]
     },
     "execution_count": 77,
     "metadata": {},
     "output_type": "execute_result"
    }
   ],
   "source": [
    "groupavg = dfsm.groupby('group').mean()\n",
    "groupavg"
   ]
  },
  {
   "cell_type": "code",
   "execution_count": 82,
   "metadata": {
    "collapsed": false
   },
   "outputs": [
    {
     "data": {
      "text/html": [
       "<div>\n",
       "<table border=\"1\" class=\"dataframe\">\n",
       "  <thead>\n",
       "    <tr style=\"text-align: right;\">\n",
       "      <th></th>\n",
       "      <th>group</th>\n",
       "      <th>node</th>\n",
       "    </tr>\n",
       "  </thead>\n",
       "  <tbody>\n",
       "    <tr>\n",
       "      <th>0</th>\n",
       "      <td>0</td>\n",
       "      <td>1320</td>\n",
       "    </tr>\n",
       "    <tr>\n",
       "      <th>1</th>\n",
       "      <td>0</td>\n",
       "      <td>1857</td>\n",
       "    </tr>\n",
       "    <tr>\n",
       "      <th>2</th>\n",
       "      <td>0</td>\n",
       "      <td>7307</td>\n",
       "    </tr>\n",
       "    <tr>\n",
       "      <th>3</th>\n",
       "      <td>0</td>\n",
       "      <td>6797</td>\n",
       "    </tr>\n",
       "    <tr>\n",
       "      <th>4</th>\n",
       "      <td>0</td>\n",
       "      <td>3431</td>\n",
       "    </tr>\n",
       "    <tr>\n",
       "      <th>5</th>\n",
       "      <td>1</td>\n",
       "      <td>2986</td>\n",
       "    </tr>\n",
       "    <tr>\n",
       "      <th>6</th>\n",
       "      <td>1</td>\n",
       "      <td>5939</td>\n",
       "    </tr>\n",
       "    <tr>\n",
       "      <th>7</th>\n",
       "      <td>1</td>\n",
       "      <td>5940</td>\n",
       "    </tr>\n",
       "    <tr>\n",
       "      <th>8</th>\n",
       "      <td>1</td>\n",
       "      <td>142</td>\n",
       "    </tr>\n",
       "  </tbody>\n",
       "</table>\n",
       "</div>"
      ],
      "text/plain": [
       "   group  node\n",
       "0      0  1320\n",
       "1      0  1857\n",
       "2      0  7307\n",
       "3      0  6797\n",
       "4      0  3431\n",
       "5      1  2986\n",
       "6      1  5939\n",
       "7      1  5940\n",
       "8      1   142"
      ]
     },
     "execution_count": 82,
     "metadata": {},
     "output_type": "execute_result"
    }
   ],
   "source": [
    "# build distance sets\n",
    "dist = pd.DataFrame(columns=['group', 'node'])\n",
    "\n",
    "for k in xrange(knum):\n",
    "    groupnodes = set(dfsm[dfsm.group == k].index)\n",
    "    neibnodes = set()\n",
    "    for node in groupnodes:\n",
    "        neibnodes = neibnodes.union(set(nx.all_neighbors(g, node)))\n",
    "    # remove group nodes from list\n",
    "    neibnodes = neibnodes.difference(groupnodes)\n",
    "    newrows = pd.DataFrame({'group': k * np.ones(len(neibnodes)),\n",
    "                            'node': list(neibnodes)})\n",
    "    dist = dist.append(newrows, ignore_index=True).astype('int')\n",
    "dist"
   ]
  },
  {
   "cell_type": "code",
   "execution_count": 78,
   "metadata": {
    "collapsed": false
   },
   "outputs": [
    {
     "data": {
      "text/plain": [
       "0.94546248258678189"
      ]
     },
     "execution_count": 78,
     "metadata": {},
     "output_type": "execute_result"
    }
   ],
   "source": [
    "def calc_dist(row):\n",
    "    return fe.sim(groupavg.ix[row.group][2:], dfsm.ix[row.node][2:-1])\n",
    "\n",
    "row = dist.ix[0]\n",
    "calc_dist(row)"
   ]
  },
  {
   "cell_type": "code",
   "execution_count": 83,
   "metadata": {
    "collapsed": false
   },
   "outputs": [
    {
     "data": {
      "text/html": [
       "<div>\n",
       "<table border=\"1\" class=\"dataframe\">\n",
       "  <thead>\n",
       "    <tr style=\"text-align: right;\">\n",
       "      <th></th>\n",
       "      <th>group</th>\n",
       "      <th>node</th>\n",
       "      <th>dist</th>\n",
       "    </tr>\n",
       "  </thead>\n",
       "  <tbody>\n",
       "    <tr>\n",
       "      <th>0</th>\n",
       "      <td>0</td>\n",
       "      <td>1320</td>\n",
       "      <td>0.945462</td>\n",
       "    </tr>\n",
       "    <tr>\n",
       "      <th>1</th>\n",
       "      <td>0</td>\n",
       "      <td>1857</td>\n",
       "      <td>0.232202</td>\n",
       "    </tr>\n",
       "    <tr>\n",
       "      <th>2</th>\n",
       "      <td>0</td>\n",
       "      <td>7307</td>\n",
       "      <td>1.327948</td>\n",
       "    </tr>\n",
       "    <tr>\n",
       "      <th>3</th>\n",
       "      <td>0</td>\n",
       "      <td>6797</td>\n",
       "      <td>1.008243</td>\n",
       "    </tr>\n",
       "    <tr>\n",
       "      <th>4</th>\n",
       "      <td>0</td>\n",
       "      <td>3431</td>\n",
       "      <td>0.242494</td>\n",
       "    </tr>\n",
       "  </tbody>\n",
       "</table>\n",
       "</div>"
      ],
      "text/plain": [
       "   group  node      dist\n",
       "0      0  1320  0.945462\n",
       "1      0  1857  0.232202\n",
       "2      0  7307  1.327948\n",
       "3      0  6797  1.008243\n",
       "4      0  3431  0.242494"
      ]
     },
     "execution_count": 83,
     "metadata": {},
     "output_type": "execute_result"
    }
   ],
   "source": [
    "dist['dist'] = dist.apply(calc_dist, axis=1)\n",
    "dist.head()"
   ]
  },
  {
   "cell_type": "code",
   "execution_count": 86,
   "metadata": {
    "collapsed": false
   },
   "outputs": [
    {
     "data": {
      "text/html": [
       "<div>\n",
       "<table border=\"1\" class=\"dataframe\">\n",
       "  <thead>\n",
       "    <tr style=\"text-align: right;\">\n",
       "      <th></th>\n",
       "      <th>group</th>\n",
       "      <th>node</th>\n",
       "      <th>dist</th>\n",
       "    </tr>\n",
       "  </thead>\n",
       "  <tbody>\n",
       "    <tr>\n",
       "      <th>1</th>\n",
       "      <td>0</td>\n",
       "      <td>1857</td>\n",
       "      <td>0.232202</td>\n",
       "    </tr>\n",
       "    <tr>\n",
       "      <th>4</th>\n",
       "      <td>0</td>\n",
       "      <td>3431</td>\n",
       "      <td>0.242494</td>\n",
       "    </tr>\n",
       "    <tr>\n",
       "      <th>7</th>\n",
       "      <td>1</td>\n",
       "      <td>5940</td>\n",
       "      <td>0.557786</td>\n",
       "    </tr>\n",
       "    <tr>\n",
       "      <th>8</th>\n",
       "      <td>1</td>\n",
       "      <td>142</td>\n",
       "      <td>0.665067</td>\n",
       "    </tr>\n",
       "    <tr>\n",
       "      <th>6</th>\n",
       "      <td>1</td>\n",
       "      <td>5939</td>\n",
       "      <td>0.850988</td>\n",
       "    </tr>\n",
       "    <tr>\n",
       "      <th>5</th>\n",
       "      <td>1</td>\n",
       "      <td>2986</td>\n",
       "      <td>0.909096</td>\n",
       "    </tr>\n",
       "    <tr>\n",
       "      <th>0</th>\n",
       "      <td>0</td>\n",
       "      <td>1320</td>\n",
       "      <td>0.945462</td>\n",
       "    </tr>\n",
       "    <tr>\n",
       "      <th>3</th>\n",
       "      <td>0</td>\n",
       "      <td>6797</td>\n",
       "      <td>1.008243</td>\n",
       "    </tr>\n",
       "    <tr>\n",
       "      <th>2</th>\n",
       "      <td>0</td>\n",
       "      <td>7307</td>\n",
       "      <td>1.327948</td>\n",
       "    </tr>\n",
       "  </tbody>\n",
       "</table>\n",
       "</div>"
      ],
      "text/plain": [
       "   group  node      dist\n",
       "1      0  1857  0.232202\n",
       "4      0  3431  0.242494\n",
       "7      1  5940  0.557786\n",
       "8      1   142  0.665067\n",
       "6      1  5939  0.850988\n",
       "5      1  2986  0.909096\n",
       "0      0  1320  0.945462\n",
       "3      0  6797  1.008243\n",
       "2      0  7307  1.327948"
      ]
     },
     "execution_count": 86,
     "metadata": {},
     "output_type": "execute_result"
    }
   ],
   "source": [
    "dist.sort_values('dist')"
   ]
  },
  {
   "cell_type": "code",
   "execution_count": 88,
   "metadata": {
    "collapsed": false
   },
   "outputs": [
    {
     "data": {
      "text/plain": [
       "group       0.000000\n",
       "node     1857.000000\n",
       "dist        0.232202\n",
       "Name: 1, dtype: float64"
      ]
     },
     "execution_count": 88,
     "metadata": {},
     "output_type": "execute_result"
    }
   ],
   "source": [
    "dist.sort_values('dist').iloc[0]"
   ]
  },
  {
   "cell_type": "code",
   "execution_count": 90,
   "metadata": {
    "collapsed": false
   },
   "outputs": [
    {
     "data": {
      "text/plain": [
       "1857    0\n",
       "6741    1\n",
       "7203    0\n",
       "Name: group, dtype: float64"
      ]
     },
     "execution_count": 90,
     "metadata": {},
     "output_type": "execute_result"
    }
   ],
   "source": [
    "# assign nearest node to group\n",
    "bestmatch = dist.sort_values('dist').iloc[0]\n",
    "dfsm.group.loc[dfsm.index == bestmatch.node] = bestmatch.group\n",
    "dfsm.group[dfsm.group != -1]"
   ]
  },
  {
   "cell_type": "code",
   "execution_count": 154,
   "metadata": {
    "collapsed": true
   },
   "outputs": [],
   "source": [
    "\n",
    "knum = 4\n",
    "nodes = np.random.choice(dfsm.index, size=knum, replace=False)\n"
   ]
  },
  {
   "cell_type": "code",
   "execution_count": 171,
   "metadata": {
    "collapsed": false
   },
   "outputs": [
    {
     "name": "stdout",
     "output_type": "stream",
     "text": [
      "CPU times: user 1min 9s, sys: 220 ms, total: 1min 9s\n",
      "Wall time: 1min 9s\n"
     ]
    }
   ],
   "source": [
    "%%time\n",
    "dfsm['group'] = -1\n",
    "\n",
    "# initialize nodes\n",
    "for gr, node in enumerate(nodes):\n",
    "    dfsm.group.loc[node] = gr\n",
    "\n",
    "    \n",
    "for i in xrange(1000):\n",
    "    groupavg = dfsm.groupby('group').mean()\n",
    "    groupednodes = set(dfsm.index[dfsm.group != -1].astype('int'))\n",
    "\n",
    "    # build distance sets\n",
    "    dist = pd.DataFrame(columns=['group', 'node'])\n",
    "\n",
    "    for k in xrange(knum):\n",
    "        nodegroup = set(dfsm[dfsm.group == k].index)\n",
    "        neibnodes = set()\n",
    "        for node in nodegroup:\n",
    "            neibnodes = neibnodes.union(set(nx.all_neighbors(g, node)))\n",
    "        # remove group nodes from list\n",
    "        neibnodes = neibnodes.difference(groupednodes)\n",
    "        newrows = pd.DataFrame({'group': k * np.ones(len(neibnodes)),\n",
    "                                'node': list(neibnodes)})\n",
    "        dist = dist.append(newrows, ignore_index=True).astype('int')\n",
    "\n",
    "    if dist.shape[0] == 0: break\n",
    "    dist['dist'] = dist.apply(calc_dist, axis=1)\n",
    "\n",
    "    # assign nearest node to group\n",
    "    bestmatch = dist.sort_values('dist').iloc[0]\n",
    "    dfsm.group.loc[dfsm.index == bestmatch.node] = bestmatch.group"
   ]
  },
  {
   "cell_type": "code",
   "execution_count": 167,
   "metadata": {
    "collapsed": false
   },
   "outputs": [
    {
     "data": {
      "image/png": "[encoded data removed]",
      "text/plain": [
       "<matplotlib.figure.Figure at 0x10a8e3fd0>"
      ]
     },
     "metadata": {},
     "output_type": "display_data"
    }
   ],
   "source": [
    "dfsm.plot(kind='scatter', x='lon', y='lat', c='group', cmap='jet', linewidths=0, s=50)\n",
    "plt.margins(0)\n",
    "plt.axis('off');"
   ]
  },
  {
   "cell_type": "code",
   "execution_count": 158,
   "metadata": {
    "collapsed": false
   },
   "outputs": [
    {
     "data": {
      "text/html": [
       "<div>\n",
       "<table border=\"1\" class=\"dataframe\">\n",
       "  <thead>\n",
       "    <tr style=\"text-align: right;\">\n",
       "      <th></th>\n",
       "      <th>group</th>\n",
       "      <th>node</th>\n",
       "      <th>dist</th>\n",
       "    </tr>\n",
       "  </thead>\n",
       "  <tbody>\n",
       "    <tr>\n",
       "      <th>45</th>\n",
       "      <td>0</td>\n",
       "      <td>3043</td>\n",
       "      <td>1.127332</td>\n",
       "    </tr>\n",
       "    <tr>\n",
       "      <th>59</th>\n",
       "      <td>2</td>\n",
       "      <td>5911</td>\n",
       "      <td>1.129679</td>\n",
       "    </tr>\n",
       "    <tr>\n",
       "      <th>73</th>\n",
       "      <td>2</td>\n",
       "      <td>1986</td>\n",
       "      <td>1.130098</td>\n",
       "    </tr>\n",
       "    <tr>\n",
       "      <th>15</th>\n",
       "      <td>0</td>\n",
       "      <td>5803</td>\n",
       "      <td>1.138665</td>\n",
       "    </tr>\n",
       "    <tr>\n",
       "      <th>78</th>\n",
       "      <td>2</td>\n",
       "      <td>1361</td>\n",
       "      <td>1.140619</td>\n",
       "    </tr>\n",
       "  </tbody>\n",
       "</table>\n",
       "</div>"
      ],
      "text/plain": [
       "    group  node      dist\n",
       "45      0  3043  1.127332\n",
       "59      2  5911  1.129679\n",
       "73      2  1986  1.130098\n",
       "15      0  5803  1.138665\n",
       "78      2  1361  1.140619"
      ]
     },
     "execution_count": 158,
     "metadata": {},
     "output_type": "execute_result"
    }
   ],
   "source": [
    "dist.sort_values('dist').head()"
   ]
  },
  {
   "cell_type": "code",
   "execution_count": 161,
   "metadata": {
    "collapsed": false
   },
   "outputs": [
    {
     "data": {
      "text/plain": [
       "lat               37.797264\n",
       "lon             -122.422831\n",
       "taxable_value      0.532228\n",
       "grocery            0.309169\n",
       "restaurant         0.737073\n",
       "retail             0.590997\n",
       "ncrimes            0.035251\n",
       "sgnf               0.785415\n",
       "avg_hh_size       -0.293088\n",
       "population         1.775799\n",
       "walkscore          0.944246\n",
       "group             -1.000000\n",
       "Name: 5911, dtype: float64"
      ]
     },
     "execution_count": 161,
     "metadata": {},
     "output_type": "execute_result"
    }
   ],
   "source": [
    "dfsm.ix[5911]"
   ]
  },
  {
   "cell_type": "code",
   "execution_count": 160,
   "metadata": {
    "collapsed": false
   },
   "outputs": [
    {
     "data": {
      "text/plain": [
       "group       0.000000\n",
       "node     3043.000000\n",
       "dist        1.127332\n",
       "Name: 45, dtype: float64"
      ]
     },
     "execution_count": 160,
     "metadata": {},
     "output_type": "execute_result"
    }
   ],
   "source": [
    "bestmatch"
   ]
  },
  {
   "cell_type": "code",
   "execution_count": 164,
   "metadata": {
    "collapsed": false
   },
   "outputs": [
    {
     "data": {
      "text/plain": [
       "True"
      ]
     },
     "execution_count": 164,
     "metadata": {},
     "output_type": "execute_result"
    }
   ],
   "source": [
    "3043 in groupednodes"
   ]
  },
  {
   "cell_type": "code",
   "execution_count": 101,
   "metadata": {
    "collapsed": false
   },
   "outputs": [
    {
     "data": {
      "text/plain": [
       "True"
      ]
     },
     "execution_count": 101,
     "metadata": {},
     "output_type": "execute_result"
    }
   ],
   "source": [
    "-1 in dfsm.group.values"
   ]
  },
  {
   "cell_type": "code",
   "execution_count": 146,
   "metadata": {
    "collapsed": false
   },
   "outputs": [
    {
     "name": "stdout",
     "output_type": "stream",
     "text": [
      "740\n",
      "69\n",
      "(69, 2)\n",
      "(96, 3)\n"
     ]
    },
    {
     "data": {
      "text/plain": [
       "group       1.000000\n",
       "node     3327.000000\n",
       "dist        3.999672\n",
       "Name: 93, dtype: float64"
      ]
     },
     "execution_count": 146,
     "metadata": {},
     "output_type": "execute_result"
    }
   ],
   "source": [
    "print len(groupednodes)\n",
    "print len(neibnodes)\n",
    "print newrows.shape\n",
    "print dist.shape\n",
    "bestmatch"
   ]
  },
  {
   "cell_type": "code",
   "execution_count": 152,
   "metadata": {
    "collapsed": false
   },
   "outputs": [
    {
     "data": {
      "text/plain": [
       "51"
      ]
     },
     "execution_count": 152,
     "metadata": {},
     "output_type": "execute_result"
    }
   ],
   "source": [
    "len([i for i in newrows.node if i in dfsm.ix[dfsm.group == -1].index.values])"
   ]
  },
  {
   "cell_type": "code",
   "execution_count": 153,
   "metadata": {
    "collapsed": false
   },
   "outputs": [
    {
     "name": "stdout",
     "output_type": "stream",
     "text": [
      "<class 'pandas.core.frame.DataFrame'>\n",
      "Int64Index: 69 entries, 0 to 68\n",
      "Data columns (total 2 columns):\n",
      "group    69 non-null float64\n",
      "node     69 non-null int64\n",
      "dtypes: float64(1), int64(1)\n",
      "memory usage: 1.6 KB\n"
     ]
    }
   ],
   "source": [
    "newrows.info()"
   ]
  },
  {
   "cell_type": "code",
   "execution_count": 132,
   "metadata": {
    "collapsed": false
   },
   "outputs": [
    {
     "data": {
      "text/plain": [
       "(96, 3)"
      ]
     },
     "execution_count": 132,
     "metadata": {},
     "output_type": "execute_result"
    }
   ],
   "source": []
  },
  {
   "cell_type": "code",
   "execution_count": 168,
   "metadata": {
    "collapsed": false
   },
   "outputs": [
    {
     "data": {
      "text/html": [
       "<div>\n",
       "<table border=\"1\" class=\"dataframe\">\n",
       "  <thead>\n",
       "    <tr style=\"text-align: right;\">\n",
       "      <th></th>\n",
       "      <th>lat</th>\n",
       "      <th>lon</th>\n",
       "      <th>taxable_value</th>\n",
       "      <th>grocery</th>\n",
       "      <th>restaurant</th>\n",
       "      <th>retail</th>\n",
       "      <th>ncrimes</th>\n",
       "      <th>sgnf</th>\n",
       "      <th>avg_hh_size</th>\n",
       "      <th>population</th>\n",
       "      <th>walkscore</th>\n",
       "    </tr>\n",
       "    <tr>\n",
       "      <th>group</th>\n",
       "      <th></th>\n",
       "      <th></th>\n",
       "      <th></th>\n",
       "      <th></th>\n",
       "      <th></th>\n",
       "      <th></th>\n",
       "      <th></th>\n",
       "      <th></th>\n",
       "      <th></th>\n",
       "      <th></th>\n",
       "      <th></th>\n",
       "    </tr>\n",
       "  </thead>\n",
       "  <tbody>\n",
       "    <tr>\n",
       "      <th>-1</th>\n",
       "      <td>13</td>\n",
       "      <td>13</td>\n",
       "      <td>13</td>\n",
       "      <td>13</td>\n",
       "      <td>13</td>\n",
       "      <td>13</td>\n",
       "      <td>13</td>\n",
       "      <td>13</td>\n",
       "      <td>13</td>\n",
       "      <td>13</td>\n",
       "      <td>13</td>\n",
       "    </tr>\n",
       "    <tr>\n",
       "      <th>0</th>\n",
       "      <td>233</td>\n",
       "      <td>233</td>\n",
       "      <td>233</td>\n",
       "      <td>233</td>\n",
       "      <td>233</td>\n",
       "      <td>233</td>\n",
       "      <td>233</td>\n",
       "      <td>233</td>\n",
       "      <td>233</td>\n",
       "      <td>233</td>\n",
       "      <td>233</td>\n",
       "    </tr>\n",
       "    <tr>\n",
       "      <th>1</th>\n",
       "      <td>253</td>\n",
       "      <td>253</td>\n",
       "      <td>253</td>\n",
       "      <td>253</td>\n",
       "      <td>253</td>\n",
       "      <td>253</td>\n",
       "      <td>253</td>\n",
       "      <td>253</td>\n",
       "      <td>253</td>\n",
       "      <td>253</td>\n",
       "      <td>253</td>\n",
       "    </tr>\n",
       "    <tr>\n",
       "      <th>2</th>\n",
       "      <td>294</td>\n",
       "      <td>294</td>\n",
       "      <td>294</td>\n",
       "      <td>294</td>\n",
       "      <td>294</td>\n",
       "      <td>294</td>\n",
       "      <td>294</td>\n",
       "      <td>294</td>\n",
       "      <td>294</td>\n",
       "      <td>294</td>\n",
       "      <td>294</td>\n",
       "    </tr>\n",
       "    <tr>\n",
       "      <th>3</th>\n",
       "      <td>124</td>\n",
       "      <td>124</td>\n",
       "      <td>124</td>\n",
       "      <td>124</td>\n",
       "      <td>124</td>\n",
       "      <td>124</td>\n",
       "      <td>124</td>\n",
       "      <td>124</td>\n",
       "      <td>124</td>\n",
       "      <td>124</td>\n",
       "      <td>124</td>\n",
       "    </tr>\n",
       "  </tbody>\n",
       "</table>\n",
       "</div>"
      ],
      "text/plain": [
       "       lat  lon  taxable_value  grocery  restaurant  retail  ncrimes  sgnf  \\\n",
       "group                                                                        \n",
       "-1      13   13             13       13          13      13       13    13   \n",
       " 0     233  233            233      233         233     233      233   233   \n",
       " 1     253  253            253      253         253     253      253   253   \n",
       " 2     294  294            294      294         294     294      294   294   \n",
       " 3     124  124            124      124         124     124      124   124   \n",
       "\n",
       "       avg_hh_size  population  walkscore  \n",
       "group                                      \n",
       "-1              13          13         13  \n",
       " 0             233         233        233  \n",
       " 1             253         253        253  \n",
       " 2             294         294        294  \n",
       " 3             124         124        124  "
      ]
     },
     "execution_count": 168,
     "metadata": {},
     "output_type": "execute_result"
    }
   ],
   "source": [
    "dfsm.groupby('group').count()"
   ]
  },
  {
   "cell_type": "code",
   "execution_count": 144,
   "metadata": {
    "collapsed": false
   },
   "outputs": [
    {
     "data": {
      "text/html": [
       "<div>\n",
       "<table border=\"1\" class=\"dataframe\">\n",
       "  <thead>\n",
       "    <tr style=\"text-align: right;\">\n",
       "      <th></th>\n",
       "      <th>lat</th>\n",
       "      <th>lon</th>\n",
       "      <th>taxable_value</th>\n",
       "      <th>grocery</th>\n",
       "      <th>restaurant</th>\n",
       "      <th>retail</th>\n",
       "      <th>ncrimes</th>\n",
       "      <th>sgnf</th>\n",
       "      <th>avg_hh_size</th>\n",
       "      <th>population</th>\n",
       "      <th>walkscore</th>\n",
       "    </tr>\n",
       "    <tr>\n",
       "      <th>group</th>\n",
       "      <th></th>\n",
       "      <th></th>\n",
       "      <th></th>\n",
       "      <th></th>\n",
       "      <th></th>\n",
       "      <th></th>\n",
       "      <th></th>\n",
       "      <th></th>\n",
       "      <th></th>\n",
       "      <th></th>\n",
       "      <th></th>\n",
       "    </tr>\n",
       "  </thead>\n",
       "  <tbody>\n",
       "    <tr>\n",
       "      <th>-1</th>\n",
       "      <td>37.787866</td>\n",
       "      <td>-122.408950</td>\n",
       "      <td>0.783035</td>\n",
       "      <td>2.321332</td>\n",
       "      <td>2.728435</td>\n",
       "      <td>3.357528</td>\n",
       "      <td>4.392747</td>\n",
       "      <td>-0.243311</td>\n",
       "      <td>-0.853598</td>\n",
       "      <td>1.980840</td>\n",
       "      <td>0.829121</td>\n",
       "    </tr>\n",
       "    <tr>\n",
       "      <th>0</th>\n",
       "      <td>37.797314</td>\n",
       "      <td>-122.406300</td>\n",
       "      <td>0.640491</td>\n",
       "      <td>6.701643</td>\n",
       "      <td>4.819098</td>\n",
       "      <td>3.898163</td>\n",
       "      <td>0.923433</td>\n",
       "      <td>0.598391</td>\n",
       "      <td>-0.197378</td>\n",
       "      <td>0.778707</td>\n",
       "      <td>1.052843</td>\n",
       "    </tr>\n",
       "    <tr>\n",
       "      <th>1</th>\n",
       "      <td>37.794206</td>\n",
       "      <td>-122.411475</td>\n",
       "      <td>0.763076</td>\n",
       "      <td>0.866726</td>\n",
       "      <td>0.800069</td>\n",
       "      <td>1.263166</td>\n",
       "      <td>0.540006</td>\n",
       "      <td>-0.033273</td>\n",
       "      <td>-0.810767</td>\n",
       "      <td>0.817526</td>\n",
       "      <td>0.807635</td>\n",
       "    </tr>\n",
       "  </tbody>\n",
       "</table>\n",
       "</div>"
      ],
      "text/plain": [
       "             lat         lon  taxable_value   grocery  restaurant    retail  \\\n",
       "group                                                                         \n",
       "-1     37.787866 -122.408950       0.783035  2.321332    2.728435  3.357528   \n",
       " 0     37.797314 -122.406300       0.640491  6.701643    4.819098  3.898163   \n",
       " 1     37.794206 -122.411475       0.763076  0.866726    0.800069  1.263166   \n",
       "\n",
       "        ncrimes      sgnf  avg_hh_size  population  walkscore  \n",
       "group                                                          \n",
       "-1     4.392747 -0.243311    -0.853598    1.980840   0.829121  \n",
       " 0     0.923433  0.598391    -0.197378    0.778707   1.052843  \n",
       " 1     0.540006 -0.033273    -0.810767    0.817526   0.807635  "
      ]
     },
     "execution_count": 144,
     "metadata": {},
     "output_type": "execute_result"
    }
   ],
   "source": [
    "dfsm.groupby('group').mean()"
   ]
  }
 ],
 "metadata": {
  "kernelspec": {
   "display_name": "Python 2",
   "language": "python",
   "name": "python2"
  },
  "language_info": {
   "codemirror_mode": {
    "name": "ipython",
    "version": 2
   },
   "file_extension": ".py",
   "mimetype": "text/x-python",
   "name": "python",
   "nbconvert_exporter": "python",
   "pygments_lexer": "ipython2",
   "version": "2.7.10"
  }
 },
 "nbformat": 4,
 "nbformat_minor": 0
}
